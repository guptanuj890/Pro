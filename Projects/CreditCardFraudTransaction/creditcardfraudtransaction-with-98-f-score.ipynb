{
 "cells": [
  {
   "cell_type": "code",
   "execution_count": 1,
   "id": "f8e0a22e",
   "metadata": {
    "execution": {
     "iopub.execute_input": "2024-03-23T18:01:07.487350Z",
     "iopub.status.busy": "2024-03-23T18:01:07.486569Z",
     "iopub.status.idle": "2024-03-23T18:01:10.022139Z",
     "shell.execute_reply": "2024-03-23T18:01:10.020725Z"
    },
    "papermill": {
     "duration": 2.555168,
     "end_time": "2024-03-23T18:01:10.025019",
     "exception": false,
     "start_time": "2024-03-23T18:01:07.469851",
     "status": "completed"
    },
    "tags": []
   },
   "outputs": [],
   "source": [
    "import pandas as pd\n",
    "import numpy as np\n",
    "import matplotlib.pyplot as plt\n",
    "import seaborn as sns"
   ]
  },
  {
   "cell_type": "code",
   "execution_count": 2,
   "id": "2f944837",
   "metadata": {
    "execution": {
     "iopub.execute_input": "2024-03-23T18:01:10.054801Z",
     "iopub.status.busy": "2024-03-23T18:01:10.054281Z",
     "iopub.status.idle": "2024-03-23T18:01:15.918783Z",
     "shell.execute_reply": "2024-03-23T18:01:15.917537Z"
    },
    "papermill": {
     "duration": 5.882789,
     "end_time": "2024-03-23T18:01:15.922027",
     "exception": false,
     "start_time": "2024-03-23T18:01:10.039238",
     "status": "completed"
    },
    "tags": []
   },
   "outputs": [],
   "source": [
    "df = pd.read_csv('/kaggle/input/credit-card-fraud-prediction/fraud test.csv')"
   ]
  },
  {
   "cell_type": "code",
   "execution_count": 3,
   "id": "03c7c379",
   "metadata": {
    "execution": {
     "iopub.execute_input": "2024-03-23T18:01:15.952853Z",
     "iopub.status.busy": "2024-03-23T18:01:15.952451Z",
     "iopub.status.idle": "2024-03-23T18:01:15.997985Z",
     "shell.execute_reply": "2024-03-23T18:01:15.996571Z"
    },
    "papermill": {
     "duration": 0.064614,
     "end_time": "2024-03-23T18:01:16.000812",
     "exception": false,
     "start_time": "2024-03-23T18:01:15.936198",
     "status": "completed"
    },
    "tags": []
   },
   "outputs": [
    {
     "data": {
      "text/html": [
       "<div>\n",
       "<style scoped>\n",
       "    .dataframe tbody tr th:only-of-type {\n",
       "        vertical-align: middle;\n",
       "    }\n",
       "\n",
       "    .dataframe tbody tr th {\n",
       "        vertical-align: top;\n",
       "    }\n",
       "\n",
       "    .dataframe thead th {\n",
       "        text-align: right;\n",
       "    }\n",
       "</style>\n",
       "<table border=\"1\" class=\"dataframe\">\n",
       "  <thead>\n",
       "    <tr style=\"text-align: right;\">\n",
       "      <th></th>\n",
       "      <th>Unnamed: 0</th>\n",
       "      <th>trans_date_trans_time</th>\n",
       "      <th>cc_num</th>\n",
       "      <th>merchant</th>\n",
       "      <th>category</th>\n",
       "      <th>amt</th>\n",
       "      <th>first</th>\n",
       "      <th>last</th>\n",
       "      <th>gender</th>\n",
       "      <th>street</th>\n",
       "      <th>...</th>\n",
       "      <th>lat</th>\n",
       "      <th>long</th>\n",
       "      <th>city_pop</th>\n",
       "      <th>job</th>\n",
       "      <th>dob</th>\n",
       "      <th>trans_num</th>\n",
       "      <th>unix_time</th>\n",
       "      <th>merch_lat</th>\n",
       "      <th>merch_long</th>\n",
       "      <th>is_fraud</th>\n",
       "    </tr>\n",
       "  </thead>\n",
       "  <tbody>\n",
       "    <tr>\n",
       "      <th>0</th>\n",
       "      <td>0</td>\n",
       "      <td>21/06/2020 12:14</td>\n",
       "      <td>2.291160e+15</td>\n",
       "      <td>fraud_Kirlin and Sons</td>\n",
       "      <td>personal_care</td>\n",
       "      <td>2.86</td>\n",
       "      <td>Jeff</td>\n",
       "      <td>Elliott</td>\n",
       "      <td>M</td>\n",
       "      <td>351 Darlene Green</td>\n",
       "      <td>...</td>\n",
       "      <td>33.9659</td>\n",
       "      <td>-80.9355</td>\n",
       "      <td>333497</td>\n",
       "      <td>Mechanical engineer</td>\n",
       "      <td>19/03/1968</td>\n",
       "      <td>2da90c7d74bd46a0caf3777415b3ebd3</td>\n",
       "      <td>1371816865</td>\n",
       "      <td>33.986391</td>\n",
       "      <td>-81.200714</td>\n",
       "      <td>0</td>\n",
       "    </tr>\n",
       "    <tr>\n",
       "      <th>1</th>\n",
       "      <td>1</td>\n",
       "      <td>21/06/2020 12:14</td>\n",
       "      <td>3.573030e+15</td>\n",
       "      <td>fraud_Sporer-Keebler</td>\n",
       "      <td>personal_care</td>\n",
       "      <td>29.84</td>\n",
       "      <td>Joanne</td>\n",
       "      <td>Williams</td>\n",
       "      <td>F</td>\n",
       "      <td>3638 Marsh Union</td>\n",
       "      <td>...</td>\n",
       "      <td>40.3207</td>\n",
       "      <td>-110.4360</td>\n",
       "      <td>302</td>\n",
       "      <td>Sales professional, IT</td>\n",
       "      <td>17/01/1990</td>\n",
       "      <td>324cc204407e99f51b0d6ca0055005e7</td>\n",
       "      <td>1371816873</td>\n",
       "      <td>39.450498</td>\n",
       "      <td>-109.960431</td>\n",
       "      <td>0</td>\n",
       "    </tr>\n",
       "    <tr>\n",
       "      <th>2</th>\n",
       "      <td>2</td>\n",
       "      <td>21/06/2020 12:14</td>\n",
       "      <td>3.598220e+15</td>\n",
       "      <td>fraud_Swaniawski, Nitzsche and Welch</td>\n",
       "      <td>health_fitness</td>\n",
       "      <td>41.28</td>\n",
       "      <td>Ashley</td>\n",
       "      <td>Lopez</td>\n",
       "      <td>F</td>\n",
       "      <td>9333 Valentine Point</td>\n",
       "      <td>...</td>\n",
       "      <td>40.6729</td>\n",
       "      <td>-73.5365</td>\n",
       "      <td>34496</td>\n",
       "      <td>Librarian, public</td>\n",
       "      <td>21/10/1970</td>\n",
       "      <td>c81755dbbbea9d5c77f094348a7579be</td>\n",
       "      <td>1371816893</td>\n",
       "      <td>40.495810</td>\n",
       "      <td>-74.196111</td>\n",
       "      <td>0</td>\n",
       "    </tr>\n",
       "    <tr>\n",
       "      <th>3</th>\n",
       "      <td>3</td>\n",
       "      <td>21/06/2020 12:15</td>\n",
       "      <td>3.591920e+15</td>\n",
       "      <td>fraud_Haley Group</td>\n",
       "      <td>misc_pos</td>\n",
       "      <td>60.05</td>\n",
       "      <td>Brian</td>\n",
       "      <td>Williams</td>\n",
       "      <td>M</td>\n",
       "      <td>32941 Krystal Mill Apt. 552</td>\n",
       "      <td>...</td>\n",
       "      <td>28.5697</td>\n",
       "      <td>-80.8191</td>\n",
       "      <td>54767</td>\n",
       "      <td>Set designer</td>\n",
       "      <td>25/07/1987</td>\n",
       "      <td>2159175b9efe66dc301f149d3d5abf8c</td>\n",
       "      <td>1371816915</td>\n",
       "      <td>28.812398</td>\n",
       "      <td>-80.883061</td>\n",
       "      <td>0</td>\n",
       "    </tr>\n",
       "    <tr>\n",
       "      <th>4</th>\n",
       "      <td>4</td>\n",
       "      <td>21/06/2020 12:15</td>\n",
       "      <td>3.526830e+15</td>\n",
       "      <td>fraud_Johnston-Casper</td>\n",
       "      <td>travel</td>\n",
       "      <td>3.19</td>\n",
       "      <td>Nathan</td>\n",
       "      <td>Massey</td>\n",
       "      <td>M</td>\n",
       "      <td>5783 Evan Roads Apt. 465</td>\n",
       "      <td>...</td>\n",
       "      <td>44.2529</td>\n",
       "      <td>-85.0170</td>\n",
       "      <td>1126</td>\n",
       "      <td>Furniture designer</td>\n",
       "      <td>06/07/1955</td>\n",
       "      <td>57ff021bd3f328f8738bb535c302a31b</td>\n",
       "      <td>1371816917</td>\n",
       "      <td>44.959148</td>\n",
       "      <td>-85.884734</td>\n",
       "      <td>0</td>\n",
       "    </tr>\n",
       "  </tbody>\n",
       "</table>\n",
       "<p>5 rows × 23 columns</p>\n",
       "</div>"
      ],
      "text/plain": [
       "   Unnamed: 0 trans_date_trans_time        cc_num  \\\n",
       "0           0      21/06/2020 12:14  2.291160e+15   \n",
       "1           1      21/06/2020 12:14  3.573030e+15   \n",
       "2           2      21/06/2020 12:14  3.598220e+15   \n",
       "3           3      21/06/2020 12:15  3.591920e+15   \n",
       "4           4      21/06/2020 12:15  3.526830e+15   \n",
       "\n",
       "                               merchant        category    amt   first  \\\n",
       "0                 fraud_Kirlin and Sons   personal_care   2.86    Jeff   \n",
       "1                  fraud_Sporer-Keebler   personal_care  29.84  Joanne   \n",
       "2  fraud_Swaniawski, Nitzsche and Welch  health_fitness  41.28  Ashley   \n",
       "3                     fraud_Haley Group        misc_pos  60.05   Brian   \n",
       "4                 fraud_Johnston-Casper          travel   3.19  Nathan   \n",
       "\n",
       "       last gender                       street  ...      lat      long  \\\n",
       "0   Elliott      M            351 Darlene Green  ...  33.9659  -80.9355   \n",
       "1  Williams      F             3638 Marsh Union  ...  40.3207 -110.4360   \n",
       "2     Lopez      F         9333 Valentine Point  ...  40.6729  -73.5365   \n",
       "3  Williams      M  32941 Krystal Mill Apt. 552  ...  28.5697  -80.8191   \n",
       "4    Massey      M     5783 Evan Roads Apt. 465  ...  44.2529  -85.0170   \n",
       "\n",
       "   city_pop                     job         dob  \\\n",
       "0    333497     Mechanical engineer  19/03/1968   \n",
       "1       302  Sales professional, IT  17/01/1990   \n",
       "2     34496       Librarian, public  21/10/1970   \n",
       "3     54767            Set designer  25/07/1987   \n",
       "4      1126      Furniture designer  06/07/1955   \n",
       "\n",
       "                          trans_num   unix_time  merch_lat  merch_long  \\\n",
       "0  2da90c7d74bd46a0caf3777415b3ebd3  1371816865  33.986391  -81.200714   \n",
       "1  324cc204407e99f51b0d6ca0055005e7  1371816873  39.450498 -109.960431   \n",
       "2  c81755dbbbea9d5c77f094348a7579be  1371816893  40.495810  -74.196111   \n",
       "3  2159175b9efe66dc301f149d3d5abf8c  1371816915  28.812398  -80.883061   \n",
       "4  57ff021bd3f328f8738bb535c302a31b  1371816917  44.959148  -85.884734   \n",
       "\n",
       "   is_fraud  \n",
       "0         0  \n",
       "1         0  \n",
       "2         0  \n",
       "3         0  \n",
       "4         0  \n",
       "\n",
       "[5 rows x 23 columns]"
      ]
     },
     "execution_count": 3,
     "metadata": {},
     "output_type": "execute_result"
    }
   ],
   "source": [
    "df.head()"
   ]
  },
  {
   "cell_type": "code",
   "execution_count": 4,
   "id": "511274c3",
   "metadata": {
    "execution": {
     "iopub.execute_input": "2024-03-23T18:01:16.032981Z",
     "iopub.status.busy": "2024-03-23T18:01:16.032598Z",
     "iopub.status.idle": "2024-03-23T18:01:16.040563Z",
     "shell.execute_reply": "2024-03-23T18:01:16.039190Z"
    },
    "papermill": {
     "duration": 0.027778,
     "end_time": "2024-03-23T18:01:16.043250",
     "exception": false,
     "start_time": "2024-03-23T18:01:16.015472",
     "status": "completed"
    },
    "tags": []
   },
   "outputs": [
    {
     "data": {
      "text/plain": [
       "(555719, 23)"
      ]
     },
     "execution_count": 4,
     "metadata": {},
     "output_type": "execute_result"
    }
   ],
   "source": [
    "df.shape"
   ]
  },
  {
   "cell_type": "code",
   "execution_count": 5,
   "id": "28919b78",
   "metadata": {
    "execution": {
     "iopub.execute_input": "2024-03-23T18:01:16.073912Z",
     "iopub.status.busy": "2024-03-23T18:01:16.073442Z",
     "iopub.status.idle": "2024-03-23T18:01:16.081441Z",
     "shell.execute_reply": "2024-03-23T18:01:16.080522Z"
    },
    "papermill": {
     "duration": 0.026092,
     "end_time": "2024-03-23T18:01:16.083637",
     "exception": false,
     "start_time": "2024-03-23T18:01:16.057545",
     "status": "completed"
    },
    "tags": []
   },
   "outputs": [
    {
     "data": {
      "text/plain": [
       "Index(['Unnamed: 0', 'trans_date_trans_time', 'cc_num', 'merchant', 'category',\n",
       "       'amt', 'first', 'last', 'gender', 'street', 'city', 'state', 'zip',\n",
       "       'lat', 'long', 'city_pop', 'job', 'dob', 'trans_num', 'unix_time',\n",
       "       'merch_lat', 'merch_long', 'is_fraud'],\n",
       "      dtype='object')"
      ]
     },
     "execution_count": 5,
     "metadata": {},
     "output_type": "execute_result"
    }
   ],
   "source": [
    "df.columns"
   ]
  },
  {
   "cell_type": "code",
   "execution_count": 6,
   "id": "77f0e466",
   "metadata": {
    "execution": {
     "iopub.execute_input": "2024-03-23T18:01:16.115158Z",
     "iopub.status.busy": "2024-03-23T18:01:16.114704Z",
     "iopub.status.idle": "2024-03-23T18:01:16.851737Z",
     "shell.execute_reply": "2024-03-23T18:01:16.850460Z"
    },
    "papermill": {
     "duration": 0.756535,
     "end_time": "2024-03-23T18:01:16.854500",
     "exception": false,
     "start_time": "2024-03-23T18:01:16.097965",
     "status": "completed"
    },
    "tags": []
   },
   "outputs": [
    {
     "data": {
      "text/plain": [
       "Unnamed: 0               0\n",
       "trans_date_trans_time    0\n",
       "cc_num                   0\n",
       "merchant                 0\n",
       "category                 0\n",
       "amt                      0\n",
       "first                    0\n",
       "last                     0\n",
       "gender                   0\n",
       "street                   0\n",
       "city                     0\n",
       "state                    0\n",
       "zip                      0\n",
       "lat                      0\n",
       "long                     0\n",
       "city_pop                 0\n",
       "job                      0\n",
       "dob                      0\n",
       "trans_num                0\n",
       "unix_time                0\n",
       "merch_lat                0\n",
       "merch_long               0\n",
       "is_fraud                 0\n",
       "dtype: int64"
      ]
     },
     "execution_count": 6,
     "metadata": {},
     "output_type": "execute_result"
    }
   ],
   "source": [
    "df.isna().sum()"
   ]
  },
  {
   "cell_type": "code",
   "execution_count": 7,
   "id": "27d3b837",
   "metadata": {
    "execution": {
     "iopub.execute_input": "2024-03-23T18:01:16.886186Z",
     "iopub.status.busy": "2024-03-23T18:01:16.885519Z",
     "iopub.status.idle": "2024-03-23T18:01:18.144657Z",
     "shell.execute_reply": "2024-03-23T18:01:18.143748Z"
    },
    "papermill": {
     "duration": 1.277952,
     "end_time": "2024-03-23T18:01:18.146989",
     "exception": false,
     "start_time": "2024-03-23T18:01:16.869037",
     "status": "completed"
    },
    "tags": []
   },
   "outputs": [
    {
     "data": {
      "text/plain": [
       "0"
      ]
     },
     "execution_count": 7,
     "metadata": {},
     "output_type": "execute_result"
    }
   ],
   "source": [
    "df.duplicated().sum()"
   ]
  },
  {
   "cell_type": "code",
   "execution_count": 8,
   "id": "2cce9570",
   "metadata": {
    "execution": {
     "iopub.execute_input": "2024-03-23T18:01:18.181976Z",
     "iopub.status.busy": "2024-03-23T18:01:18.180928Z",
     "iopub.status.idle": "2024-03-23T18:01:18.189019Z",
     "shell.execute_reply": "2024-03-23T18:01:18.188262Z"
    },
    "papermill": {
     "duration": 0.028936,
     "end_time": "2024-03-23T18:01:18.191297",
     "exception": false,
     "start_time": "2024-03-23T18:01:18.162361",
     "status": "completed"
    },
    "tags": []
   },
   "outputs": [
    {
     "data": {
      "text/plain": [
       "Unnamed: 0                 int64\n",
       "trans_date_trans_time     object\n",
       "cc_num                   float64\n",
       "merchant                  object\n",
       "category                  object\n",
       "amt                      float64\n",
       "first                     object\n",
       "last                      object\n",
       "gender                    object\n",
       "street                    object\n",
       "city                      object\n",
       "state                     object\n",
       "zip                        int64\n",
       "lat                      float64\n",
       "long                     float64\n",
       "city_pop                   int64\n",
       "job                       object\n",
       "dob                       object\n",
       "trans_num                 object\n",
       "unix_time                  int64\n",
       "merch_lat                float64\n",
       "merch_long               float64\n",
       "is_fraud                   int64\n",
       "dtype: object"
      ]
     },
     "execution_count": 8,
     "metadata": {},
     "output_type": "execute_result"
    }
   ],
   "source": [
    "df.dtypes"
   ]
  },
  {
   "cell_type": "code",
   "execution_count": 9,
   "id": "97a90a81",
   "metadata": {
    "execution": {
     "iopub.execute_input": "2024-03-23T18:01:18.224500Z",
     "iopub.status.busy": "2024-03-23T18:01:18.223859Z",
     "iopub.status.idle": "2024-03-23T18:01:18.474878Z",
     "shell.execute_reply": "2024-03-23T18:01:18.474036Z"
    },
    "papermill": {
     "duration": 0.270356,
     "end_time": "2024-03-23T18:01:18.477128",
     "exception": false,
     "start_time": "2024-03-23T18:01:18.206772",
     "status": "completed"
    },
    "tags": []
   },
   "outputs": [
    {
     "data": {
      "text/html": [
       "<div>\n",
       "<style scoped>\n",
       "    .dataframe tbody tr th:only-of-type {\n",
       "        vertical-align: middle;\n",
       "    }\n",
       "\n",
       "    .dataframe tbody tr th {\n",
       "        vertical-align: top;\n",
       "    }\n",
       "\n",
       "    .dataframe thead th {\n",
       "        text-align: right;\n",
       "    }\n",
       "</style>\n",
       "<table border=\"1\" class=\"dataframe\">\n",
       "  <thead>\n",
       "    <tr style=\"text-align: right;\">\n",
       "      <th></th>\n",
       "      <th>Unnamed: 0</th>\n",
       "      <th>cc_num</th>\n",
       "      <th>amt</th>\n",
       "      <th>zip</th>\n",
       "      <th>lat</th>\n",
       "      <th>long</th>\n",
       "      <th>city_pop</th>\n",
       "      <th>unix_time</th>\n",
       "      <th>merch_lat</th>\n",
       "      <th>merch_long</th>\n",
       "      <th>is_fraud</th>\n",
       "    </tr>\n",
       "  </thead>\n",
       "  <tbody>\n",
       "    <tr>\n",
       "      <th>count</th>\n",
       "      <td>555719.000000</td>\n",
       "      <td>5.557190e+05</td>\n",
       "      <td>555719.000000</td>\n",
       "      <td>555719.000000</td>\n",
       "      <td>555719.000000</td>\n",
       "      <td>555719.000000</td>\n",
       "      <td>5.557190e+05</td>\n",
       "      <td>5.557190e+05</td>\n",
       "      <td>555719.000000</td>\n",
       "      <td>555719.000000</td>\n",
       "      <td>555719.000000</td>\n",
       "    </tr>\n",
       "    <tr>\n",
       "      <th>mean</th>\n",
       "      <td>277859.000000</td>\n",
       "      <td>4.178387e+17</td>\n",
       "      <td>69.392810</td>\n",
       "      <td>48842.628015</td>\n",
       "      <td>38.543253</td>\n",
       "      <td>-90.231325</td>\n",
       "      <td>8.822189e+04</td>\n",
       "      <td>1.380679e+09</td>\n",
       "      <td>38.542798</td>\n",
       "      <td>-90.231380</td>\n",
       "      <td>0.003860</td>\n",
       "    </tr>\n",
       "    <tr>\n",
       "      <th>std</th>\n",
       "      <td>160422.401459</td>\n",
       "      <td>1.309837e+18</td>\n",
       "      <td>156.745941</td>\n",
       "      <td>26855.283328</td>\n",
       "      <td>5.061336</td>\n",
       "      <td>13.721780</td>\n",
       "      <td>3.003909e+05</td>\n",
       "      <td>5.201104e+06</td>\n",
       "      <td>5.095829</td>\n",
       "      <td>13.733071</td>\n",
       "      <td>0.062008</td>\n",
       "    </tr>\n",
       "    <tr>\n",
       "      <th>min</th>\n",
       "      <td>0.000000</td>\n",
       "      <td>6.041621e+10</td>\n",
       "      <td>1.000000</td>\n",
       "      <td>1257.000000</td>\n",
       "      <td>20.027100</td>\n",
       "      <td>-165.672300</td>\n",
       "      <td>2.300000e+01</td>\n",
       "      <td>1.371817e+09</td>\n",
       "      <td>19.027422</td>\n",
       "      <td>-166.671575</td>\n",
       "      <td>0.000000</td>\n",
       "    </tr>\n",
       "    <tr>\n",
       "      <th>25%</th>\n",
       "      <td>138929.500000</td>\n",
       "      <td>1.800430e+14</td>\n",
       "      <td>9.630000</td>\n",
       "      <td>26292.000000</td>\n",
       "      <td>34.668900</td>\n",
       "      <td>-96.798000</td>\n",
       "      <td>7.410000e+02</td>\n",
       "      <td>1.376029e+09</td>\n",
       "      <td>34.755302</td>\n",
       "      <td>-96.905129</td>\n",
       "      <td>0.000000</td>\n",
       "    </tr>\n",
       "    <tr>\n",
       "      <th>50%</th>\n",
       "      <td>277859.000000</td>\n",
       "      <td>3.521420e+15</td>\n",
       "      <td>47.290000</td>\n",
       "      <td>48174.000000</td>\n",
       "      <td>39.371600</td>\n",
       "      <td>-87.476900</td>\n",
       "      <td>2.408000e+03</td>\n",
       "      <td>1.380762e+09</td>\n",
       "      <td>39.376593</td>\n",
       "      <td>-87.445204</td>\n",
       "      <td>0.000000</td>\n",
       "    </tr>\n",
       "    <tr>\n",
       "      <th>75%</th>\n",
       "      <td>416788.500000</td>\n",
       "      <td>4.635330e+15</td>\n",
       "      <td>83.010000</td>\n",
       "      <td>72011.000000</td>\n",
       "      <td>41.894800</td>\n",
       "      <td>-80.175200</td>\n",
       "      <td>1.968500e+04</td>\n",
       "      <td>1.385867e+09</td>\n",
       "      <td>41.954163</td>\n",
       "      <td>-80.264637</td>\n",
       "      <td>0.000000</td>\n",
       "    </tr>\n",
       "    <tr>\n",
       "      <th>max</th>\n",
       "      <td>555718.000000</td>\n",
       "      <td>4.992350e+18</td>\n",
       "      <td>22768.110000</td>\n",
       "      <td>99921.000000</td>\n",
       "      <td>65.689900</td>\n",
       "      <td>-67.950300</td>\n",
       "      <td>2.906700e+06</td>\n",
       "      <td>1.388534e+09</td>\n",
       "      <td>66.679297</td>\n",
       "      <td>-66.952026</td>\n",
       "      <td>1.000000</td>\n",
       "    </tr>\n",
       "  </tbody>\n",
       "</table>\n",
       "</div>"
      ],
      "text/plain": [
       "          Unnamed: 0        cc_num            amt            zip  \\\n",
       "count  555719.000000  5.557190e+05  555719.000000  555719.000000   \n",
       "mean   277859.000000  4.178387e+17      69.392810   48842.628015   \n",
       "std    160422.401459  1.309837e+18     156.745941   26855.283328   \n",
       "min         0.000000  6.041621e+10       1.000000    1257.000000   \n",
       "25%    138929.500000  1.800430e+14       9.630000   26292.000000   \n",
       "50%    277859.000000  3.521420e+15      47.290000   48174.000000   \n",
       "75%    416788.500000  4.635330e+15      83.010000   72011.000000   \n",
       "max    555718.000000  4.992350e+18   22768.110000   99921.000000   \n",
       "\n",
       "                 lat           long      city_pop     unix_time  \\\n",
       "count  555719.000000  555719.000000  5.557190e+05  5.557190e+05   \n",
       "mean       38.543253     -90.231325  8.822189e+04  1.380679e+09   \n",
       "std         5.061336      13.721780  3.003909e+05  5.201104e+06   \n",
       "min        20.027100    -165.672300  2.300000e+01  1.371817e+09   \n",
       "25%        34.668900     -96.798000  7.410000e+02  1.376029e+09   \n",
       "50%        39.371600     -87.476900  2.408000e+03  1.380762e+09   \n",
       "75%        41.894800     -80.175200  1.968500e+04  1.385867e+09   \n",
       "max        65.689900     -67.950300  2.906700e+06  1.388534e+09   \n",
       "\n",
       "           merch_lat     merch_long       is_fraud  \n",
       "count  555719.000000  555719.000000  555719.000000  \n",
       "mean       38.542798     -90.231380       0.003860  \n",
       "std         5.095829      13.733071       0.062008  \n",
       "min        19.027422    -166.671575       0.000000  \n",
       "25%        34.755302     -96.905129       0.000000  \n",
       "50%        39.376593     -87.445204       0.000000  \n",
       "75%        41.954163     -80.264637       0.000000  \n",
       "max        66.679297     -66.952026       1.000000  "
      ]
     },
     "execution_count": 9,
     "metadata": {},
     "output_type": "execute_result"
    }
   ],
   "source": [
    "df.describe()"
   ]
  },
  {
   "cell_type": "code",
   "execution_count": 10,
   "id": "a3fcdef0",
   "metadata": {
    "execution": {
     "iopub.execute_input": "2024-03-23T18:01:18.511013Z",
     "iopub.status.busy": "2024-03-23T18:01:18.510363Z",
     "iopub.status.idle": "2024-03-23T18:01:18.583642Z",
     "shell.execute_reply": "2024-03-23T18:01:18.582775Z"
    },
    "papermill": {
     "duration": 0.093606,
     "end_time": "2024-03-23T18:01:18.586599",
     "exception": false,
     "start_time": "2024-03-23T18:01:18.492993",
     "status": "completed"
    },
    "tags": []
   },
   "outputs": [],
   "source": [
    "df = df.drop('Unnamed: 0', axis = 1)"
   ]
  },
  {
   "cell_type": "markdown",
   "id": "f1525bd4",
   "metadata": {
    "papermill": {
     "duration": 0.015934,
     "end_time": "2024-03-23T18:01:18.618482",
     "exception": false,
     "start_time": "2024-03-23T18:01:18.602548",
     "status": "completed"
    },
    "tags": []
   },
   "source": [
    "## is_fraud"
   ]
  },
  {
   "cell_type": "code",
   "execution_count": 11,
   "id": "0442b650",
   "metadata": {
    "execution": {
     "iopub.execute_input": "2024-03-23T18:01:18.652321Z",
     "iopub.status.busy": "2024-03-23T18:01:18.651933Z",
     "iopub.status.idle": "2024-03-23T18:01:18.952538Z",
     "shell.execute_reply": "2024-03-23T18:01:18.951399Z"
    },
    "papermill": {
     "duration": 0.320635,
     "end_time": "2024-03-23T18:01:18.955248",
     "exception": false,
     "start_time": "2024-03-23T18:01:18.634613",
     "status": "completed"
    },
    "tags": []
   },
   "outputs": [
    {
     "data": {
      "text/plain": [
       "is_fraud\n",
       "0    553574\n",
       "1      2145\n",
       "Name: count, dtype: int64"
      ]
     },
     "execution_count": 11,
     "metadata": {},
     "output_type": "execute_result"
    },
    {
     "data": {
      "image/png": "[encoded data removed]",
      "text/plain": [
       "<Figure size 640x480 with 1 Axes>"
      ]
     },
     "metadata": {},
     "output_type": "display_data"
    }
   ],
   "source": [
    "sns.countplot(x = 'is_fraud', data = df)\n",
    "df['is_fraud'].value_counts()"
   ]
  },
  {
   "cell_type": "code",
   "execution_count": 12,
   "id": "4849bbb1",
   "metadata": {
    "execution": {
     "iopub.execute_input": "2024-03-23T18:01:18.988661Z",
     "iopub.status.busy": "2024-03-23T18:01:18.988249Z",
     "iopub.status.idle": "2024-03-23T18:01:20.865055Z",
     "shell.execute_reply": "2024-03-23T18:01:20.863645Z"
    },
    "papermill": {
     "duration": 1.896892,
     "end_time": "2024-03-23T18:01:20.867949",
     "exception": false,
     "start_time": "2024-03-23T18:01:18.971057",
     "status": "completed"
    },
    "tags": []
   },
   "outputs": [
    {
     "name": "stderr",
     "output_type": "stream",
     "text": [
      "/opt/conda/lib/python3.10/site-packages/seaborn/_oldcore.py:1119: FutureWarning: use_inf_as_na option is deprecated and will be removed in a future version. Convert inf values to NaN before operating instead.\n",
      "  with pd.option_context('mode.use_inf_as_na', True):\n"
     ]
    },
    {
     "data": {
      "text/plain": [
       "<Axes: xlabel='amt', ylabel='Count'>"
      ]
     },
     "execution_count": 12,
     "metadata": {},
     "output_type": "execute_result"
    },
    {
     "data": {
      "image/png": "[encoded data removed]",
      "text/plain": [
       "<Figure size 640x480 with 1 Axes>"
      ]
     },
     "metadata": {},
     "output_type": "display_data"
    }
   ],
   "source": [
    "sns.histplot(df['amt'], log_scale = True)"
   ]
  },
  {
   "cell_type": "code",
   "execution_count": 13,
   "id": "e914da4b",
   "metadata": {
    "execution": {
     "iopub.execute_input": "2024-03-23T18:01:20.903819Z",
     "iopub.status.busy": "2024-03-23T18:01:20.903453Z",
     "iopub.status.idle": "2024-03-23T18:01:22.064490Z",
     "shell.execute_reply": "2024-03-23T18:01:22.063508Z"
    },
    "papermill": {
     "duration": 1.181884,
     "end_time": "2024-03-23T18:01:22.066820",
     "exception": false,
     "start_time": "2024-03-23T18:01:20.884936",
     "status": "completed"
    },
    "tags": []
   },
   "outputs": [
    {
     "data": {
      "text/plain": [
       "<Axes: xlabel='gender', ylabel='count'>"
      ]
     },
     "execution_count": 13,
     "metadata": {},
     "output_type": "execute_result"
    },
    {
     "data": {
      "image/png": "[encoded data removed]",
      "text/plain": [
       "<Figure size 640x480 with 1 Axes>"
      ]
     },
     "metadata": {},
     "output_type": "display_data"
    }
   ],
   "source": [
    "sns.countplot(x = 'gender', data = df, hue = 'is_fraud', log = True)"
   ]
  },
  {
   "cell_type": "markdown",
   "id": "442458e3",
   "metadata": {
    "papermill": {
     "duration": 0.016548,
     "end_time": "2024-03-23T18:01:22.100234",
     "exception": false,
     "start_time": "2024-03-23T18:01:22.083686",
     "status": "completed"
    },
    "tags": []
   },
   "source": [
    "## Cleaning unwanted data"
   ]
  },
  {
   "cell_type": "code",
   "execution_count": 14,
   "id": "c7e92d64",
   "metadata": {
    "execution": {
     "iopub.execute_input": "2024-03-23T18:01:22.137706Z",
     "iopub.status.busy": "2024-03-23T18:01:22.136539Z",
     "iopub.status.idle": "2024-03-23T18:01:22.185306Z",
     "shell.execute_reply": "2024-03-23T18:01:22.183799Z"
    },
    "papermill": {
     "duration": 0.071659,
     "end_time": "2024-03-23T18:01:22.188612",
     "exception": false,
     "start_time": "2024-03-23T18:01:22.116953",
     "status": "completed"
    },
    "tags": []
   },
   "outputs": [],
   "source": [
    "df = df.drop(['trans_date_trans_time', 'cc_num', 'merchant', 'first', 'last', 'street', 'city', 'state', 'zip', 'lat', 'long', 'city_pop', 'job', 'trans_num', 'unix_time', 'merch_lat', 'merch_long'],axis = 1)"
   ]
  },
  {
   "cell_type": "code",
   "execution_count": 15,
   "id": "f0f9674d",
   "metadata": {
    "execution": {
     "iopub.execute_input": "2024-03-23T18:01:22.225704Z",
     "iopub.status.busy": "2024-03-23T18:01:22.225329Z",
     "iopub.status.idle": "2024-03-23T18:01:24.815625Z",
     "shell.execute_reply": "2024-03-23T18:01:24.814788Z"
    },
    "papermill": {
     "duration": 2.611565,
     "end_time": "2024-03-23T18:01:24.818290",
     "exception": false,
     "start_time": "2024-03-23T18:01:22.206725",
     "status": "completed"
    },
    "tags": []
   },
   "outputs": [],
   "source": [
    "from datetime import datetime\n",
    "\n",
    "df['dob'] = pd.to_datetime(df['dob'], dayfirst = True)\n",
    "current_date = datetime.now()\n",
    "df['Age'] = (current_date - df['dob']).dt.days // 365"
   ]
  },
  {
   "cell_type": "code",
   "execution_count": 16,
   "id": "9614e5e5",
   "metadata": {
    "execution": {
     "iopub.execute_input": "2024-03-23T18:01:24.854304Z",
     "iopub.status.busy": "2024-03-23T18:01:24.853832Z",
     "iopub.status.idle": "2024-03-23T18:01:24.881219Z",
     "shell.execute_reply": "2024-03-23T18:01:24.879950Z"
    },
    "papermill": {
     "duration": 0.049039,
     "end_time": "2024-03-23T18:01:24.884205",
     "exception": false,
     "start_time": "2024-03-23T18:01:24.835166",
     "status": "completed"
    },
    "tags": []
   },
   "outputs": [],
   "source": [
    "df = df.drop('dob', axis = 1)"
   ]
  },
  {
   "cell_type": "code",
   "execution_count": 17,
   "id": "1840104c",
   "metadata": {
    "execution": {
     "iopub.execute_input": "2024-03-23T18:01:24.921256Z",
     "iopub.status.busy": "2024-03-23T18:01:24.920802Z",
     "iopub.status.idle": "2024-03-23T18:01:25.157678Z",
     "shell.execute_reply": "2024-03-23T18:01:25.156296Z"
    },
    "papermill": {
     "duration": 0.258894,
     "end_time": "2024-03-23T18:01:25.160651",
     "exception": false,
     "start_time": "2024-03-23T18:01:24.901757",
     "status": "completed"
    },
    "tags": []
   },
   "outputs": [],
   "source": [
    "df_encoded = pd.get_dummies(df, columns = ['category', 'gender'],dtype = int, drop_first = True)"
   ]
  },
  {
   "cell_type": "code",
   "execution_count": 18,
   "id": "441ea4c1",
   "metadata": {
    "execution": {
     "iopub.execute_input": "2024-03-23T18:01:25.198797Z",
     "iopub.status.busy": "2024-03-23T18:01:25.198312Z",
     "iopub.status.idle": "2024-03-23T18:01:25.224722Z",
     "shell.execute_reply": "2024-03-23T18:01:25.223199Z"
    },
    "papermill": {
     "duration": 0.049673,
     "end_time": "2024-03-23T18:01:25.227633",
     "exception": false,
     "start_time": "2024-03-23T18:01:25.177960",
     "status": "completed"
    },
    "tags": []
   },
   "outputs": [],
   "source": [
    "X = df_encoded.drop('is_fraud', axis = 1)"
   ]
  },
  {
   "cell_type": "code",
   "execution_count": 19,
   "id": "ae6c693e",
   "metadata": {
    "execution": {
     "iopub.execute_input": "2024-03-23T18:01:25.265215Z",
     "iopub.status.busy": "2024-03-23T18:01:25.264767Z",
     "iopub.status.idle": "2024-03-23T18:01:25.270526Z",
     "shell.execute_reply": "2024-03-23T18:01:25.269251Z"
    },
    "papermill": {
     "duration": 0.028025,
     "end_time": "2024-03-23T18:01:25.272960",
     "exception": false,
     "start_time": "2024-03-23T18:01:25.244935",
     "status": "completed"
    },
    "tags": []
   },
   "outputs": [],
   "source": [
    "y = df_encoded['is_fraud']"
   ]
  },
  {
   "cell_type": "markdown",
   "id": "4b205097",
   "metadata": {
    "papermill": {
     "duration": 0.016876,
     "end_time": "2024-03-23T18:01:25.306860",
     "exception": false,
     "start_time": "2024-03-23T18:01:25.289984",
     "status": "completed"
    },
    "tags": []
   },
   "source": [
    "## TrainTestSplit"
   ]
  },
  {
   "cell_type": "code",
   "execution_count": 20,
   "id": "223b1e8c",
   "metadata": {
    "execution": {
     "iopub.execute_input": "2024-03-23T18:01:25.413998Z",
     "iopub.status.busy": "2024-03-23T18:01:25.413558Z",
     "iopub.status.idle": "2024-03-23T18:01:25.830333Z",
     "shell.execute_reply": "2024-03-23T18:01:25.829020Z"
    },
    "papermill": {
     "duration": 0.438631,
     "end_time": "2024-03-23T18:01:25.833161",
     "exception": false,
     "start_time": "2024-03-23T18:01:25.394530",
     "status": "completed"
    },
    "tags": []
   },
   "outputs": [],
   "source": [
    "from sklearn.model_selection import train_test_split\n",
    "\n",
    "X_train, X_test, y_train, y_test = train_test_split(X, y, test_size = 0.3, random_state = 111)"
   ]
  },
  {
   "cell_type": "markdown",
   "id": "7538be17",
   "metadata": {
    "papermill": {
     "duration": 0.016569,
     "end_time": "2024-03-23T18:01:25.866503",
     "exception": false,
     "start_time": "2024-03-23T18:01:25.849934",
     "status": "completed"
    },
    "tags": []
   },
   "source": [
    "## Imbalanced Data"
   ]
  },
  {
   "cell_type": "code",
   "execution_count": 21,
   "id": "32c2457d",
   "metadata": {
    "execution": {
     "iopub.execute_input": "2024-03-23T18:01:25.901912Z",
     "iopub.status.busy": "2024-03-23T18:01:25.901515Z",
     "iopub.status.idle": "2024-03-23T18:01:26.434234Z",
     "shell.execute_reply": "2024-03-23T18:01:26.433374Z"
    },
    "papermill": {
     "duration": 0.553731,
     "end_time": "2024-03-23T18:01:26.437134",
     "exception": false,
     "start_time": "2024-03-23T18:01:25.883403",
     "status": "completed"
    },
    "tags": []
   },
   "outputs": [],
   "source": [
    "from imblearn.over_sampling import SMOTE\n",
    "smote = SMOTE(sampling_strategy = 'auto')"
   ]
  },
  {
   "cell_type": "code",
   "execution_count": 22,
   "id": "87168d4d",
   "metadata": {
    "execution": {
     "iopub.execute_input": "2024-03-23T18:01:26.475084Z",
     "iopub.status.busy": "2024-03-23T18:01:26.474074Z",
     "iopub.status.idle": "2024-03-23T18:01:27.115904Z",
     "shell.execute_reply": "2024-03-23T18:01:27.114539Z"
    },
    "papermill": {
     "duration": 0.663947,
     "end_time": "2024-03-23T18:01:27.118870",
     "exception": false,
     "start_time": "2024-03-23T18:01:26.454923",
     "status": "completed"
    },
    "tags": []
   },
   "outputs": [],
   "source": [
    "X_resampled, y_resampled = smote.fit_resample(X_train, y_train)"
   ]
  },
  {
   "cell_type": "code",
   "execution_count": 23,
   "id": "6506f8f2",
   "metadata": {
    "execution": {
     "iopub.execute_input": "2024-03-23T18:01:27.157504Z",
     "iopub.status.busy": "2024-03-23T18:01:27.157132Z",
     "iopub.status.idle": "2024-03-23T18:01:27.162422Z",
     "shell.execute_reply": "2024-03-23T18:01:27.161124Z"
    },
    "papermill": {
     "duration": 0.026921,
     "end_time": "2024-03-23T18:01:27.164887",
     "exception": false,
     "start_time": "2024-03-23T18:01:27.137966",
     "status": "completed"
    },
    "tags": []
   },
   "outputs": [],
   "source": [
    "X_train = X_resampled\n",
    "y_train = y_resampled"
   ]
  },
  {
   "cell_type": "markdown",
   "id": "15f4f281",
   "metadata": {
    "papermill": {
     "duration": 0.016889,
     "end_time": "2024-03-23T18:01:27.199069",
     "exception": false,
     "start_time": "2024-03-23T18:01:27.182180",
     "status": "completed"
    },
    "tags": []
   },
   "source": [
    "## Normalization"
   ]
  },
  {
   "cell_type": "code",
   "execution_count": 24,
   "id": "4de77ead",
   "metadata": {
    "execution": {
     "iopub.execute_input": "2024-03-23T18:01:27.237976Z",
     "iopub.status.busy": "2024-03-23T18:01:27.236819Z",
     "iopub.status.idle": "2024-03-23T18:01:27.529987Z",
     "shell.execute_reply": "2024-03-23T18:01:27.528619Z"
    },
    "papermill": {
     "duration": 0.315158,
     "end_time": "2024-03-23T18:01:27.533108",
     "exception": false,
     "start_time": "2024-03-23T18:01:27.217950",
     "status": "completed"
    },
    "tags": []
   },
   "outputs": [],
   "source": [
    "from sklearn.preprocessing import MinMaxScaler\n",
    "\n",
    "scaler = MinMaxScaler()\n",
    "X_train_scaled = scaler.fit_transform(X_train)\n",
    "X_test_scaled = scaler.transform(X_test)"
   ]
  },
  {
   "cell_type": "code",
   "execution_count": 25,
   "id": "6a4fd1ed",
   "metadata": {
    "execution": {
     "iopub.execute_input": "2024-03-23T18:01:27.570319Z",
     "iopub.status.busy": "2024-03-23T18:01:27.569843Z",
     "iopub.status.idle": "2024-03-23T18:01:27.576213Z",
     "shell.execute_reply": "2024-03-23T18:01:27.574868Z"
    },
    "papermill": {
     "duration": 0.02809,
     "end_time": "2024-03-23T18:01:27.578614",
     "exception": false,
     "start_time": "2024-03-23T18:01:27.550524",
     "status": "completed"
    },
    "tags": []
   },
   "outputs": [],
   "source": [
    "X_train = pd.DataFrame(X_train_scaled)\n",
    "X_test = pd.DataFrame(X_test_scaled)"
   ]
  },
  {
   "cell_type": "markdown",
   "id": "f29d0014",
   "metadata": {
    "papermill": {
     "duration": 0.017034,
     "end_time": "2024-03-23T18:01:27.613309",
     "exception": false,
     "start_time": "2024-03-23T18:01:27.596275",
     "status": "completed"
    },
    "tags": []
   },
   "source": [
    "### ANN"
   ]
  },
  {
   "cell_type": "code",
   "execution_count": 26,
   "id": "4adb6390",
   "metadata": {
    "execution": {
     "iopub.execute_input": "2024-03-23T18:01:27.651293Z",
     "iopub.status.busy": "2024-03-23T18:01:27.649612Z",
     "iopub.status.idle": "2024-03-23T18:01:41.940556Z",
     "shell.execute_reply": "2024-03-23T18:01:41.939377Z"
    },
    "papermill": {
     "duration": 14.313228,
     "end_time": "2024-03-23T18:01:41.943848",
     "exception": false,
     "start_time": "2024-03-23T18:01:27.630620",
     "status": "completed"
    },
    "tags": []
   },
   "outputs": [
    {
     "name": "stderr",
     "output_type": "stream",
     "text": [
      "2024-03-23 18:01:29.869873: E external/local_xla/xla/stream_executor/cuda/cuda_dnn.cc:9261] Unable to register cuDNN factory: Attempting to register factory for plugin cuDNN when one has already been registered\n",
      "2024-03-23 18:01:29.870035: E external/local_xla/xla/stream_executor/cuda/cuda_fft.cc:607] Unable to register cuFFT factory: Attempting to register factory for plugin cuFFT when one has already been registered\n",
      "2024-03-23 18:01:30.033785: E external/local_xla/xla/stream_executor/cuda/cuda_blas.cc:1515] Unable to register cuBLAS factory: Attempting to register factory for plugin cuBLAS when one has already been registered\n"
     ]
    }
   ],
   "source": [
    "from keras.models import Sequential\n",
    "from keras.layers import Dense, Dropout, BatchNormalization\n",
    "from keras.callbacks import EarlyStopping\n",
    "from keras.optimizers import Adam\n",
    "import tensorflow as tf"
   ]
  },
  {
   "cell_type": "code",
   "execution_count": 27,
   "id": "146a026a",
   "metadata": {
    "execution": {
     "iopub.execute_input": "2024-03-23T18:01:41.982107Z",
     "iopub.status.busy": "2024-03-23T18:01:41.981257Z",
     "iopub.status.idle": "2024-03-23T18:01:42.075395Z",
     "shell.execute_reply": "2024-03-23T18:01:42.074438Z"
    },
    "papermill": {
     "duration": 0.117062,
     "end_time": "2024-03-23T18:01:42.078943",
     "exception": false,
     "start_time": "2024-03-23T18:01:41.961881",
     "status": "completed"
    },
    "tags": []
   },
   "outputs": [
    {
     "name": "stderr",
     "output_type": "stream",
     "text": [
      "/opt/conda/lib/python3.10/site-packages/keras/src/layers/core/dense.py:85: UserWarning: Do not pass an `input_shape`/`input_dim` argument to a layer. When using Sequential models, prefer using an `Input(shape)` object as the first layer in the model instead.\n",
      "  super().__init__(activity_regularizer=activity_regularizer, **kwargs)\n"
     ]
    }
   ],
   "source": [
    "tf.random.set_seed(111)\n",
    "model = Sequential([\n",
    "    Dense(128, input_dim=X_train.shape[1], activation='relu'),\n",
    "    Dense(64, activation='relu'),\n",
    "    Dense(32, activation='relu'),\n",
    "    Dense(1, activation='sigmoid')\n",
    "])"
   ]
  },
  {
   "cell_type": "code",
   "execution_count": 28,
   "id": "16e068d2",
   "metadata": {
    "execution": {
     "iopub.execute_input": "2024-03-23T18:01:42.117931Z",
     "iopub.status.busy": "2024-03-23T18:01:42.116974Z",
     "iopub.status.idle": "2024-03-23T18:01:42.153690Z",
     "shell.execute_reply": "2024-03-23T18:01:42.152189Z"
    },
    "papermill": {
     "duration": 0.059592,
     "end_time": "2024-03-23T18:01:42.156722",
     "exception": false,
     "start_time": "2024-03-23T18:01:42.097130",
     "status": "completed"
    },
    "tags": []
   },
   "outputs": [
    {
     "data": {
      "text/html": [
       "<pre style=\"white-space:pre;overflow-x:auto;line-height:normal;font-family:Menlo,'DejaVu Sans Mono',consolas,'Courier New',monospace\"><span style=\"font-weight: bold\">Model: \"sequential\"</span>\n",
       "</pre>\n"
      ],
      "text/plain": [
       "\u001b[1mModel: \"sequential\"\u001b[0m\n"
      ]
     },
     "metadata": {},
     "output_type": "display_data"
    },
    {
     "data": {
      "text/html": [
       "<pre style=\"white-space:pre;overflow-x:auto;line-height:normal;font-family:Menlo,'DejaVu Sans Mono',consolas,'Courier New',monospace\">┏━━━━━━━━━━━━━━━━━━━━━━━━━━━━━━━━━┳━━━━━━━━━━━━━━━━━━━━━━━━┳━━━━━━━━━━━━━━━┓\n",
       "┃<span style=\"font-weight: bold\"> Layer (type)                    </span>┃<span style=\"font-weight: bold\"> Output Shape           </span>┃<span style=\"font-weight: bold\">       Param # </span>┃\n",
       "┡━━━━━━━━━━━━━━━━━━━━━━━━━━━━━━━━━╇━━━━━━━━━━━━━━━━━━━━━━━━╇━━━━━━━━━━━━━━━┩\n",
       "│ dense (<span style=\"color: #0087ff; text-decoration-color: #0087ff\">Dense</span>)                   │ (<span style=\"color: #00d7ff; text-decoration-color: #00d7ff\">None</span>, <span style=\"color: #00af00; text-decoration-color: #00af00\">128</span>)            │         <span style=\"color: #00af00; text-decoration-color: #00af00\">2,176</span> │\n",
       "├─────────────────────────────────┼────────────────────────┼───────────────┤\n",
       "│ dense_1 (<span style=\"color: #0087ff; text-decoration-color: #0087ff\">Dense</span>)                 │ (<span style=\"color: #00d7ff; text-decoration-color: #00d7ff\">None</span>, <span style=\"color: #00af00; text-decoration-color: #00af00\">64</span>)             │         <span style=\"color: #00af00; text-decoration-color: #00af00\">8,256</span> │\n",
       "├─────────────────────────────────┼────────────────────────┼───────────────┤\n",
       "│ dense_2 (<span style=\"color: #0087ff; text-decoration-color: #0087ff\">Dense</span>)                 │ (<span style=\"color: #00d7ff; text-decoration-color: #00d7ff\">None</span>, <span style=\"color: #00af00; text-decoration-color: #00af00\">32</span>)             │         <span style=\"color: #00af00; text-decoration-color: #00af00\">2,080</span> │\n",
       "├─────────────────────────────────┼────────────────────────┼───────────────┤\n",
       "│ dense_3 (<span style=\"color: #0087ff; text-decoration-color: #0087ff\">Dense</span>)                 │ (<span style=\"color: #00d7ff; text-decoration-color: #00d7ff\">None</span>, <span style=\"color: #00af00; text-decoration-color: #00af00\">1</span>)              │            <span style=\"color: #00af00; text-decoration-color: #00af00\">33</span> │\n",
       "└─────────────────────────────────┴────────────────────────┴───────────────┘\n",
       "</pre>\n"
      ],
      "text/plain": [
       "┏━━━━━━━━━━━━━━━━━━━━━━━━━━━━━━━━━┳━━━━━━━━━━━━━━━━━━━━━━━━┳━━━━━━━━━━━━━━━┓\n",
       "┃\u001b[1m \u001b[0m\u001b[1mLayer (type)                   \u001b[0m\u001b[1m \u001b[0m┃\u001b[1m \u001b[0m\u001b[1mOutput Shape          \u001b[0m\u001b[1m \u001b[0m┃\u001b[1m \u001b[0m\u001b[1m      Param #\u001b[0m\u001b[1m \u001b[0m┃\n",
       "┡━━━━━━━━━━━━━━━━━━━━━━━━━━━━━━━━━╇━━━━━━━━━━━━━━━━━━━━━━━━╇━━━━━━━━━━━━━━━┩\n",
       "│ dense (\u001b[38;5;33mDense\u001b[0m)                   │ (\u001b[38;5;45mNone\u001b[0m, \u001b[38;5;34m128\u001b[0m)            │         \u001b[38;5;34m2,176\u001b[0m │\n",
       "├─────────────────────────────────┼────────────────────────┼───────────────┤\n",
       "│ dense_1 (\u001b[38;5;33mDense\u001b[0m)                 │ (\u001b[38;5;45mNone\u001b[0m, \u001b[38;5;34m64\u001b[0m)             │         \u001b[38;5;34m8,256\u001b[0m │\n",
       "├─────────────────────────────────┼────────────────────────┼───────────────┤\n",
       "│ dense_2 (\u001b[38;5;33mDense\u001b[0m)                 │ (\u001b[38;5;45mNone\u001b[0m, \u001b[38;5;34m32\u001b[0m)             │         \u001b[38;5;34m2,080\u001b[0m │\n",
       "├─────────────────────────────────┼────────────────────────┼───────────────┤\n",
       "│ dense_3 (\u001b[38;5;33mDense\u001b[0m)                 │ (\u001b[38;5;45mNone\u001b[0m, \u001b[38;5;34m1\u001b[0m)              │            \u001b[38;5;34m33\u001b[0m │\n",
       "└─────────────────────────────────┴────────────────────────┴───────────────┘\n"
      ]
     },
     "metadata": {},
     "output_type": "display_data"
    },
    {
     "data": {
      "text/html": [
       "<pre style=\"white-space:pre;overflow-x:auto;line-height:normal;font-family:Menlo,'DejaVu Sans Mono',consolas,'Courier New',monospace\"><span style=\"font-weight: bold\"> Total params: </span><span style=\"color: #00af00; text-decoration-color: #00af00\">12,545</span> (49.00 KB)\n",
       "</pre>\n"
      ],
      "text/plain": [
       "\u001b[1m Total params: \u001b[0m\u001b[38;5;34m12,545\u001b[0m (49.00 KB)\n"
      ]
     },
     "metadata": {},
     "output_type": "display_data"
    },
    {
     "data": {
      "text/html": [
       "<pre style=\"white-space:pre;overflow-x:auto;line-height:normal;font-family:Menlo,'DejaVu Sans Mono',consolas,'Courier New',monospace\"><span style=\"font-weight: bold\"> Trainable params: </span><span style=\"color: #00af00; text-decoration-color: #00af00\">12,545</span> (49.00 KB)\n",
       "</pre>\n"
      ],
      "text/plain": [
       "\u001b[1m Trainable params: \u001b[0m\u001b[38;5;34m12,545\u001b[0m (49.00 KB)\n"
      ]
     },
     "metadata": {},
     "output_type": "display_data"
    },
    {
     "data": {
      "text/html": [
       "<pre style=\"white-space:pre;overflow-x:auto;line-height:normal;font-family:Menlo,'DejaVu Sans Mono',consolas,'Courier New',monospace\"><span style=\"font-weight: bold\"> Non-trainable params: </span><span style=\"color: #00af00; text-decoration-color: #00af00\">0</span> (0.00 B)\n",
       "</pre>\n"
      ],
      "text/plain": [
       "\u001b[1m Non-trainable params: \u001b[0m\u001b[38;5;34m0\u001b[0m (0.00 B)\n"
      ]
     },
     "metadata": {},
     "output_type": "display_data"
    }
   ],
   "source": [
    "model.compile(optimizer = Adam(), \n",
    "              loss = 'binary_crossentropy',\n",
    "              metrics = ['accuracy'])\n",
    "\n",
    "early_stopping = EarlyStopping(monitor = 'val_accuracy', patience = 10, restore_best_weights = True)\n",
    "\n",
    "model.summary()"
   ]
  },
  {
   "cell_type": "code",
   "execution_count": 29,
   "id": "cab4fa05",
   "metadata": {
    "execution": {
     "iopub.execute_input": "2024-03-23T18:01:42.197140Z",
     "iopub.status.busy": "2024-03-23T18:01:42.195978Z",
     "iopub.status.idle": "2024-03-23T18:16:19.630853Z",
     "shell.execute_reply": "2024-03-23T18:16:19.629449Z"
    },
    "papermill": {
     "duration": 877.458161,
     "end_time": "2024-03-23T18:16:19.634031",
     "exception": false,
     "start_time": "2024-03-23T18:01:42.175870",
     "status": "completed"
    },
    "tags": []
   },
   "outputs": [
    {
     "name": "stdout",
     "output_type": "stream",
     "text": [
      "Epoch 1/20\n",
      "\u001b[1m16953/16953\u001b[0m \u001b[32m━━━━━━━━━━━━━━━━━━━━\u001b[0m\u001b[37m\u001b[0m \u001b[1m43s\u001b[0m 2ms/step - accuracy: 0.9017 - loss: 0.2327 - val_accuracy: 0.8941 - val_loss: 0.2373\n",
      "Epoch 2/20\n",
      "\u001b[1m16953/16953\u001b[0m \u001b[32m━━━━━━━━━━━━━━━━━━━━\u001b[0m\u001b[37m\u001b[0m \u001b[1m43s\u001b[0m 3ms/step - accuracy: 0.9525 - loss: 0.1184 - val_accuracy: 0.8922 - val_loss: 0.2095\n",
      "Epoch 3/20\n",
      "\u001b[1m16953/16953\u001b[0m \u001b[32m━━━━━━━━━━━━━━━━━━━━\u001b[0m\u001b[37m\u001b[0m \u001b[1m42s\u001b[0m 2ms/step - accuracy: 0.9563 - loss: 0.1064 - val_accuracy: 0.9110 - val_loss: 0.1825\n",
      "Epoch 4/20\n",
      "\u001b[1m16953/16953\u001b[0m \u001b[32m━━━━━━━━━━━━━━━━━━━━\u001b[0m\u001b[37m\u001b[0m \u001b[1m43s\u001b[0m 3ms/step - accuracy: 0.9583 - loss: 0.0999 - val_accuracy: 0.9071 - val_loss: 0.2003\n",
      "Epoch 5/20\n",
      "\u001b[1m16953/16953\u001b[0m \u001b[32m━━━━━━━━━━━━━━━━━━━━\u001b[0m\u001b[37m\u001b[0m \u001b[1m41s\u001b[0m 2ms/step - accuracy: 0.9594 - loss: 0.0956 - val_accuracy: 0.9123 - val_loss: 0.1856\n",
      "Epoch 6/20\n",
      "\u001b[1m16953/16953\u001b[0m \u001b[32m━━━━━━━━━━━━━━━━━━━━\u001b[0m\u001b[37m\u001b[0m \u001b[1m42s\u001b[0m 2ms/step - accuracy: 0.9611 - loss: 0.0914 - val_accuracy: 0.9135 - val_loss: 0.1753\n",
      "Epoch 7/20\n",
      "\u001b[1m16953/16953\u001b[0m \u001b[32m━━━━━━━━━━━━━━━━━━━━\u001b[0m\u001b[37m\u001b[0m \u001b[1m42s\u001b[0m 2ms/step - accuracy: 0.9628 - loss: 0.0874 - val_accuracy: 0.9228 - val_loss: 0.1544\n",
      "Epoch 8/20\n",
      "\u001b[1m16953/16953\u001b[0m \u001b[32m━━━━━━━━━━━━━━━━━━━━\u001b[0m\u001b[37m\u001b[0m \u001b[1m41s\u001b[0m 2ms/step - accuracy: 0.9637 - loss: 0.0845 - val_accuracy: 0.9236 - val_loss: 0.1544\n",
      "Epoch 9/20\n",
      "\u001b[1m16953/16953\u001b[0m \u001b[32m━━━━━━━━━━━━━━━━━━━━\u001b[0m\u001b[37m\u001b[0m \u001b[1m43s\u001b[0m 3ms/step - accuracy: 0.9648 - loss: 0.0821 - val_accuracy: 0.9294 - val_loss: 0.1730\n",
      "Epoch 10/20\n",
      "\u001b[1m16953/16953\u001b[0m \u001b[32m━━━━━━━━━━━━━━━━━━━━\u001b[0m\u001b[37m\u001b[0m \u001b[1m81s\u001b[0m 3ms/step - accuracy: 0.9654 - loss: 0.0803 - val_accuracy: 0.9290 - val_loss: 0.1813\n",
      "Epoch 11/20\n",
      "\u001b[1m16953/16953\u001b[0m \u001b[32m━━━━━━━━━━━━━━━━━━━━\u001b[0m\u001b[37m\u001b[0m \u001b[1m41s\u001b[0m 2ms/step - accuracy: 0.9665 - loss: 0.0785 - val_accuracy: 0.9318 - val_loss: 0.1690\n",
      "Epoch 12/20\n",
      "\u001b[1m16953/16953\u001b[0m \u001b[32m━━━━━━━━━━━━━━━━━━━━\u001b[0m\u001b[37m\u001b[0m \u001b[1m41s\u001b[0m 2ms/step - accuracy: 0.9671 - loss: 0.0773 - val_accuracy: 0.9440 - val_loss: 0.1599\n",
      "Epoch 13/20\n",
      "\u001b[1m16953/16953\u001b[0m \u001b[32m━━━━━━━━━━━━━━━━━━━━\u001b[0m\u001b[37m\u001b[0m \u001b[1m42s\u001b[0m 3ms/step - accuracy: 0.9678 - loss: 0.0759 - val_accuracy: 0.9430 - val_loss: 0.1489\n",
      "Epoch 14/20\n",
      "\u001b[1m16953/16953\u001b[0m \u001b[32m━━━━━━━━━━━━━━━━━━━━\u001b[0m\u001b[37m\u001b[0m \u001b[1m41s\u001b[0m 2ms/step - accuracy: 0.9684 - loss: 0.0742 - val_accuracy: 0.9414 - val_loss: 0.1528\n",
      "Epoch 15/20\n",
      "\u001b[1m16953/16953\u001b[0m \u001b[32m━━━━━━━━━━━━━━━━━━━━\u001b[0m\u001b[37m\u001b[0m \u001b[1m40s\u001b[0m 2ms/step - accuracy: 0.9690 - loss: 0.0736 - val_accuracy: 0.9342 - val_loss: 0.1681\n",
      "Epoch 16/20\n",
      "\u001b[1m16953/16953\u001b[0m \u001b[32m━━━━━━━━━━━━━━━━━━━━\u001b[0m\u001b[37m\u001b[0m \u001b[1m41s\u001b[0m 2ms/step - accuracy: 0.9690 - loss: 0.0730 - val_accuracy: 0.9427 - val_loss: 0.1563\n",
      "Epoch 17/20\n",
      "\u001b[1m16953/16953\u001b[0m \u001b[32m━━━━━━━━━━━━━━━━━━━━\u001b[0m\u001b[37m\u001b[0m \u001b[1m42s\u001b[0m 2ms/step - accuracy: 0.9695 - loss: 0.0721 - val_accuracy: 0.9319 - val_loss: 0.1765\n",
      "Epoch 18/20\n",
      "\u001b[1m16953/16953\u001b[0m \u001b[32m━━━━━━━━━━━━━━━━━━━━\u001b[0m\u001b[37m\u001b[0m \u001b[1m40s\u001b[0m 2ms/step - accuracy: 0.9704 - loss: 0.0706 - val_accuracy: 0.9455 - val_loss: 0.1606\n",
      "Epoch 19/20\n",
      "\u001b[1m16953/16953\u001b[0m \u001b[32m━━━━━━━━━━━━━━━━━━━━\u001b[0m\u001b[37m\u001b[0m \u001b[1m42s\u001b[0m 2ms/step - accuracy: 0.9707 - loss: 0.0700 - val_accuracy: 0.9449 - val_loss: 0.1379\n",
      "Epoch 20/20\n",
      "\u001b[1m16953/16953\u001b[0m \u001b[32m━━━━━━━━━━━━━━━━━━━━\u001b[0m\u001b[37m\u001b[0m \u001b[1m42s\u001b[0m 2ms/step - accuracy: 0.9709 - loss: 0.0691 - val_accuracy: 0.9466 - val_loss: 0.1701\n"
     ]
    }
   ],
   "source": [
    "history = model.fit(X_train, y_train, epochs = 20, validation_split = 0.3, callbacks = [early_stopping])"
   ]
  },
  {
   "cell_type": "code",
   "execution_count": 30,
   "id": "80258223",
   "metadata": {
    "execution": {
     "iopub.execute_input": "2024-03-23T18:16:22.221513Z",
     "iopub.status.busy": "2024-03-23T18:16:22.220059Z",
     "iopub.status.idle": "2024-03-23T18:16:29.002257Z",
     "shell.execute_reply": "2024-03-23T18:16:29.000351Z"
    },
    "papermill": {
     "duration": 8.048483,
     "end_time": "2024-03-23T18:16:29.005724",
     "exception": false,
     "start_time": "2024-03-23T18:16:20.957241",
     "status": "completed"
    },
    "tags": []
   },
   "outputs": [
    {
     "name": "stdout",
     "output_type": "stream",
     "text": [
      "\u001b[1m5210/5210\u001b[0m \u001b[32m━━━━━━━━━━━━━━━━━━━━\u001b[0m\u001b[37m\u001b[0m \u001b[1m7s\u001b[0m 1ms/step - accuracy: 0.9818 - loss: 0.0469\n"
     ]
    },
    {
     "data": {
      "text/plain": [
       "[0.046977460384368896, 0.9813994765281677]"
      ]
     },
     "execution_count": 30,
     "metadata": {},
     "output_type": "execute_result"
    }
   ],
   "source": [
    "model.evaluate(X_test, y_test)"
   ]
  },
  {
   "cell_type": "markdown",
   "id": "fd48ba22",
   "metadata": {
    "papermill": {
     "duration": 1.395235,
     "end_time": "2024-03-23T18:16:31.662148",
     "exception": false,
     "start_time": "2024-03-23T18:16:30.266913",
     "status": "completed"
    },
    "tags": []
   },
   "source": [
    "## Ploting the training and validation loss curves"
   ]
  },
  {
   "cell_type": "code",
   "execution_count": 31,
   "id": "b06acbd7",
   "metadata": {
    "execution": {
     "iopub.execute_input": "2024-03-23T18:16:34.362894Z",
     "iopub.status.busy": "2024-03-23T18:16:34.362498Z",
     "iopub.status.idle": "2024-03-23T18:16:34.368393Z",
     "shell.execute_reply": "2024-03-23T18:16:34.367113Z"
    },
    "papermill": {
     "duration": 1.29257,
     "end_time": "2024-03-23T18:16:34.370817",
     "exception": false,
     "start_time": "2024-03-23T18:16:33.078247",
     "status": "completed"
    },
    "tags": []
   },
   "outputs": [],
   "source": [
    "train_loss = history.history['loss']\n",
    "val_loss = history.history['val_loss']"
   ]
  },
  {
   "cell_type": "code",
   "execution_count": 32,
   "id": "fb160cad",
   "metadata": {
    "execution": {
     "iopub.execute_input": "2024-03-23T18:16:36.995625Z",
     "iopub.status.busy": "2024-03-23T18:16:36.995247Z",
     "iopub.status.idle": "2024-03-23T18:16:37.338555Z",
     "shell.execute_reply": "2024-03-23T18:16:37.337278Z"
    },
    "papermill": {
     "duration": 1.619877,
     "end_time": "2024-03-23T18:16:37.341472",
     "exception": false,
     "start_time": "2024-03-23T18:16:35.721595",
     "status": "completed"
    },
    "tags": []
   },
   "outputs": [
    {
     "data": {
      "image/png": "[encoded data removed]",
      "text/plain": [
       "<Figure size 640x480 with 1 Axes>"
      ]
     },
     "metadata": {},
     "output_type": "display_data"
    }
   ],
   "source": [
    "epochs = range(1, len(train_loss) + 1)\n",
    "plt.plot(train_loss, label = 'Training Loss')\n",
    "plt.plot(val_loss, label = 'Validation Loss')\n",
    "plt.xlabel('Epochs')\n",
    "plt.ylabel('Loss')\n",
    "plt.title('Training and Validation Loss')\n",
    "plt.legend()\n",
    "plt.show()"
   ]
  },
  {
   "cell_type": "markdown",
   "id": "eba27f10",
   "metadata": {
    "papermill": {
     "duration": 1.276,
     "end_time": "2024-03-23T18:16:40.022608",
     "exception": false,
     "start_time": "2024-03-23T18:16:38.746608",
     "status": "completed"
    },
    "tags": []
   },
   "source": [
    "## Confusion Matrix and Classification Report"
   ]
  },
  {
   "cell_type": "code",
   "execution_count": 33,
   "id": "a54b5a9a",
   "metadata": {
    "execution": {
     "iopub.execute_input": "2024-03-23T18:16:42.671039Z",
     "iopub.status.busy": "2024-03-23T18:16:42.670594Z",
     "iopub.status.idle": "2024-03-23T18:16:42.676697Z",
     "shell.execute_reply": "2024-03-23T18:16:42.675192Z"
    },
    "papermill": {
     "duration": 1.320825,
     "end_time": "2024-03-23T18:16:42.679296",
     "exception": false,
     "start_time": "2024-03-23T18:16:41.358471",
     "status": "completed"
    },
    "tags": []
   },
   "outputs": [],
   "source": [
    "from sklearn.metrics import confusion_matrix\n",
    "from sklearn.metrics import classification_report"
   ]
  },
  {
   "cell_type": "code",
   "execution_count": 34,
   "id": "af63b47c",
   "metadata": {
    "execution": {
     "iopub.execute_input": "2024-03-23T18:16:45.272798Z",
     "iopub.status.busy": "2024-03-23T18:16:45.272317Z",
     "iopub.status.idle": "2024-03-23T18:16:45.276871Z",
     "shell.execute_reply": "2024-03-23T18:16:45.276165Z"
    },
    "papermill": {
     "duration": 1.272273,
     "end_time": "2024-03-23T18:16:45.278764",
     "exception": false,
     "start_time": "2024-03-23T18:16:44.006491",
     "status": "completed"
    },
    "tags": []
   },
   "outputs": [],
   "source": [
    "from sklearn.metrics import confusion_matrix"
   ]
  },
  {
   "cell_type": "code",
   "execution_count": 35,
   "id": "2fc2e36c",
   "metadata": {
    "execution": {
     "iopub.execute_input": "2024-03-23T18:16:48.004825Z",
     "iopub.status.busy": "2024-03-23T18:16:48.004406Z",
     "iopub.status.idle": "2024-03-23T18:16:56.487876Z",
     "shell.execute_reply": "2024-03-23T18:16:56.486663Z"
    },
    "papermill": {
     "duration": 9.82538,
     "end_time": "2024-03-23T18:16:56.491507",
     "exception": false,
     "start_time": "2024-03-23T18:16:46.666127",
     "status": "completed"
    },
    "tags": []
   },
   "outputs": [
    {
     "name": "stdout",
     "output_type": "stream",
     "text": [
      "\u001b[1m5210/5210\u001b[0m \u001b[32m━━━━━━━━━━━━━━━━━━━━\u001b[0m\u001b[37m\u001b[0m \u001b[1m6s\u001b[0m 1ms/step\n"
     ]
    }
   ],
   "source": [
    "y_pred_prob = model.predict(X_test)\n",
    "\n",
    "threshold = 0.5\n",
    "y_pred = (y_pred_prob > threshold).astype(int)"
   ]
  },
  {
   "cell_type": "code",
   "execution_count": 36,
   "id": "bde2af77",
   "metadata": {
    "execution": {
     "iopub.execute_input": "2024-03-23T18:16:59.091394Z",
     "iopub.status.busy": "2024-03-23T18:16:59.090439Z",
     "iopub.status.idle": "2024-03-23T18:16:59.131832Z",
     "shell.execute_reply": "2024-03-23T18:16:59.130940Z"
    },
    "papermill": {
     "duration": 1.35622,
     "end_time": "2024-03-23T18:16:59.135418",
     "exception": false,
     "start_time": "2024-03-23T18:16:57.779198",
     "status": "completed"
    },
    "tags": []
   },
   "outputs": [
    {
     "name": "stdout",
     "output_type": "stream",
     "text": [
      "[[163077   3005]\n",
      " [    96    538]]\n"
     ]
    }
   ],
   "source": [
    "print(confusion_matrix(y_test, y_pred))"
   ]
  },
  {
   "cell_type": "code",
   "execution_count": 37,
   "id": "ece84b9c",
   "metadata": {
    "execution": {
     "iopub.execute_input": "2024-03-23T18:17:01.833396Z",
     "iopub.status.busy": "2024-03-23T18:17:01.832827Z",
     "iopub.status.idle": "2024-03-23T18:17:02.094111Z",
     "shell.execute_reply": "2024-03-23T18:17:02.093187Z"
    },
    "papermill": {
     "duration": 1.556567,
     "end_time": "2024-03-23T18:17:02.096889",
     "exception": false,
     "start_time": "2024-03-23T18:17:00.540322",
     "status": "completed"
    },
    "tags": []
   },
   "outputs": [
    {
     "name": "stdout",
     "output_type": "stream",
     "text": [
      "              precision    recall  f1-score   support\n",
      "\n",
      "           0       1.00      0.98      0.99    166082\n",
      "           1       0.15      0.85      0.26       634\n",
      "\n",
      "    accuracy                           0.98    166716\n",
      "   macro avg       0.58      0.92      0.62    166716\n",
      "weighted avg       1.00      0.98      0.99    166716\n",
      "\n"
     ]
    }
   ],
   "source": [
    "from sklearn.metrics import classification_report\n",
    "print(classification_report(y_test,y_pred))"
   ]
  },
  {
   "cell_type": "code",
   "execution_count": null,
   "id": "d2ca2ff9",
   "metadata": {
    "papermill": {
     "duration": 1.356306,
     "end_time": "2024-03-23T18:17:04.879446",
     "exception": false,
     "start_time": "2024-03-23T18:17:03.523140",
     "status": "completed"
    },
    "tags": []
   },
   "outputs": [],
   "source": []
  }
 ],
 "metadata": {
  "kaggle": {
   "accelerator": "none",
   "dataSources": [
    {
     "datasetId": 4578400,
     "sourceId": 7815453,
     "sourceType": "datasetVersion"
    }
   ],
   "dockerImageVersionId": 30673,
   "isGpuEnabled": false,
   "isInternetEnabled": true,
   "language": "python",
   "sourceType": "notebook"
  },
  "kernelspec": {
   "display_name": "Python 3",
   "language": "python",
   "name": "python3"
  },
  "language_info": {
   "codemirror_mode": {
    "name": "ipython",
    "version": 3
   },
   "file_extension": ".py",
   "mimetype": "text/x-python",
   "name": "python",
   "nbconvert_exporter": "python",
   "pygments_lexer": "ipython3",
   "version": "3.10.13"
  },
  "papermill": {
   "default_parameters": {},
   "duration": 964.444515,
   "end_time": "2024-03-23T18:17:08.561235",
   "environment_variables": {},
   "exception": null,
   "input_path": "__notebook__.ipynb",
   "output_path": "__notebook__.ipynb",
   "parameters": {},
   "start_time": "2024-03-23T18:01:04.116720",
   "version": "2.5.0"
  }
 },
 "nbformat": 4,
 "nbformat_minor": 5
}
