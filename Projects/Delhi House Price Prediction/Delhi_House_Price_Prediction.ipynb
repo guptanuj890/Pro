{
 "cells": [
  {
   "cell_type": "code",
   "execution_count": 1,
   "id": "83d17880",
   "metadata": {},
   "outputs": [],
   "source": [
    "import numpy as np\n",
    "import pandas as pd\n",
    "import matplotlib.pyplot as plt\n",
    "import seaborn as sns\n",
    "import warnings\n",
    "warnings.filterwarnings('ignore')"
   ]
  },
  {
   "cell_type": "code",
   "execution_count": 2,
   "id": "7557a18e",
   "metadata": {},
   "outputs": [],
   "source": [
    "df=pd.read_csv('MagicBricks.csv')"
   ]
  },
  {
   "cell_type": "code",
   "execution_count": 3,
   "id": "97b81e12",
   "metadata": {},
   "outputs": [
    {
     "data": {
      "text/html": [
       "<div>\n",
       "<style scoped>\n",
       "    .dataframe tbody tr th:only-of-type {\n",
       "        vertical-align: middle;\n",
       "    }\n",
       "\n",
       "    .dataframe tbody tr th {\n",
       "        vertical-align: top;\n",
       "    }\n",
       "\n",
       "    .dataframe thead th {\n",
       "        text-align: right;\n",
       "    }\n",
       "</style>\n",
       "<table border=\"1\" class=\"dataframe\">\n",
       "  <thead>\n",
       "    <tr style=\"text-align: right;\">\n",
       "      <th></th>\n",
       "      <th>Area</th>\n",
       "      <th>BHK</th>\n",
       "      <th>Bathroom</th>\n",
       "      <th>Furnishing</th>\n",
       "      <th>Locality</th>\n",
       "      <th>Parking</th>\n",
       "      <th>Price</th>\n",
       "      <th>Status</th>\n",
       "      <th>Transaction</th>\n",
       "      <th>Type</th>\n",
       "      <th>Per_Sqft</th>\n",
       "    </tr>\n",
       "  </thead>\n",
       "  <tbody>\n",
       "    <tr>\n",
       "      <th>0</th>\n",
       "      <td>800.0</td>\n",
       "      <td>3</td>\n",
       "      <td>2.0</td>\n",
       "      <td>Semi-Furnished</td>\n",
       "      <td>Rohini Sector 25</td>\n",
       "      <td>1.0</td>\n",
       "      <td>6500000</td>\n",
       "      <td>Ready_to_move</td>\n",
       "      <td>New_Property</td>\n",
       "      <td>Builder_Floor</td>\n",
       "      <td>NaN</td>\n",
       "    </tr>\n",
       "    <tr>\n",
       "      <th>1</th>\n",
       "      <td>750.0</td>\n",
       "      <td>2</td>\n",
       "      <td>2.0</td>\n",
       "      <td>Semi-Furnished</td>\n",
       "      <td>J R Designers Floors, Rohini Sector 24</td>\n",
       "      <td>1.0</td>\n",
       "      <td>5000000</td>\n",
       "      <td>Ready_to_move</td>\n",
       "      <td>New_Property</td>\n",
       "      <td>Apartment</td>\n",
       "      <td>6667.0</td>\n",
       "    </tr>\n",
       "    <tr>\n",
       "      <th>2</th>\n",
       "      <td>950.0</td>\n",
       "      <td>2</td>\n",
       "      <td>2.0</td>\n",
       "      <td>Furnished</td>\n",
       "      <td>Citizen Apartment, Rohini Sector 13</td>\n",
       "      <td>1.0</td>\n",
       "      <td>15500000</td>\n",
       "      <td>Ready_to_move</td>\n",
       "      <td>Resale</td>\n",
       "      <td>Apartment</td>\n",
       "      <td>6667.0</td>\n",
       "    </tr>\n",
       "    <tr>\n",
       "      <th>3</th>\n",
       "      <td>600.0</td>\n",
       "      <td>2</td>\n",
       "      <td>2.0</td>\n",
       "      <td>Semi-Furnished</td>\n",
       "      <td>Rohini Sector 24</td>\n",
       "      <td>1.0</td>\n",
       "      <td>4200000</td>\n",
       "      <td>Ready_to_move</td>\n",
       "      <td>Resale</td>\n",
       "      <td>Builder_Floor</td>\n",
       "      <td>6667.0</td>\n",
       "    </tr>\n",
       "    <tr>\n",
       "      <th>4</th>\n",
       "      <td>650.0</td>\n",
       "      <td>2</td>\n",
       "      <td>2.0</td>\n",
       "      <td>Semi-Furnished</td>\n",
       "      <td>Rohini Sector 24 carpet area 650 sqft status R...</td>\n",
       "      <td>1.0</td>\n",
       "      <td>6200000</td>\n",
       "      <td>Ready_to_move</td>\n",
       "      <td>New_Property</td>\n",
       "      <td>Builder_Floor</td>\n",
       "      <td>6667.0</td>\n",
       "    </tr>\n",
       "  </tbody>\n",
       "</table>\n",
       "</div>"
      ],
      "text/plain": [
       "    Area  BHK  Bathroom      Furnishing  \\\n",
       "0  800.0    3       2.0  Semi-Furnished   \n",
       "1  750.0    2       2.0  Semi-Furnished   \n",
       "2  950.0    2       2.0       Furnished   \n",
       "3  600.0    2       2.0  Semi-Furnished   \n",
       "4  650.0    2       2.0  Semi-Furnished   \n",
       "\n",
       "                                            Locality  Parking     Price  \\\n",
       "0                                   Rohini Sector 25      1.0   6500000   \n",
       "1             J R Designers Floors, Rohini Sector 24      1.0   5000000   \n",
       "2                Citizen Apartment, Rohini Sector 13      1.0  15500000   \n",
       "3                                   Rohini Sector 24      1.0   4200000   \n",
       "4  Rohini Sector 24 carpet area 650 sqft status R...      1.0   6200000   \n",
       "\n",
       "          Status   Transaction           Type  Per_Sqft  \n",
       "0  Ready_to_move  New_Property  Builder_Floor       NaN  \n",
       "1  Ready_to_move  New_Property      Apartment    6667.0  \n",
       "2  Ready_to_move        Resale      Apartment    6667.0  \n",
       "3  Ready_to_move        Resale  Builder_Floor    6667.0  \n",
       "4  Ready_to_move  New_Property  Builder_Floor    6667.0  "
      ]
     },
     "execution_count": 3,
     "metadata": {},
     "output_type": "execute_result"
    }
   ],
   "source": [
    "df.head()"
   ]
  },
  {
   "cell_type": "code",
   "execution_count": 4,
   "id": "5d5e6e74",
   "metadata": {},
   "outputs": [
    {
     "data": {
      "text/plain": [
       "(1259, 11)"
      ]
     },
     "execution_count": 4,
     "metadata": {},
     "output_type": "execute_result"
    }
   ],
   "source": [
    "# Let's look at the shape of the dataset\n",
    "df.shape"
   ]
  },
  {
   "cell_type": "code",
   "execution_count": 5,
   "id": "ce8801c2",
   "metadata": {},
   "outputs": [
    {
     "data": {
      "text/plain": [
       "83"
      ]
     },
     "execution_count": 5,
     "metadata": {},
     "output_type": "execute_result"
    }
   ],
   "source": [
    "# let's check if any of the rows are duplicated, they must be removed immediately\n",
    "df.duplicated().sum()"
   ]
  },
  {
   "cell_type": "code",
   "execution_count": 6,
   "id": "ce50ab74",
   "metadata": {},
   "outputs": [],
   "source": [
    "# Removing duplicate rows\n",
    "df.drop_duplicates(inplace=True)"
   ]
  },
  {
   "cell_type": "code",
   "execution_count": 7,
   "id": "f4b90f9d",
   "metadata": {},
   "outputs": [
    {
     "data": {
      "text/plain": [
       "(1176, 11)"
      ]
     },
     "execution_count": 7,
     "metadata": {},
     "output_type": "execute_result"
    }
   ],
   "source": [
    "df.shape"
   ]
  },
  {
   "cell_type": "code",
   "execution_count": 8,
   "id": "39fdfee2",
   "metadata": {},
   "outputs": [
    {
     "data": {
      "text/plain": [
       "Area             0\n",
       "BHK              0\n",
       "Bathroom         1\n",
       "Furnishing       5\n",
       "Locality         0\n",
       "Parking         31\n",
       "Price            0\n",
       "Status           0\n",
       "Transaction      0\n",
       "Type             5\n",
       "Per_Sqft       227\n",
       "dtype: int64"
      ]
     },
     "execution_count": 8,
     "metadata": {},
     "output_type": "execute_result"
    }
   ],
   "source": [
    "#let's see if any column has any null values\n",
    "df.isna().sum()"
   ]
  },
  {
   "cell_type": "markdown",
   "id": "30c7897f",
   "metadata": {},
   "source": [
    "The dataset has five columns with missing values - Parking, Bathroom, Furnishing, Type and Per_Sqft. Finding value for Per_Sqft is quite easy. We have to divide Price by Area to get Per_Sqft. To find the missing values in Parking, Bathroom, Furnishing and Type, I will replace the missing values with the mode of them."
   ]
  },
  {
   "cell_type": "code",
   "execution_count": 9,
   "id": "184f45f6",
   "metadata": {},
   "outputs": [],
   "source": [
    "df['Per_Sqft'].fillna((df['Price']/df['Area']),inplace=True)"
   ]
  },
  {
   "cell_type": "code",
   "execution_count": 10,
   "id": "75b05440",
   "metadata": {},
   "outputs": [],
   "source": [
    "df['Bathroom'].fillna(df['Bathroom'].mode()[0],inplace=True)\n",
    "df['Furnishing'].fillna(df['Furnishing'].mode()[0],inplace=True)\n",
    "df['Parking'].fillna(df['Parking'].mode()[0],inplace=True)\n",
    "df['Type'].fillna(df['Type'].mode()[0],inplace=True)"
   ]
  },
  {
   "cell_type": "code",
   "execution_count": 11,
   "id": "295ab979",
   "metadata": {},
   "outputs": [
    {
     "name": "stdout",
     "output_type": "stream",
     "text": [
      "<class 'pandas.core.frame.DataFrame'>\n",
      "Int64Index: 1176 entries, 0 to 1258\n",
      "Data columns (total 11 columns):\n",
      " #   Column       Non-Null Count  Dtype  \n",
      "---  ------       --------------  -----  \n",
      " 0   Area         1176 non-null   float64\n",
      " 1   BHK          1176 non-null   int64  \n",
      " 2   Bathroom     1176 non-null   float64\n",
      " 3   Furnishing   1176 non-null   object \n",
      " 4   Locality     1176 non-null   object \n",
      " 5   Parking      1176 non-null   float64\n",
      " 6   Price        1176 non-null   int64  \n",
      " 7   Status       1176 non-null   object \n",
      " 8   Transaction  1176 non-null   object \n",
      " 9   Type         1176 non-null   object \n",
      " 10  Per_Sqft     1176 non-null   float64\n",
      "dtypes: float64(4), int64(2), object(5)\n",
      "memory usage: 110.2+ KB\n"
     ]
    }
   ],
   "source": [
    "df.info()"
   ]
  },
  {
   "cell_type": "code",
   "execution_count": 12,
   "id": "d0dc58cd",
   "metadata": {},
   "outputs": [
    {
     "data": {
      "text/plain": [
       "Area           float64\n",
       "BHK              int64\n",
       "Bathroom       float64\n",
       "Furnishing      object\n",
       "Locality        object\n",
       "Parking        float64\n",
       "Price            int64\n",
       "Status          object\n",
       "Transaction     object\n",
       "Type            object\n",
       "Per_Sqft       float64\n",
       "dtype: object"
      ]
     },
     "execution_count": 12,
     "metadata": {},
     "output_type": "execute_result"
    }
   ],
   "source": [
    "df.dtypes"
   ]
  },
  {
   "cell_type": "markdown",
   "id": "84d8f412",
   "metadata": {},
   "source": [
    "Number of Parking and Bathroom cannot be float, so we can convert float to int to save memory."
   ]
  },
  {
   "cell_type": "code",
   "execution_count": 13,
   "id": "3b8a46c6",
   "metadata": {},
   "outputs": [],
   "source": [
    "df[['Parking','Bathroom']]=df[['Parking','Bathroom']].astype('int64')"
   ]
  },
  {
   "cell_type": "code",
   "execution_count": 14,
   "id": "95566035",
   "metadata": {},
   "outputs": [
    {
     "data": {
      "text/plain": [
       "Area           float64\n",
       "BHK              int64\n",
       "Bathroom         int64\n",
       "Furnishing      object\n",
       "Locality        object\n",
       "Parking          int64\n",
       "Price            int64\n",
       "Status          object\n",
       "Transaction     object\n",
       "Type            object\n",
       "Per_Sqft       float64\n",
       "dtype: object"
      ]
     },
     "execution_count": 14,
     "metadata": {},
     "output_type": "execute_result"
    }
   ],
   "source": [
    "df.dtypes"
   ]
  },
  {
   "cell_type": "code",
   "execution_count": 15,
   "id": "d73b204a",
   "metadata": {},
   "outputs": [
    {
     "data": {
      "text/plain": [
       "Area           315\n",
       "BHK              8\n",
       "Bathroom         7\n",
       "Furnishing       3\n",
       "Locality       365\n",
       "Parking          9\n",
       "Price          284\n",
       "Status           2\n",
       "Transaction      2\n",
       "Type             2\n",
       "Per_Sqft       433\n",
       "dtype: int64"
      ]
     },
     "execution_count": 15,
     "metadata": {},
     "output_type": "execute_result"
    }
   ],
   "source": [
    "df.nunique()"
   ]
  },
  {
   "cell_type": "code",
   "execution_count": 16,
   "id": "1fd650d8",
   "metadata": {},
   "outputs": [
    {
     "data": {
      "text/plain": [
       "array(['Rohini Sector 25', 'J R Designers Floors, Rohini Sector 24',\n",
       "       'Citizen Apartment, Rohini Sector 13', 'Rohini Sector 24',\n",
       "       'Rohini Sector 24 carpet area 650 sqft status Ready to Move floor 4 out of 4 floors transaction New Property furnishing Semi-Furnished facing East overlooking Garden/Park, Main Road car parking 1 Open bathroom 2 balcony 1 ownership Freehold Newly Constructed Property Newly Constructed Property East Facing Property 2BHK Newly build property for Sale. A House is waiting for a Friendly Family to make it a lovely home.So please come and make his house feel alive once again. read more Contact Agent View Phone No. Share Feedback Garima properties Certified Agent Trusted by Users Genuine Listings Market Knowledge',\n",
       "       'Delhi Homes, Rohini Sector 24', 'Rohini Sector 21',\n",
       "       'Rohini Sector 22', 'Rohini Sector 20',\n",
       "       'Rohini Sector 8 How Auctions work? The borrower has the physical possession of the Property. However the lender (Bank) can legally sell the Property. super area 32 sqm status Ready to Move floor 1 transaction Resale furnishing Semi-Furnished Contact Now Enquire Now Auction By',\n",
       "       'Rohini Sector 25 carpet area 660 sqft status Ready to Move floor 2 out of 4 floors transaction New Property furnishing Semi-Furnished facing North overlooking Garden/Park, Main Road car parking 1 Open bathroom 2 balcony 1 ownership Freehold Newly Constructed Property Newly Constructed Property Near by Ryan international school 2BHK Located on the Ground Floor of a four story building with open parking the flat measure 720 Sq Ft the property is located in a green and plush sector with common parks opposite every lane and bus and auto stand nearby. its situated 1.5 km from the metro station and walkable distance from shopping distance from shopping complex. read more Contact Agent View Phone No. Share Feedback Know your Certified Agent CRISIL Rating No of Employees 9 Kulwant & Company Certified Agent Trusted by Users Genuine Listings 5500+ Buyers Served',\n",
       "       'Rohini Sector 16', 'Rohini Sector 14',\n",
       "       'Mayur Apartment, Rohini Sector 9', 'Vijay Vihar, Rohini',\n",
       "       'Rohini Sector 18 carpet area 40 sqm status Ready to Move floor 2 out of 4 floors transaction Resale furnishing Furnished facing East overlooking Main Road car parking 2 Open bathroom 1 balcony 1 ownership Freehold East Facing Property It an LIG three side corner flat in second floor, having full scope of expansion. interior decorated with 2 textured wall , kajaria tiles , fully modular kitchen, branded bathroom and toilet fittings, LED panel, ac in one bedroom, false ceiling in entire flat.south facing unobstructed view balcony. It was all renovated only 2.5 yrs back so every thing is in brand new condition. read more Contact Owner View Phone No. Share Feedback Owner Pramod',\n",
       "       'Prashant Vihar, Rohini', 'Rohini Sector 5',\n",
       "       'Sanskriti Apartment, Rohini Sector 28', 'Rohini Sector 19',\n",
       "       'Lajpat Nagar 2', 'Lajpat Nagar 1', 'Lajpat Nagar',\n",
       "       'Vikram Vihar, Lajpat Nagar', 'Lajpat Nagar 4', 'Lajpat Nagar 3',\n",
       "       'Dayanand Colony, Lajpat Nagar How Auctions work? The borrower has the physical possession of the Property. However the lender (Bank) can legally sell the Property. super area 810 sqft status Ready to Move floor 1 out of 5 floors transaction Resale balcony 1 Contact Now Enquire Now Auction By Bank',\n",
       "       'Amar Colony, Lajpat Nagar',\n",
       "       'DDA Flats Sector 14, Dwarka Sector 14',\n",
       "       'Siddhartha Heights, Dwarka Sector 24',\n",
       "       'MTNL Employees House Welfare Society, Dwarka Sector 24',\n",
       "       'Delhi Homes Yojana, Dwarka Sector 24',\n",
       "       'The Elite Spire, Dwarka Sector 21',\n",
       "       'Kunj Vihar Apartment, Dwarka Sector 12',\n",
       "       'Ashirwad Apartments, Dwarka Sector 12',\n",
       "       'Sunny Valley Apartments, Dwarka',\n",
       "       'Shri Agrasen Apartment, Dwarka Sector 7',\n",
       "       'Chopra Apartment, Dwarka Sector 23',\n",
       "       'Mohinder Apartments, Dwarka Sector 12',\n",
       "       'Chander Lok Apartment, Dwarka Sector 19',\n",
       "       'Neelachal, Dwarka Sector 5', 'Dwarka',\n",
       "       'MeeraBai Apartment, Dwarka Sector 5',\n",
       "       'Crescent Apartments, Dwarka Sector 18',\n",
       "       'Ashoka Enclave Apartment, Dwarka Sector 11',\n",
       "       'Nav Kairali Apartment, Dwarka Sector 3',\n",
       "       'Ashirwad Apartments, Dwarka',\n",
       "       'Indraprastha Apartment, Dwarka Sector 12',\n",
       "       'Mohinder Apartments, Dwarka',\n",
       "       'Ashoka Apartments, Dwarka Sector 12',\n",
       "       'Karuna Vihar Apartment, Dwarka', 'LNT Apartments, Dwarka',\n",
       "       'Dwarka Sector 4',\n",
       "       'Dwarka Sector 3 carpet area 400 sqft status Ready to Move floor 1 out of 4 floors transaction New Property furnishing Semi-Furnished facing West overlooking Main Road bathroom 1 balcony 1 ownership Freehold Newly Constructed Property 1BHK freehold property , reserved parking, ample space for visitor parking, bathrooms with modern facilities, complete light in all room, wooden wardrobes in bedrooms, separate electric & water meter connection, separate water tank at roof, electronic door lock system with intercom facility, wall to wall POP work, fall ceiling work in all rooms, royal paint work in all rooms, 24X7 running water, branded electric fittings, modular kitchen with electronic chimney, marble vitrified tile flooring, near to metro station, well connected to main road ect. 80 to 90 home loan available. Ready to move read more Contact Agent View Phone No. Share Feedback Agent S.B. Associates 4000+ Buyers Served',\n",
       "       'Dwarka Sector 16B', 'Vinoba Puri, Lajpat Nagar', 'Budh Vihar',\n",
       "       'Budh Vihar super area 50 sqyrd status Ready to Move floor Ground out of 2 floors transaction Resale furnishing Unfurnished facing East car parking 1 Open bathroom 1 balcony 2 ownership Freehold For Sale 2 BHK 50 yrd, 2 side open Ground Floor, First and Second Floor in H Block, Gali No. 04, Near Laxmi Narain Mandir, BudhVihar read more Contact Agent View Phone No. Share Feedback Agent Sahyog Properties 1000+ Buyers Served',\n",
       "       'Budh Vihar Phase 1', 'Budh Vihar Phase 2',\n",
       "       'Saptrishi Apartment, Rohini Sector 23', 'Rohini Sector 23',\n",
       "       'Rohini ( 1 km from Shahbad Dairy, Rohini)',\n",
       "       'The Leela Sky Villas, Patel Nagar',\n",
       "       'Uttam Nagar Floors, Uttam Nagar', 'Virat Residency, Dwarka Mor',\n",
       "       'Find Homes, Greater Kailash 2', 'Adarsh Homes, Dwarka Mor',\n",
       "       'Kushwaha Homes, Uttam Nagar', 'Godrej South Estate, Okhla',\n",
       "       'APL Builder Floor, Greater Kailash 1', 'Janakpuri Block A3',\n",
       "       'Greater Kailash 2', 'Partap Homes, Bhagwati Vihar, Uttam Nagar',\n",
       "       'The Amaryllis, Karol Bagh',\n",
       "       'Diamond Heights Multi Estate, Najafgarh',\n",
       "       'Vasant Vihar Builder Floor, Vasant Vihar', 'Vasant Kunj',\n",
       "       'Greater Kailash 1', 'Khanpur, Madangir', 'Batla House, Okhla',\n",
       "       'Friends Colony West, New Friends Colony', 'New Friends Colony',\n",
       "       'Maharani Bagh, New Friends Colony',\n",
       "       'New Friends Colony carpet area 4300 sqft status Ready to Move floor 2 out of 3 floors transaction Resale furnishing Unfurnished facing North - East overlooking Garden/Park, Main Road car parking 2 Covered, 2 Open bathroom 4 balcony 3 ownership Freehold hurry up... dont waste time any where, It is best deal in your pocket budget.well maintained second floor with terrace garden plus 2 additional room on terrace up for sale in new friends colony.the property has 4 king sized bedroom attached bathroom with roof top shower with Jacuzzi. It has 3 big balconies with wonderful outer view. It has modular kitchen with new fittings. It has servant quarter pooja room study room store room etc. It has drawing & dining. It has 2 car parking with gated society. It has 247 hours water supply with full power backup. It is in amazing location. read more Contact Agent View Phone No. Share Feedback Crisil Silver Agent Sagar Home Developers Pvt. Ltd. 1000+ Buyers Served',\n",
       "       'Friends Colony East, New Friends Colony',\n",
       "       'Kalindi Colony, Maharani Bagh, New Friends Colony',\n",
       "       'Taimoor Enclave, New Friends Colony carpet area 2800 sqft status Ready to Move floor 2 out of 3 floors transaction Resale furnishing Semi-Furnished facing East overlooking Garden/Park society Taimoor Enclave car parking 2 Covered, 1 Open bathroom 4 balcony 2 ownership Freehold Two floor of the house is available for sale SECOND AND THIRD FLOOR EXTRA made, provision for LIFT can be provided by the OWNER .DDA FLATS of TAIMOOR ENCLAVE, NEAR GURUDWARA, NEW FRIENDS COLONY, SOUTH DELHI , HOUSE IS ON THE SECOND FLOOR have 3 bed room and 2 wash room and and same on the Third Floor, URGENT SALE, BROKER EXCUSE. read more Contact Agent View Phone No. Share Feedback Agent Delhi Homes 100+ Buyers Served',\n",
       "       'New Friends Colony Floors, New Friends Colony',\n",
       "       'Kailash Colony, Greater Kailash', 'Ram Nagar, Shahdara',\n",
       "       'Jyoti Nagar West, Shahdara',\n",
       "       'Hans Apartments, Vishwas Nagar, Shahdara',\n",
       "       'Naveen Shahdara, Shahdara', 'Balbir Nagar, Shahdara',\n",
       "       'Rohitash Nagar East, Shahdara', 'Shahdara',\n",
       "       'Vishwas Nagar, Shahdara',\n",
       "       'DDA RPS Flats, Mansarowar Park, Shahdara',\n",
       "       'Yamuna Vihar, Shahdara', 'Rohtash Nagar, Shahdara',\n",
       "       'Ram Nagar Extension, Shahdara', 'Maujpur, Shahdara',\n",
       "       'Mansarowar Park, Shahdara', 'Gorakh Park West, Shahdara',\n",
       "       'Shivnam Apartment, Shahdara', 'Jyoti Colony, Shahdara',\n",
       "       'Ahinsha Vatika, Ram Nagar, Shahdara',\n",
       "       'mind. The space is airy, is well located and can be easily customized as per the needs. Prime facilities are easily accessible from this place with Government Girls Senior Secondary School No 2 (0 km ). Other key neighbourhood are B Block Market (0 km ). read more Contact Owner View Phone No. Share Feedback Owner vinod kumar',\n",
       "       'Laxmi Nagar', 'Guru Angad Nagar West, Laxmi Nagar',\n",
       "       'Lalita Park, Laxmi Nagar', 'Krishan Kunj, Laxmi Nagar',\n",
       "       'Laxmi Nagar super area 450 sqft status Ready to Move floor 3 out of 4 floors transaction New Property furnishing Semi-Furnished facing East overlooking Main Road bathroom 2 balcony 1 ownership Freehold Newly Constructed Property East Facing Property This Builder Floor Apartment at 3rd faces East & overlooks Main Road offering a beautiful view from the house. with airy interiors. The type of ownership is Freehold. The Builder Floor Apartment is newly constructed. Bank loans available from LIC Housing Finance, Kotak Mahindra Bank, Indiabulls. Flooring of type Marble covers maximum part of the house. The location has easy access to, Dena Bank (0 km ), Delhi Convent School (0 km ), DDA Market (0 km ) and Nirman Vihar Metro Station (2 km ). read more Contact Owner View Phone No. Share Feedback Owner Sonia',\n",
       "       \"Laxmi Nagar carpet area 1000 sqft status Ready to Move floor 1 out of 4 floors transaction Resale furnishing Furnished bathroom 3 balcony 1 It's a 1st floor Builder Floor Apartment in a building of total 4 floors. The age of construction for this Builder Floor Apartment is between 10 to 15 years. The location has easy access to, Dena Bank (0 km ), Delhi Convent School (0 km ), DDA Market (0 km ) and Nirman Vihar Metro Station (2 km ). read more Contact Owner View Phone No. Share Feedback Owner Vipul Jain\",\n",
       "       'Bank Enclave, Laxmi Nagar', 'Uttam Nagar', 'Dwarka Mor',\n",
       "       'Uttam Nagar West', 'SB Residency, Dwarka Mor',\n",
       "       'Kiran Garden, Uttam Nagar', 'Mohan Garden, Razapur Khurd',\n",
       "       'Mitya Homes, Dwarka Mor',\n",
       "       'Uttam Nagar carpet area 550 sqft status Ready to Move transaction New Property furnishing Semi-Furnished facing East overlooking Main Road bathroom 2 balcony 1 ownership Freehold Newly Constructed Property Newly Constructed Property East Facing Property 2bhk fully furnished flats available for sale at uttam nagar, the flat is fully loaded, one singal wall texture in all bedrooms, modular kitchen, LED pannel in drawing room, wardrobes in bedroom read more Contact Agent View Phone No. Share Feedback Pranita Developers Pvt. Ltd. Certified Agent Trusted by Users Genuine Listings 100+ Buyers Served',\n",
       "       'New Uttam Nagar, Uttam Nagar', 'Patel Nagar South, Patel Nagar',\n",
       "       'Patel Nagar West', 'Patel Nagar East, Patel Nagar',\n",
       "       'Punjabi Basti, Patel Nagar', 'Baljit Nagar, Patel Nagar',\n",
       "       'DDA Flats Vasant Kunj, Vasant Kunj Sector B',\n",
       "       'DDA Flats Vasant Kunj, Vasant Kunj carpet area 1200 sqft status Ready to Move floor 5 out of 7 floors transaction Resale furnishing Semi-Furnished facing North - West overlooking Garden/Park, Main Road society DDA Flats Vasant Kunj car parking 1 Covered, 1 Open bathroom 2 balcony 2 ownership Freehold A southEAST facing 3 bhk resale flat is available in the promising locality of sectorE vasant kunj vasant kunj, delhi south. It is a ready to move in spacious flat and is located on the 5th floor. Every single detail of the flat is carefully designed. This property offers quality specifications such as lifts, park, water storage and securityfire alar. It is a gated society flat. It provides a spectacular view of the main road and parkgarden. The apartment is priced at rs. 2 cr. It is a freehold property, with a super builtUp area of 1600 sq. Ft. The property price is negotiable. read more Contact Agent Enquire Now Share Feedback Crisil Silver Agent Link Properties Pvt. Ltd. 5000+ Buyers Served',\n",
       "       'DDA Flats Vasant Kunj, Vasant Kunj',\n",
       "       'DDA Flats Pocket 1, Vasant Kunj Sector B',\n",
       "       'Saraswati Narmada Ganga Yamuna Apartment, Vasant Kunj Sector D',\n",
       "       'DDA Flats Sector E Pocket 1, Vasant Kunj',\n",
       "       'DDA Flats Vasant Kunj, Vasant Kunj Sector D',\n",
       "       'Vasant Kunj Sector A', 'E2 Vasant Kunj, Vasant Kunj',\n",
       "       'Ganga Apartment Sector D Pocket 6, Vasant Kunj',\n",
       "       'Vasant Kunj Sector C', 'Vasant Kunj Sector D',\n",
       "       'DDA Flats Vasant Kunj, Vasant Kunj Sector C',\n",
       "       'Kishangarh, Vasant Kunj', 'DDA Pocket 1, Vasant Kunj Sector D',\n",
       "       'Vasant Kunj Sector B', 'Gandhi Nagar, Shahdara',\n",
       "       'DDA Flats Mansarovar Park, Seelampur, Shahdara',\n",
       "       'Seelampur, Shahdara', 'Shanti Mohalla, Shahdara',\n",
       "       'Rajgarh Colony, Shahdara', 'Kanti Nagar East, Shahdara',\n",
       "       'Raghubarpura, Shahdara', 'Sukhdev Vihar, Okhla', 'Geeta Colony',\n",
       "       'Krishna Nagar Block A', 'Taj Enclave, Khairatabad',\n",
       "       'Shastri Park, Shahdara', 'Sitaram Bazar, Chandni Chowk',\n",
       "       'Shahdara How Auctions work? The borrower has the physical possession of the Property. However the lender (Bank) can legally sell the Property. super area 852 sqft status Ready to Move transaction Resale ownership Freehold bathroom 2 Contact Now Enquire Now Auction By',\n",
       "       'Saket', 'Anupam Enclave, Saket', 'RWA Flats, Saket',\n",
       "       'Metrotech Builder Floors, Saket',\n",
       "       'Saket Court Residential Complex, Saket',\n",
       "       'Press Enclave Society, Saket',\n",
       "       'Project Paryavaran Complex, Saket', 'Safdarjung Enclave',\n",
       "       'Arjun Nagar, Safdarjung Enclave',\n",
       "       \"Safdarjung Enclave carpet area 1100 sqft status Ready to Move floor Ground out of 4 floors transaction Resale furnishing Unfurnished facing North - East overlooking Garden/Park, Main Road car parking 1 Covered, 1 Open bathroom 3 balcony 3 ownership Freehold if you are searching for your dream house, congratulation. you're not so far from your destiny. we got unbeatable ground floor in b-block safdarjung enclave for sale. it is in 150 yds. It has 3 large king sized bedroom attached bathroom with Jacuzzi and roof top shower with all other fittings. it has modular kitchen with all needed facility. it has 3 big balcony with amazing out side view. it has 1 servant quarter also. it has 1 reserved car parking with gated society. It has 24*7 water supply with full power backup. for more information contact us at once because it can be your dream house. read more Contact Agent View Phone No. Share Feedback Crisil Silver Agent Sagar Home Developers Pvt. Ltd. 1000+ Buyers Served\",\n",
       "       'Krishna Nagar-Safdarjung Enclave',\n",
       "       'Safdarjung Enclave carpet area 3250 sqft status Ready to Move floor 1 out of 4 floors transaction Resale furnishing Semi-Furnished facing North - East overlooking Garden/Park, Main Road car parking 1 Covered bathroom 4 balcony 3 ownership Freehold Near Buy Green park Metro station. The location of the property is Awesome and Peaceful. The construction is very Highend and Very tasteful Done-up. The Same property is location on the FF. 4 Side corner read more Contact Agent Enquire Now Share Feedback Crisil Silver Agent Findahouse Real Estate Consultants LLP 2000+ Buyers Served',\n",
       "       'Safdarjung Enclave carpet area 290 sqyrd status Ready to Move floor 2 out of 3 floors transaction Resale furnishing Semi-Furnished facing West overlooking Main Road car parking 2 Open bathroom 4 balcony 3 ownership Freehold Opposite Deer Park.The property comes with independent Terrace. The area is centrally located and close to ring road which allows easy acess to all other areas.Renowned Delhi Lawn Tennis Association is within 10 minutes walking distance.Green park market is walkable distance. read more Contact Owner View Phone No. Share Feedback Owner Hemant pajankar',\n",
       "       'Safdarjung Enclave carpet area 1450 sqft status Ready to Move floor 3 out of 4 floors transaction Resale furnishing Semi-Furnished facing North - East overlooking Garden/Park, Main Road car parking 1 Covered, 1 Open bathroom 3 balcony 2 ownership Freehold Park facing builder floor apartment available for sale in safderjung enclave, 3 bedroom with attached bathroom, drawing dinning, modular kitchen. the property is on the top floor of a four storey building with terrace right, servant quarter, 1 car parking in stilt. read more Contact Agent View Phone No. Share Feedback Agent Delhi Homes Realty 1000+ Buyers Served',\n",
       "       'Safdarjung Enclave super area 2200 sqft status Ready to Move floor 2 out of 4 floors transaction New Property furnishing Semi-Furnished facing South overlooking Main Road car parking 3 Covered, 2 Open bathroom 4 balcony 3 ownership Freehold Newly Constructed Property Wide Road 450 Yards 2nd floor brand new 4 bhk attached bathrooms with full lighted and ventilated house.Most Valuable DealSEE TO BELIEVE read more Contact Agent View Phone No. Share Feedback Crisil Bronze Agent Panchsheel Homes 500+ Buyers Served',\n",
       "       'Reserve Bank Enclave, Paschim Vihar', 'Paschim Vihar',\n",
       "       'Pushkar Enclave, Paschim Vihar', 'Paschim Vihar Block B2',\n",
       "       'Paschimpuri, Paschim Vihar', 'Paschim Vihar Block B4',\n",
       "       'Paschim Vihar How Auctions work? The borrower has the physical possession of the Property. However the lender (Bank) can legally sell the Property. carpet area 780 sqft status Ready to Move floor Ground out of 3 floors transaction Resale furnishing Unfurnished facing West bathroom 2 balcony 1 ownership Freehold Contact Now Enquire Now Auction By Bank',\n",
       "       'DDA Lig Flats, Paschim Vihar carpet area 45 sqyrd status Ready to Move floor 4 out of 4 floors transaction Resale furnishing Semi-Furnished facing East overlooking Garden/Park, Main Road society DDA Lig Flats bathroom 1 balcony 1 ownership Freehold East Facing Property Expected price for the Flat is kept at 45 Lac. This is a 1 bedroom apartment present in DDA Lig Flats, Paschim Vihar. It measures an area of 45 Sq-m. It is on 4 floor out of 4 floors in the tower and is also well ventilated. The Flat has 1 washroom and also has 1 spacious balcony. read more Contact Owner View Phone No. Share Feedback Owner Anil',\n",
       "       'Archana Apartment, Paschim Vihar',\n",
       "       'Guru Harikishan Nagar, Paschim Vihar',\n",
       "       'Mianwali Nagar, Paschim Vihar',\n",
       "       'Navbharat Apartment, Paschim Vihar Block B1',\n",
       "       'Paschim Vihar Block A2', 'LIC Colony, Paschim Vihar',\n",
       "       'DDA Lig Flats, Paschim Vihar',\n",
       "       'Paschim Vihar carpet area 850 sqft status Ready to Move floor 2 out of 4 floors transaction Resale furnishing Unfurnished facing North overlooking Garden/Park bathroom 3 balcony 1 ownership Freehold If you want to live a contended, pollution-free and peaceful life with your family and children, here is the once in a lifetime opportunity awaiting your attention!! Presenting a 3BHK ready to move flat up for sale in Paschim Vihar, which is becoming a dream residential area for its ability to provide a slice of authentic New Delhi city life. Property SpecificationsWell-knitted and planned on the super area of 900 sq ft is this 2bhk flat where the owner enjoys the complete rights of the freehold ownership. In a low-rise building of four-floors, this impressive infrastructure is positioned on the second floor, hence the residents can experience the greatest possible cross ventilation and natural sunlight.Though the age of construction is between 15-20 years, this north-facing flat is perfectly maintained and features 3 spacious bedrooms, 2 bathrooms, 2 airy balconies, a dining room, a living room, and a kitchen. All the bedrooms are adorned with decorative wardrobes offered with enough space for storage of clothes and other valuables.The attached toilet is designed in Indian fashion which is mounted-up with a geyser where you can enjoy a hot water bath, while the bathroom available for common use fashioned in the western genre.Further, an eye-catching view of the lush green garden is visible from the two well-aligned balconies where you can enjoy a hot cup of tea, where one balcony is connected to the bedroom, while the other balcony opens to the lobby. Bedecked with a granite countertop, a piped gas connection, and a chimney, the contemporarily designed modular kitchen is also provided with a wash area and also sufficient space for fridge.The entire flat is polished up with the good quality tiles which are easy to install and can be quite pleasant and comfortable underfoot.FacilitiesKeeping in mind the convenience of the residents, some of the basic facilities such as an unrestricted supply of water, and power backup with invertor. Additionally, one open parking space for 1 vehicle read more Contact Owner Share Feedback Owner Yogeet',\n",
       "       'Shubh Niketan, Paschim Vihar',\n",
       "       'Ashoka Apartment, Paschim Vihar Block A2',\n",
       "       'Sunder Apartments, Sunder Vihar, Paschim Vihar',\n",
       "       'Rajasthan Apartment, Aashirwaad Chowk, Dwarka',\n",
       "       'Gold Croft Apartment, Aashirwaad Chowk, Dwarka',\n",
       "       'Chanakya Apartments, Aashirwaad Chowk, Dwarka',\n",
       "       'Bank Apartments, Aashirwaad Chowk, Dwarka carpet area 1550 sqft status Ready to Move floor 7 out of 7 floors transaction Resale furnishing Semi-Furnished facing North - East overlooking Garden/Park, Main Road society Bank Apartments car parking 1 Covered, 1 Open bathroom 2 balcony 3 ownership Freehold A spacious 3 Bedroom flat is available for sale in Dwarka , New Delhi.it is cornor building plenty of sunlight and airy. It is located on the 2 Floor. It has a covered area of 1500 Sq-ft. The flat has vitrified tiles & Mosiac flooring. The flat has 24 Hours Available water supply and No/Rare Powercut.. The property is fantastically located and is much sought-after. The property is available at a very competitive Price. read more Contact Agent View Phone No. Share Feedback Sikka Realtors Has Maximum Property Options Is the Top Agent of the Locality Is Trusted by All Users CRISIL Rating No of employees 12 Sikka Realtors Certified Agent Locality Superstar Aashirwaad Chowk, Dwarka 2500+ Buyers Served',\n",
       "       'Mohinder Apartments, Aashirwaad Chowk, Dwarka',\n",
       "       'Bank Apartments, Aashirwaad Chowk, Dwarka',\n",
       "       'Aashirwaad Chowk, Dwarka',\n",
       "       'Saheta Apartment, Aashirwaad Chowk, Dwarka',\n",
       "       'Pushpanjali Apartments, Aashirwaad Chowk, Dwarka',\n",
       "       'Green Heavens Apartment, Aashirwaad Chowk, Dwarka',\n",
       "       'Hum Sub Apartment, Aashirwaad Chowk, Dwarka',\n",
       "       'Defence Officers Apartment, Aashirwaad Chowk, Dwarka',\n",
       "       'Sanchar Vihar Apartment, Aashirwaad Chowk, Dwarka',\n",
       "       'Sarve Satyam Apartment, Aashirwaad Chowk, Dwarka',\n",
       "       'Palm Green Apartment, Aashirwaad Chowk, Dwarka',\n",
       "       'Neelachal, Aashirwaad Chowk, Dwarka',\n",
       "       'Kailash Apartments, Aashirwaad Chowk, Dwarka',\n",
       "       'New Jyoti Apartments, Aashirwaad Chowk, Dwarka',\n",
       "       'PNB Employees Apartment, Aashirwaad Chowk, Dwarka',\n",
       "       'Sadbhawna CGHS, Aashirwaad Chowk, Dwarka',\n",
       "       'Commonwealth Games Village 2010',\n",
       "       'Common Wealth Games Village, Commonwealth Games Village 2010',\n",
       "       'Project Commonwealth Games Village 2010, Akshardham Temple',\n",
       "       'Project Commonwealth Games Village 2010, Commonwealth Games Village 2010',\n",
       "       'Alaknanda', 'Shivalik Apartments, Alaknanda',\n",
       "       'Narmada Apartment, Alaknanda', 'Gangotri Enclave, Alaknanda',\n",
       "       'Aravali Apartments, Alaknanda', 'Tara Apartment, Alaknanda',\n",
       "       'Narmada Apartment, Alaknanda carpet area 1400 sqft status Ready to Move floor Ground out of 3 floors transaction Resale furnishing Furnished facing North - East overlooking Garden/Park, Main Road society Narmada Apartment car parking 1 Open bathroom 3 balcony 1 ownership Freehold Near Alaknanda Main Market & Greater Kailash Metro Station. A very good 3 bhk flat for sale in rwa Narmada Apartment, delhi south. It is a superb property and offers an excellent view. The flat is unfurnished. It promises a comfortable stay. It is feng shuivaastu compliant, which is considered to bring positive energy. The appeal of the flat has been increased with the availability of a pipedGa. Indeed, the society too has multiple facilities for enjoyment, such as club housecommunity center and fitness centregym etc. It also has rain water harvesting system. It has a super builtUp area of 180 sq. Yards. read more Contact Agent View Phone No. Share Feedback Agent Sulabh Estate',\n",
       "       'Greater Kailash 4 Nri Colony',\n",
       "       'Project Gangotri Enclave, Alaknanda',\n",
       "       'Project Gangotri Enclave, Gangotri Enclave, Alaknanda',\n",
       "       'Nilgiri Apartment, Alaknanda', 'Yamuna Apartment, Alaknanda',\n",
       "       'Tara Apartment, Alaknanda carpet area 1400 sqft status Ready to Move floor 2 out of 3 floors transaction Resale furnishing Furnished facing North - East overlooking Garden/Park society Tara Apartment car parking 1 Covered, 1 Open bathroom 3 balcony 4 ownership Freehold Near Alaknanda Main Market, Jamia Humderd University & Batra hospital. A very good 3 bhk flat for sale in rwa Tara Apartment, delhi south. It is a superb property and offers an excellent view. The flat is unfurnished. It promises a comfortable stay. It is feng shuivaastu compliant, which is considered to bring positive energy. The appeal of the flat has been increased with the availability of a pipedGa. Indeed, the society too has multiple facilities for enjoyment, such as club housecommunity center and fitness centregym etc. It also has rain water harvesting system. It has a super builtUp area of 180 sq. Yards. Other f read more Contact Agent View Phone No. Share Feedback Agent Sulabh Estate',\n",
       "       'Sarita Vihar, Mathura Road carpet area 1500 sqft status Ready to Move floor 2 out of 4 floors transaction Resale ownership Freehold overlooking Main Road car parking 1 Open bathroom 2 balcony 2 furnishing Unfurnished For sale second third duplex .spacious 3 bedrooms with 2 washrooms drawing and dining and moduler kitchen one scooter garrage. read more Contact Agent View Phone No. Share Feedback Shree Balaji Real Estate Pvt. Ltd. Has Maximum Property Options Is the Top Agent of the Locality Is Trusted by All Users 21 Property Options in Sarita Vihar, Mathura Road Shree Balaji Real Estate Pvt. Ltd. Certified Agent Locality Superstar Maximum options in Sarita Vihar, Mathura Road',\n",
       "       'DDA Flats, Sarita Vihar, Mathura Road carpet area 1600 sqft status Ready to Move floor 1 out of 4 floors transaction Resale furnishing Semi-Furnished facing North - East overlooking Main Road society DDA Flats car parking 2 Open bathroom 2 balcony 2 ownership Freehold For sale First second third duplex in sarita vihar DDA Flates . this house free hold property clear titel . this flate well maintained and spacious peacefull location . no issue light water and parking read more Contact Agent View Phone No. Share Feedback Shree Balaji Real Estate Pvt. Ltd. Has Maximum Property Options Is the Top Agent of the Locality Is Trusted by All Users 21 Property Options in Sarita Vihar, Mathura Road Shree Balaji Real Estate Pvt. Ltd. Certified Agent Locality Superstar Maximum options in Sarita Vihar, Mathura Road',\n",
       "       'DDA Flats Sarita Vihar, Sarita Vihar, Mathura Road',\n",
       "       'DDA Flats, Sarita Vihar, Mathura Road carpet area 1600 sqft status Ready to Move floor Ground out of 4 floors transaction Resale furnishing Semi-Furnished facing North - West overlooking Main Road society DDA Flats car parking 1 Open bathroom 2 balcony 2 ownership Freehold For slae Ground First Duplex in sarita vihar .posh locality in south delhi DDa coloney . This house spacious 4 bedrooms with 2 washrooms drawing and dinning . free hold proerty clear titel . near by all amnites . well develop location . read more Contact Agent View Phone No. Share Feedback Shree Balaji Real Estate Pvt. Ltd. Has Maximum Property Options Is the Top Agent of the Locality Is Trusted by All Users 21 Property Options in Sarita Vihar, Mathura Road Shree Balaji Real Estate Pvt. Ltd. Certified Agent Locality Superstar Maximum options in Sarita Vihar, Mathura Road',\n",
       "       'DDA Flats Sarita Vihar, Sarita Vihar Pocket K',\n",
       "       'Sidharth Enclave, Kilokri, Ring Road', 'Sarita Vihar Pocket B',\n",
       "       'Sarita Vihar Pocket F',\n",
       "       'DDA Flats, Sarita Vihar, Mathura Road carpet area 1150 sqft status Ready to Move floor 3 out of 3 floors transaction Resale furnishing Semi-Furnished facing North - East overlooking Main Road society DDA Flats car parking 2 Open bathroom 2 balcony 3 ownership Freehold 2 BHK flat available for sale in sarita vihar excellent interiors flooring in all bedrooms complete wood work modular kitchen beautiful bathrooms extremely well maintained ample parking space read more Contact Agent View Phone No. Share Feedback Lavish Associates Certified Agent Trusted by Users Genuine Listings Market Knowledge',\n",
       "       'New Manglapuri, Sultanpur', 'Sultanpur Extension', 'Sultanpur',\n",
       "       'Manglapuri, Sultanpur', 'Indra Park Palam, Manglapuri',\n",
       "       'Sultanpur carpet area 1100 sqft status Ready to Move floor 1 out of 4 floors transaction Resale furnishing Semi-Furnished overlooking Main Road car parking 1 Covered bathroom 2 balcony 2 ownership Freehold 2 bhk flat available in sultanpur, near metro station, loan facility available, with registry, all the modern facilities are variable, with car parking, near market, fully ventilated. read more Contact Agent View Phone No. Share Feedback Agent Delhi Dream 3500+ Buyers Served',\n",
       "       'Chhattarpur',\n",
       "       \"Chhattarpur carpet area 400 sqyrd status Ready to Move transaction New Property furnishing Semi-Furnished car parking 1 Covered, 1 Open bathroom 2 balcony 1 Newly Constructed Property It's a Ground floor Builder Floor Apartment in a building of total 4 floors. The Builder Floor Apartment is newly constructed. Prime facilities are easily accessible from this place with Oxford Angel Public School (0 km ). Other key neighbourhood are Abdul Gaffar Khan Market (0 km ). read more Contact Agent View Phone No. Share Feedback Home Hunt Has Maximum Property Options Is the Top Agent of the Locality Is Trusted by All Users 4 Property Options in Chhattarpur CRISIL Rating Operating Since 2011 No of employees 5 Home Hunt Certified Agent Locality Superstar Chhattarpur 500+ Buyers Served\",\n",
       "       'JVTS Gardens, Chhattarpur', 'Chhattarpur Enclave Phase2',\n",
       "       'DLF Chattarpur Farms, Chhattarpur', 'Aravali Tower, Chhattarpur',\n",
       "       'Mehrauli',\n",
       "       'Mehrauli carpet area 1300 sqft status Ready to Move floor 2 out of 4 floors transaction New Property furnishing Semi-Furnished facing East overlooking Garden/Park, Main Road car parking 2 Covered bathroom 3 balcony 2 ownership Freehold 3 bhk flat with attached washroom, modular kitchen, IInd floor, one car and one bike parking, lift, gated society, security, cctv camera, water backup. read more Contact Agent View Phone No. Share Feedback Agent India Bhoomi',\n",
       "       'Andheria Mor, Mehrauli',\n",
       "       'Mehrauli carpet area 1250 sqft status Ready to Move floor Ground out of 8 floors transaction Resale furnishing Semi-Furnished facing East overlooking Main Road car parking 1 Covered bathroom 2 balcony 3 ownership Freehold The flat located are very good condition and well developed area. The flat area are very spaciable. This flat balcony view is very best society very neat and clean. read more Contact Agent View Phone No. Share Feedback Agent Bharti Real Estate 100+ Buyers Served',\n",
       "       'Brijwasi Colony, Mehrauli', 'Mahavir Enclave',\n",
       "       'Mahavir Enclave Part 1',\n",
       "       'Mahavir Enclave Part 1 carpet area 1000 sqft status Ready to Move floor 2 out of 4 floors transaction Resale furnishing Semi-Furnished facing East car parking 1 Covered bathroom 2 balcony 2 East Facing Property this property is for sale purpose.......................... Contact Owner View Phone No. Share Feedback Owner Twinkle Sudan',\n",
       "       'Mahavir Enclave carpet area 565 sqft status Ready to Move floor Ground out of 1 floor transaction Resale furnishing Unfurnished facing East car parking 1 Covered bathroom 2 balcony 1 ownership Freehold East Facing Property This Freehold Builder Floor Apartment is located at Ground floor in a building of total 1 floors. The age of construction for this apartment Builder Floor Apartment is Less than 5 years. High quality flooring of types Granite are available in different rooms. read more Contact Owner View Phone No. Share Feedback Owner Adesh Sah',\n",
       "       'Mahavir Enclave Part 3', 'Vijay Enclave, Mahavir Enclave',\n",
       "       'Narela Sector A1 carpet area 42 sqyrd status Ready to Move floor Ground out of 5 floors transaction Resale furnishing Unfurnished facing North - East overlooking Garden/Park, Main Road car parking 2 Open bathroom 2 balcony 2 ownership Freehold Near bawana industrial area and j.j. colony. DDA Housing property LIG FLAT very nice property for single family 200 hundreds family already living IN THIS SOCIETY and very piece full atmosphere this society 24 hour guards all facility available read more Contact Owner View Phone No. Share Feedback Owner Vivek Gupta',\n",
       "       'DDA Flats Pocket 6 Sector A10, Narela',\n",
       "       'DDA Flats Pocket 1 Sector A9, Narela',\n",
       "       'DDA Janta Flats, Tikri Khurd Sector B2, Narela', 'Narela',\n",
       "       'DDA Lig Flats, Narela', 'DDA Flats Pocket 3, Narela',\n",
       "       'DDA Pocket H, Narela', 'Narela Mandi', 'Bhorgarh, Narela',\n",
       "       'Narela Sector A9', 'Narela Sector A5', 'Malviya Nagar',\n",
       "       'Shivalik, Malviya Nagar', 'Geetanjali Enclave, Malviya Nagar',\n",
       "       'Geetanjali Enclave Project, Geetanjali Enclave, Malviya Nagar',\n",
       "       'Khirki extension, Malviya Nagar',\n",
       "       \"Malviya Nagar carpet area 100 sqyrd status Ready to Move floor 2 out of 3 floors transaction Resale furnishing Semi-Furnished facing North overlooking Garden/Park, Main Road car parking 2 Open bathroom 3 balcony 2 ownership Freehold It's a Corner three story building, located in South Delhi. Amenities like Market, Schools, Hospitals, Parks, Gyms, Study Centers, Temple are all around. Very Close to Malviya Nagar Metro and Haus Khas Metro Station. Centerlize place to live. Whether you go to Gurgaon or Noida Or to other parts of the city, commuting from here is very easy. read more Contact Owner View Phone No. Share Feedback Owner Rohit\",\n",
       "       'Dilshad Colony, Dilshad Garden',\n",
       "       'Guru Teg Bahadur Enclave, Dilshad Garden',\n",
       "       'Dilshad Garden carpet area 1500 sqft status Ready to Move floor 2 out of 4 floors transaction Resale furnishing Unfurnished bathroom 1 balcony 2 Mig dda flat located at a very prime location near to market, school, hospital, metro station etc. Contact Owner View Phone No. Share Feedback Owner R',\n",
       "       'DDA Flats Block A, Dilshad Garden', 'Dilshad Garden',\n",
       "       'DDA Pocket JK, Dilshad Garden', 'DDA Pocket E, Dilshad Garden',\n",
       "       'DDA Flats Pocket O, Dilshad Garden',\n",
       "       'DDA Pocket I, Dilshad Garden', 'Vasundhara Enclave',\n",
       "       'Samrat Apartment, Vasundhara Enclave',\n",
       "       'Mangal Apartment, Vasundhara Enclave carpet area 1600 sqft status Ready to Move floor 4 out of 7 floors transaction Resale furnishing Furnished facing South - East overlooking Garden/Park, Main Road society Mangal Apartment car parking 1 Open bathroom 3 balcony 1 ownership Freehold Fully furnished , complete marble flooring, ready to move in. Contact Owner View Phone No. Share Feedback Owner Shailendra',\n",
       "       'Prayag Apartments, Vasundhara Enclave carpet area 900 sqft status Ready to Move floor 2 out of 4 floors transaction Resale furnishing Semi-Furnished overlooking Garden/Park, Main Road society Prayag Apartments car parking 1 Open bathroom 2 balcony 2 ownership Freehold This is 2 BHK apartment , with 2 Bathroom and one parking.This is East facing Flat.Near Metro Station is Ashok Nagar read more Contact Owner View Phone No. Share Feedback Owner Sameer Kumar',\n",
       "       'Abhimanyu Apartments, Vasundhara Enclave',\n",
       "       'Fancy Apartments, Vasundhara Enclave',\n",
       "       'Shantidoot Apartment, Vasundhara Enclave',\n",
       "       'Mangal Apartment, Vasundhara Enclave',\n",
       "       'Satyam Apartment, Vasundhara Enclave',\n",
       "       'Anekant Apartment, Vasundhara Enclave',\n",
       "       'New Delhi Apartment, Vasundhara Enclave',\n",
       "       'Mahesh Apartment, Vasundhara Enclave',\n",
       "       'Pawittra Apartment, Vasundhara Enclave',\n",
       "       'Capital Apartment, Vasundhara Enclave',\n",
       "       'Hindon Apartment, Vasundhara Enclave',\n",
       "       'Gobind Apartment, Vasundhara Enclave',\n",
       "       'Abul Fazal Enclave Part 1, Okhla',\n",
       "       'Godrej South Estate, Okhla Phase 1',\n",
       "       'Abul Fazal Enclave Part-II, Okhla', 'Jamia Nagar, Okhla',\n",
       "       'Zakir Nagar, New Friends Colony',\n",
       "       'Batla House Project, Batla House, Okhla', 'Dev Nagar, Karol Bagh',\n",
       "       'Beadon Pura, Karol Bagh How Auctions work? The borrower has the physical possession of the Property. However the lender (Bank) can legally sell the Property. carpet area 148 sqyrd status Ready to Move floor 3 out of 3 floors transaction Resale furnishing Semi-Furnished bathroom 2 balcony 3 ownership Freehold Contact Now Enquire Now Auction By Bank',\n",
       "       'DDA Mig Flat, Prasad Nagar, Karol Bagh', 'Karol Bagh',\n",
       "       'Prasad Nagar, Karol Bagh',\n",
       "       'DDA MIG Flats Prasad Nagar Phase 2, Prasad Nagar, Karol Bagh',\n",
       "       'Karol Bagh carpet area 1600 sqft status Ready to Move floor 3 out of 3 floors transaction New Property furnishing Semi-Furnished facing East overlooking Garden/Park, Main Road car parking 1 Covered, 1 Open bathroom 3 balcony 2 ownership Freehold Near to Karol Bagh Metro station...................................... Its a very peaceful location ....................................................................................................................... read more Contact Agent View Phone No. Share Feedback Agent S R B Properties',\n",
       "       'DLF Capital Greens, Moti Nagar, Kirti Nagar ( 1 km from New Moti Nagar, Kirti Nagar)',\n",
       "       'DLF Capital Greens, New Moti Nagar, Kirti Nagar',\n",
       "       'New Moti Nagar, Kirti Nagar', 'Sheikh Sarai Phase 1',\n",
       "       'Sheikh Sarai', 'Sheikh Sarai Phase 2',\n",
       "       'Savitri Nagar Village, Sheikh Sarai',\n",
       "       'Panchsheel Vihar, Sheikh Sarai',\n",
       "       'Apna Apartments, Savitri Nagar Village, Sheikh Sarai',\n",
       "       'Punjabi Bagh Enclave, Punjabi Bagh West', 'Punjabi Bagh',\n",
       "       'Punjabi Bagh West',\n",
       "       'Punjabi Bagh Enclave, Shivaji Park, Punjabi Bagh',\n",
       "       'Punjabi Bagh Extension, Punjabi Bagh',\n",
       "       'DLF Capitals Phase III, Shivaji Park, Punjabi Bagh',\n",
       "       'Punjabi Bagh Enclave, Punjabi Bagh',\n",
       "       'Punjabi Bagh Enclave, Madipur, Punjabi Bagh',\n",
       "       'Bhagwan Das Nagar, Punjabi Bagh', 'Punjabi Bagh East',\n",
       "       'Pal Mohan Apartments, Punjabi Bagh',\n",
       "       'Govindpuri Extension, Kalkaji', 'Kalkaji',\n",
       "       'DDA LIG Flat, Kalkaji', 'Giri Nagar, KalkaJi',\n",
       "       'Rishi Apartment, Kalkaji', 'Deshbandhu Apartments, Kalkaji',\n",
       "       'Dda Janta Flats, Kalkaji',\n",
       "       'Kalkaji super area 800 sqft status Ready to Move floor 3 out of 4 floors transaction Resale furnishing Semi-Furnished facing North - West overlooking Garden/Park, Main Road car parking 1 Open bathroom 2 balcony 2 ownership Freehold 2 bhk flat for sale in kalkaji this is third floor with 2 bed room and bathrooms very peace full location and posh. The Summer Fields School is considered as among the best school of New Delhi and is located just beside to this property. Within the range of 4-5km, you will find some of the well-equipped hospitals which include AIMS Hospital and Moolchand Hospital.for more information about this flat please call me feel free. read more Contact Agent View Phone No. Share Feedback Agent Rose Estate 100+ Buyers Served',\n",
       "       'Kalkaji Extention',\n",
       "       'Kalkaji super area 1000 sqft status Ready to Move floor 2 out of 3 floors transaction Resale furnishing Semi-Furnished facing North - West overlooking Garden/Park, Main Road car parking 1 Covered, 1 Open bathroom 2 balcony 2 ownership Freehold Very beautiful 3 bedroom with attached washroom , drawing dining , modular kitchen , ac , servant room , power backup, powder room, separate underground and overhead water tanks, walking distance to market , easy access to ring road . For more details and site visit please contact cosmo properties. read more Contact Agent View Phone No. Share Feedback Agent Zee Associates',\n",
       "       'Mandakini Enclave Project, Kalkaji',\n",
       "       'Deshbandhu Apartments, Kalkaji carpet area 1300 sqft status Ready to Move floor 3 out of 4 floors transaction Resale furnishing Unfurnished facing North - East overlooking Garden/Park, Main Road society Deshbandhu Apartments car parking 1 Covered, 1 Open bathroom 2 balcony 2 ownership Freehold Third Floor with terrace 3 bhk builder floor apartment with 2 attached bathrooms located in kalkaji Deshbandu apartment . all water and electrical connections installed, very spacious drawing room , 2 balconies in front and rear each dedicated parking spot for 1 car. extra parking space available for additional cars, Immediately for sale , read more Contact Agent View Phone No. Share Feedback Agent Bhawani Realtors',\n",
       "       'Hauz Khas', 'Hauz Khas Apartment, Hauz Khas Enclave, Hauz Khas',\n",
       "       'Sarva Priya Apartment, Hauz Khas', 'Hauz Khas Enclave, Hauz Khas',\n",
       "       'Safdarjung Development Area, Hauz Khas',\n",
       "       'Mayfair garden, Hauz Khas', 'Orchid Metropolis, Hauz Khas',\n",
       "       'Sarva Priya Apartment, Hauz Khas carpet area 1700 sqft status Ready to Move floor 1 out of 7 floors transaction Resale furnishing Semi-Furnished facing North - East overlooking Garden/Park society Sarva Priya Apartment car parking 1 Covered, 1 Open bathroom 3 balcony 2 ownership Freehold desperarte sale ,its clear tile, proper cross ventilation ,proper an matter for one week ,crystle sunlight found, and air,ICIC BANK LOAN APPROVAL, good to see , have lucky chance to get such a reraly rare property read more Contact Agent View Phone No. Share Feedback Agent New Capital Properties 1000+ Buyers Served',\n",
       "       'Chittaranjan Park', 'Arya Chittaranjan Park, Chittaranjan Park',\n",
       "       'Chittaranjan Park carpet area 1200 sqft status Ready to Move floor 2 out of 4 floors transaction New Property furnishing Semi-Furnished facing North - East overlooking Garden/Park bathroom 3 balcony 2 ownership Freehold Newly Constructed Property Newly Constructed Property brand new 1st floor 3bedroom attach bathrooms stilt car parking modular kitchen air condition prime location c r park read more Contact Agent View Phone No. Share Feedback Nirmala Associates Certified Agent Trusted by Users Genuine Listings 1500+ Buyers Served',\n",
       "       'Chittaranjan Park carpet area 270 sqyrd status Ready to Move floor 2 out of 4 floors transaction Resale furnishing Furnished facing North - East overlooking Garden/Park, Main Road car parking 5 Open bathroom 4 balcony 3 ownership Freehold 3 Side Open, Fully ventilated, Close to Market, Above Bank and 24 x 7 ATM because of which good security. Elite Neighbor hood. Very good for Rental Income. Also can be used for commercial Office Purpose by Advocates. read more Contact Owner View Phone No. Share Feedback Owner Mayur Mayur Aggarwal',\n",
       "       'Nehru Enclave, Kalkaji', 'Chittaranjan Park Block A'],\n",
       "      dtype=object)"
      ]
     },
     "execution_count": 16,
     "metadata": {},
     "output_type": "execute_result"
    }
   ],
   "source": [
    "df['Locality'].unique()"
   ]
  },
  {
   "cell_type": "markdown",
   "id": "8a3d2db8",
   "metadata": {},
   "source": [
    "As we can see that there are so many localities, dealing with these is challenging.\n",
    "I have decided to take only top 12 localities and list the remaining localities as 'other' in the dataset. It will help in analysing the locality of the house in a better way."
   ]
  },
  {
   "cell_type": "code",
   "execution_count": 17,
   "id": "fbf68c24",
   "metadata": {},
   "outputs": [],
   "source": [
    "def grp_loc(locality):\n",
    "    locality=locality.lower()\n",
    "    if 'rohini' in locality:\n",
    "        return 'Rohini Sector'\n",
    "    elif 'dwarka' in locality:\n",
    "        return 'Dwarka Sector'\n",
    "    elif 'shahdara' in locality:\n",
    "        return 'Shahdara'\n",
    "    elif 'vasant' in locality:\n",
    "        return 'Vasant Kunj'\n",
    "    elif 'paschim' in locality:\n",
    "        return 'Paschim Vihar'\n",
    "    elif 'vasundhara' in locality:\n",
    "        return 'Vasundhara Enclave'\n",
    "    elif 'punjabi' in locality:\n",
    "        return 'Punjabi Bagh'\n",
    "    elif 'kalkaji' in locality:\n",
    "        return 'Kalkaji'\n",
    "    elif 'lajpat' in locality:\n",
    "        return 'Lajpat Nagar'\n",
    "    elif 'laxmi' in locality:\n",
    "        return 'Laxmi Nagar'\n",
    "    elif 'friends' in locality:\n",
    "        return 'New Friends Colony'\n",
    "    elif 'kailash' in locality:\n",
    "        return 'Kailash Colony'\n",
    "    else:\n",
    "        return 'Other'\n",
    "df['Locality']=df['Locality'].apply(grp_loc)    "
   ]
  },
  {
   "cell_type": "code",
   "execution_count": 18,
   "id": "7e1fb7d4",
   "metadata": {},
   "outputs": [
    {
     "data": {
      "text/plain": [
       "Other                 616\n",
       "Lajpat Nagar           85\n",
       "Shahdara               75\n",
       "Dwarka Sector          72\n",
       "Rohini Sector          71\n",
       "Kailash Colony         37\n",
       "Laxmi Nagar            33\n",
       "Vasant Kunj            33\n",
       "Kalkaji                32\n",
       "New Friends Colony     31\n",
       "Punjabi Bagh           31\n",
       "Paschim Vihar          30\n",
       "Vasundhara Enclave     30\n",
       "Name: Locality, dtype: int64"
      ]
     },
     "execution_count": 18,
     "metadata": {},
     "output_type": "execute_result"
    }
   ],
   "source": [
    "df['Locality'].value_counts()"
   ]
  },
  {
   "cell_type": "code",
   "execution_count": 19,
   "id": "26a109c9",
   "metadata": {},
   "outputs": [
    {
     "data": {
      "text/html": [
       "<div>\n",
       "<style scoped>\n",
       "    .dataframe tbody tr th:only-of-type {\n",
       "        vertical-align: middle;\n",
       "    }\n",
       "\n",
       "    .dataframe tbody tr th {\n",
       "        vertical-align: top;\n",
       "    }\n",
       "\n",
       "    .dataframe thead th {\n",
       "        text-align: right;\n",
       "    }\n",
       "</style>\n",
       "<table border=\"1\" class=\"dataframe\">\n",
       "  <thead>\n",
       "    <tr style=\"text-align: right;\">\n",
       "      <th></th>\n",
       "      <th>Area</th>\n",
       "      <th>BHK</th>\n",
       "      <th>Bathroom</th>\n",
       "      <th>Parking</th>\n",
       "      <th>Price</th>\n",
       "      <th>Per_Sqft</th>\n",
       "    </tr>\n",
       "  </thead>\n",
       "  <tbody>\n",
       "    <tr>\n",
       "      <th>count</th>\n",
       "      <td>1176.000000</td>\n",
       "      <td>1176.000000</td>\n",
       "      <td>1176.000000</td>\n",
       "      <td>1176.000000</td>\n",
       "      <td>1.176000e+03</td>\n",
       "      <td>1176.000000</td>\n",
       "    </tr>\n",
       "    <tr>\n",
       "      <th>mean</th>\n",
       "      <td>1447.542711</td>\n",
       "      <td>2.789966</td>\n",
       "      <td>2.551871</td>\n",
       "      <td>1.953231</td>\n",
       "      <td>2.109173e+07</td>\n",
       "      <td>15108.514563</td>\n",
       "    </tr>\n",
       "    <tr>\n",
       "      <th>std</th>\n",
       "      <td>1487.658687</td>\n",
       "      <td>0.960993</td>\n",
       "      <td>1.052994</td>\n",
       "      <td>6.409197</td>\n",
       "      <td>2.523174e+07</td>\n",
       "      <td>19767.263465</td>\n",
       "    </tr>\n",
       "    <tr>\n",
       "      <th>min</th>\n",
       "      <td>28.000000</td>\n",
       "      <td>1.000000</td>\n",
       "      <td>1.000000</td>\n",
       "      <td>1.000000</td>\n",
       "      <td>1.000000e+06</td>\n",
       "      <td>1250.000000</td>\n",
       "    </tr>\n",
       "    <tr>\n",
       "      <th>25%</th>\n",
       "      <td>800.000000</td>\n",
       "      <td>2.000000</td>\n",
       "      <td>2.000000</td>\n",
       "      <td>1.000000</td>\n",
       "      <td>5.800000e+06</td>\n",
       "      <td>6584.000000</td>\n",
       "    </tr>\n",
       "    <tr>\n",
       "      <th>50%</th>\n",
       "      <td>1172.500000</td>\n",
       "      <td>3.000000</td>\n",
       "      <td>2.000000</td>\n",
       "      <td>1.000000</td>\n",
       "      <td>1.400000e+07</td>\n",
       "      <td>11111.000000</td>\n",
       "    </tr>\n",
       "    <tr>\n",
       "      <th>75%</th>\n",
       "      <td>1700.000000</td>\n",
       "      <td>3.000000</td>\n",
       "      <td>3.000000</td>\n",
       "      <td>2.000000</td>\n",
       "      <td>2.600000e+07</td>\n",
       "      <td>17231.083333</td>\n",
       "    </tr>\n",
       "    <tr>\n",
       "      <th>max</th>\n",
       "      <td>24300.000000</td>\n",
       "      <td>10.000000</td>\n",
       "      <td>7.000000</td>\n",
       "      <td>114.000000</td>\n",
       "      <td>2.400000e+08</td>\n",
       "      <td>183333.000000</td>\n",
       "    </tr>\n",
       "  </tbody>\n",
       "</table>\n",
       "</div>"
      ],
      "text/plain": [
       "               Area          BHK     Bathroom      Parking         Price  \\\n",
       "count   1176.000000  1176.000000  1176.000000  1176.000000  1.176000e+03   \n",
       "mean    1447.542711     2.789966     2.551871     1.953231  2.109173e+07   \n",
       "std     1487.658687     0.960993     1.052994     6.409197  2.523174e+07   \n",
       "min       28.000000     1.000000     1.000000     1.000000  1.000000e+06   \n",
       "25%      800.000000     2.000000     2.000000     1.000000  5.800000e+06   \n",
       "50%     1172.500000     3.000000     2.000000     1.000000  1.400000e+07   \n",
       "75%     1700.000000     3.000000     3.000000     2.000000  2.600000e+07   \n",
       "max    24300.000000    10.000000     7.000000   114.000000  2.400000e+08   \n",
       "\n",
       "            Per_Sqft  \n",
       "count    1176.000000  \n",
       "mean    15108.514563  \n",
       "std     19767.263465  \n",
       "min      1250.000000  \n",
       "25%      6584.000000  \n",
       "50%     11111.000000  \n",
       "75%     17231.083333  \n",
       "max    183333.000000  "
      ]
     },
     "execution_count": 19,
     "metadata": {},
     "output_type": "execute_result"
    }
   ],
   "source": [
    "# Let's look at the descriptive statistics \n",
    "df.describe()"
   ]
  },
  {
   "cell_type": "markdown",
   "id": "ac2f7afe",
   "metadata": {},
   "source": [
    "# EDA"
   ]
  },
  {
   "cell_type": "code",
   "execution_count": 20,
   "id": "a2b2a887",
   "metadata": {},
   "outputs": [],
   "source": [
    "color_palette=sns.color_palette(['#797D62','#9B9B7A','#D9AE94','#E5C59E','#F1DCA7','#F8D488','#E4B074','#D08C60','#997B66'])\n",
    "sns.set_palette(color_palette)"
   ]
  },
  {
   "cell_type": "code",
   "execution_count": 21,
   "id": "e0ad9183",
   "metadata": {},
   "outputs": [
    {
     "data": {
      "text/plain": [
       "Index(['Area', 'BHK', 'Bathroom', 'Furnishing', 'Locality', 'Parking', 'Price',\n",
       "       'Status', 'Transaction', 'Type', 'Per_Sqft'],\n",
       "      dtype='object')"
      ]
     },
     "execution_count": 21,
     "metadata": {},
     "output_type": "execute_result"
    }
   ],
   "source": [
    "df.columns"
   ]
  },
  {
   "cell_type": "markdown",
   "id": "3a215b21",
   "metadata": {},
   "source": [
    "# Area"
   ]
  },
  {
   "cell_type": "code",
   "execution_count": 22,
   "id": "34b94cdf",
   "metadata": {},
   "outputs": [
    {
     "data": {
      "text/plain": [
       "<AxesSubplot:xlabel='Area', ylabel='Count'>"
      ]
     },
     "execution_count": 22,
     "metadata": {},
     "output_type": "execute_result"
    },
    {
     "data": {
      "image/png": "[encoded data removed]",
      "text/plain": [
       "<Figure size 1080x504 with 1 Axes>"
      ]
     },
     "metadata": {
      "needs_background": "light"
     },
     "output_type": "display_data"
    }
   ],
   "source": [
    "plt.figure(figsize=(15,7))\n",
    "sns.histplot(x=df['Area'],kde=True,bins=50)"
   ]
  },
  {
   "cell_type": "markdown",
   "id": "5fec6d65",
   "metadata": {},
   "source": [
    "# BHK and Price"
   ]
  },
  {
   "cell_type": "code",
   "execution_count": 23,
   "id": "781fc186",
   "metadata": {},
   "outputs": [
    {
     "name": "stdout",
     "output_type": "stream",
     "text": [
      "Correlation between BHK and Price is 0.566038856358519\n",
      "Skewness of the BHK is 0.5395026710389439\n"
     ]
    },
    {
     "data": {
      "image/png": "[encoded data removed]",
      "text/plain": [
       "<Figure size 1080x504 with 2 Axes>"
      ]
     },
     "metadata": {
      "needs_background": "light"
     },
     "output_type": "display_data"
    }
   ],
   "source": [
    "plt.figure(figsize=(15,7))\n",
    "plt.subplot(1,2,1)\n",
    "sns.countplot(x=df['BHK'])\n",
    "plt.subplot(1,2,2)\n",
    "sns.boxplot(x=df['BHK'],y=df['Price'])\n",
    "print('Correlation between BHK and Price is',df['BHK'].corr(df['Price']))\n",
    "print('Skewness of the BHK is',df['BHK'].skew())"
   ]
  },
  {
   "cell_type": "markdown",
   "id": "d4f0b6a2",
   "metadata": {},
   "source": [
    "1. Most of the properties are less than 5 bhk.\n",
    "2. Very less properties are haing more than 5 bhk that means 2,3,4 and 5 bhk are more popular than 6,7 and 10 bhk.\n",
    "3. Prices of 6,7 and 10 bhk are less than 4 or 5 bhk property, that feels strange.\n",
    "#### Q. Why the prices are low for 6,7 and 10 bhk."
   ]
  },
  {
   "cell_type": "markdown",
   "id": "5e334ec8",
   "metadata": {},
   "source": [
    "# BHK and Area"
   ]
  },
  {
   "cell_type": "code",
   "execution_count": 24,
   "id": "c5e68627",
   "metadata": {},
   "outputs": [
    {
     "data": {
      "text/plain": [
       "<AxesSubplot:xlabel='BHK', ylabel='Area'>"
      ]
     },
     "execution_count": 24,
     "metadata": {},
     "output_type": "execute_result"
    },
    {
     "data": {
      "image/png": "[encoded data removed]",
      "text/plain": [
       "<Figure size 1080x504 with 1 Axes>"
      ]
     },
     "metadata": {
      "needs_background": "light"
     },
     "output_type": "display_data"
    }
   ],
   "source": [
    "plt.figure(figsize=(15,7))\n",
    "sns.boxplot(x=df['BHK'],y=df['Area'])"
   ]
  },
  {
   "cell_type": "markdown",
   "id": "5b8ea059",
   "metadata": {},
   "source": [
    "The reason for the lower prices of 6,7 and 10 bhk properties is that the area occpied by these properties are less than or equal to the properties with 3,4 and 5 bhk.\n",
    "So people prefer more space in rooms than more number of rooms.\n",
    "### Interesting!."
   ]
  },
  {
   "cell_type": "markdown",
   "id": "0fff2e43",
   "metadata": {},
   "source": [
    "# Bathroom and Price"
   ]
  },
  {
   "cell_type": "code",
   "execution_count": 25,
   "id": "27b31334",
   "metadata": {},
   "outputs": [
    {
     "name": "stdout",
     "output_type": "stream",
     "text": [
      "Correlation between Bathroom and Price is 0.7316835672458932\n",
      "Skewness of the Bathroom is 0.8268062674140753\n"
     ]
    },
    {
     "data": {
      "image/png": "[encoded data removed]",
      "text/plain": [
       "<Figure size 1080x504 with 2 Axes>"
      ]
     },
     "metadata": {
      "needs_background": "light"
     },
     "output_type": "display_data"
    }
   ],
   "source": [
    "plt.figure(figsize=(15,7))\n",
    "plt.subplot(1,2,1)\n",
    "sns.countplot(x=df['Bathroom'])\n",
    "plt.subplot(1,2,2)\n",
    "sns.boxplot(x=df['Bathroom'],y=df['Price'])\n",
    "print('Correlation between Bathroom and Price is',df['Bathroom'].corr(df['Price']))\n",
    "print('Skewness of the Bathroom is',df['Bathroom'].skew())"
   ]
  },
  {
   "cell_type": "markdown",
   "id": "387fcf72",
   "metadata": {},
   "source": [
    "More the number of bathrooms in property, more the price."
   ]
  },
  {
   "cell_type": "markdown",
   "id": "cd566f57",
   "metadata": {},
   "source": [
    "# Furnishing and Price"
   ]
  },
  {
   "cell_type": "code",
   "execution_count": 26,
   "id": "1317d940",
   "metadata": {},
   "outputs": [
    {
     "data": {
      "text/plain": [
       "<AxesSubplot:xlabel='Furnishing', ylabel='Price'>"
      ]
     },
     "execution_count": 26,
     "metadata": {},
     "output_type": "execute_result"
    },
    {
     "data": {
      "image/png": "[encoded data removed]",
      "text/plain": [
       "<Figure size 1080x504 with 2 Axes>"
      ]
     },
     "metadata": {
      "needs_background": "light"
     },
     "output_type": "display_data"
    }
   ],
   "source": [
    "plt.figure(figsize=(15,7))\n",
    "plt.subplot(1,2,1)\n",
    "sns.countplot(x=df['Furnishing'])\n",
    "plt.subplot(1,2,2)\n",
    "sns.boxplot(x=df['Furnishing'],y=df['Price'])"
   ]
  },
  {
   "cell_type": "markdown",
   "id": "404c604e",
   "metadata": {},
   "source": [
    "### Q. Why the price for the furnished, semi-furnished and unfurnished properties are almost in same range. "
   ]
  },
  {
   "cell_type": "markdown",
   "id": "79919738",
   "metadata": {},
   "source": [
    "# Furnishing ,Price and BHK"
   ]
  },
  {
   "cell_type": "code",
   "execution_count": 27,
   "id": "e1b5ae43",
   "metadata": {},
   "outputs": [
    {
     "data": {
      "text/plain": [
       "<AxesSubplot:xlabel='Furnishing', ylabel='Price'>"
      ]
     },
     "execution_count": 27,
     "metadata": {},
     "output_type": "execute_result"
    },
    {
     "data": {
      "image/png": "[encoded data removed]",
      "text/plain": [
       "<Figure size 1080x720 with 1 Axes>"
      ]
     },
     "metadata": {
      "needs_background": "light"
     },
     "output_type": "display_data"
    }
   ],
   "source": [
    "plt.figure(figsize=(15,10))\n",
    "sns.barplot(x=df['Furnishing'],y=df['Price'],hue=df['BHK'])"
   ]
  },
  {
   "cell_type": "markdown",
   "id": "155b9be2",
   "metadata": {},
   "source": [
    "Ultimately, choosing to rent out a furnished or unfurnished property really depends on the target market. Since students and young professionals tend to rent furnished properties, while couples and families prefer unfurnished units.\n",
    "According to the this statement, people tend to buy unfurnished or semi-funished property because most are the customers buy property for their families to live."
   ]
  },
  {
   "cell_type": "markdown",
   "id": "8c08e4c2",
   "metadata": {},
   "source": [
    "# Parking and Price"
   ]
  },
  {
   "cell_type": "code",
   "execution_count": 28,
   "id": "b11578c0",
   "metadata": {},
   "outputs": [
    {
     "name": "stdout",
     "output_type": "stream",
     "text": [
      "Correlation between Parking and Price is -0.0012735025532615509\n",
      "Skewness of the Parking is 14.819394368883357\n"
     ]
    },
    {
     "data": {
      "image/png": "[encoded data removed]",
      "text/plain": [
       "<Figure size 1080x504 with 2 Axes>"
      ]
     },
     "metadata": {
      "needs_background": "light"
     },
     "output_type": "display_data"
    }
   ],
   "source": [
    "plt.figure(figsize=(15,7))\n",
    "plt.subplot(1,2,1)\n",
    "sns.countplot(x=df['Parking'])\n",
    "plt.subplot(1,2,2)\n",
    "sns.boxplot(x=df['Parking'],y=df['Price'])\n",
    "print('Correlation between Parking and Price is',df['Parking'].corr(df['Price']))\n",
    "print('Skewness of the Parking is',df['Parking'].skew())"
   ]
  },
  {
   "cell_type": "markdown",
   "id": "43811df8",
   "metadata": {},
   "source": [
    "1. There is some suspicion in the data as no property can have such huge number of parkings 39 or 114, there is something wrong in the data.\n",
    "2. Let's remove these properties from our data."
   ]
  },
  {
   "cell_type": "code",
   "execution_count": 29,
   "id": "e02f540d",
   "metadata": {},
   "outputs": [],
   "source": [
    "df.drop(df.index[(df[\"Parking\"] == 39)],axis=0,inplace=True)\n",
    "df.drop(df.index[(df[\"Parking\"] == 114)],axis=0,inplace=True)"
   ]
  },
  {
   "cell_type": "markdown",
   "id": "43e2278f",
   "metadata": {},
   "source": [
    "# Status and Price"
   ]
  },
  {
   "cell_type": "code",
   "execution_count": 30,
   "id": "029af031",
   "metadata": {},
   "outputs": [
    {
     "data": {
      "text/plain": [
       "<AxesSubplot:xlabel='Status', ylabel='Price'>"
      ]
     },
     "execution_count": 30,
     "metadata": {},
     "output_type": "execute_result"
    },
    {
     "data": {
      "image/png": "[encoded data removed]",
      "text/plain": [
       "<Figure size 1080x504 with 2 Axes>"
      ]
     },
     "metadata": {
      "needs_background": "light"
     },
     "output_type": "display_data"
    }
   ],
   "source": [
    "plt.figure(figsize=(15,7))\n",
    "plt.subplot(1,2,1)\n",
    "sns.countplot(x=df['Status'])\n",
    "plt.subplot(1,2,2)\n",
    "sns.boxplot(x=df['Status'],y=df['Price'])"
   ]
  },
  {
   "cell_type": "markdown",
   "id": "efb834d4",
   "metadata": {},
   "source": [
    "Almost all the properties are ready to move in."
   ]
  },
  {
   "cell_type": "markdown",
   "id": "81c0d295",
   "metadata": {},
   "source": [
    "#### Q. Why the prices of the properties high which are not ready to move in yet."
   ]
  },
  {
   "cell_type": "code",
   "execution_count": 31,
   "id": "8849f9f0",
   "metadata": {},
   "outputs": [],
   "source": [
    "temp=df.index[df['Status']=='Almost_ready']"
   ]
  },
  {
   "cell_type": "code",
   "execution_count": 32,
   "id": "f10670b3",
   "metadata": {},
   "outputs": [],
   "source": [
    "dtemp=df.index[df['Status']=='Ready_to_move']"
   ]
  },
  {
   "cell_type": "code",
   "execution_count": 33,
   "id": "34600bf8",
   "metadata": {},
   "outputs": [
    {
     "data": {
      "text/html": [
       "<div>\n",
       "<style scoped>\n",
       "    .dataframe tbody tr th:only-of-type {\n",
       "        vertical-align: middle;\n",
       "    }\n",
       "\n",
       "    .dataframe tbody tr th {\n",
       "        vertical-align: top;\n",
       "    }\n",
       "\n",
       "    .dataframe thead th {\n",
       "        text-align: right;\n",
       "    }\n",
       "</style>\n",
       "<table border=\"1\" class=\"dataframe\">\n",
       "  <thead>\n",
       "    <tr style=\"text-align: right;\">\n",
       "      <th></th>\n",
       "      <th>Area</th>\n",
       "      <th>BHK</th>\n",
       "      <th>Bathroom</th>\n",
       "      <th>Furnishing</th>\n",
       "      <th>Locality</th>\n",
       "      <th>Parking</th>\n",
       "      <th>Price</th>\n",
       "      <th>Status</th>\n",
       "      <th>Transaction</th>\n",
       "      <th>Type</th>\n",
       "      <th>Per_Sqft</th>\n",
       "    </tr>\n",
       "  </thead>\n",
       "  <tbody>\n",
       "    <tr>\n",
       "      <th>8</th>\n",
       "      <td>985.0</td>\n",
       "      <td>3</td>\n",
       "      <td>3</td>\n",
       "      <td>Unfurnished</td>\n",
       "      <td>Rohini Sector</td>\n",
       "      <td>1</td>\n",
       "      <td>6800000</td>\n",
       "      <td>Almost_ready</td>\n",
       "      <td>New_Property</td>\n",
       "      <td>Builder_Floor</td>\n",
       "      <td>6154.0</td>\n",
       "    </tr>\n",
       "    <tr>\n",
       "      <th>67</th>\n",
       "      <td>700.0</td>\n",
       "      <td>2</td>\n",
       "      <td>1</td>\n",
       "      <td>Semi-Furnished</td>\n",
       "      <td>Dwarka Sector</td>\n",
       "      <td>1</td>\n",
       "      <td>2400000</td>\n",
       "      <td>Almost_ready</td>\n",
       "      <td>New_Property</td>\n",
       "      <td>Apartment</td>\n",
       "      <td>3524.0</td>\n",
       "    </tr>\n",
       "    <tr>\n",
       "      <th>131</th>\n",
       "      <td>1800.0</td>\n",
       "      <td>3</td>\n",
       "      <td>3</td>\n",
       "      <td>Semi-Furnished</td>\n",
       "      <td>Lajpat Nagar</td>\n",
       "      <td>2</td>\n",
       "      <td>35000000</td>\n",
       "      <td>Almost_ready</td>\n",
       "      <td>New_Property</td>\n",
       "      <td>Builder_Floor</td>\n",
       "      <td>18507.0</td>\n",
       "    </tr>\n",
       "    <tr>\n",
       "      <th>209</th>\n",
       "      <td>4688.0</td>\n",
       "      <td>5</td>\n",
       "      <td>4</td>\n",
       "      <td>Unfurnished</td>\n",
       "      <td>Other</td>\n",
       "      <td>1</td>\n",
       "      <td>135000000</td>\n",
       "      <td>Almost_ready</td>\n",
       "      <td>New_Property</td>\n",
       "      <td>Apartment</td>\n",
       "      <td>28797.0</td>\n",
       "    </tr>\n",
       "    <tr>\n",
       "      <th>211</th>\n",
       "      <td>3901.0</td>\n",
       "      <td>4</td>\n",
       "      <td>4</td>\n",
       "      <td>Unfurnished</td>\n",
       "      <td>Other</td>\n",
       "      <td>1</td>\n",
       "      <td>93000000</td>\n",
       "      <td>Almost_ready</td>\n",
       "      <td>New_Property</td>\n",
       "      <td>Apartment</td>\n",
       "      <td>23840.0</td>\n",
       "    </tr>\n",
       "    <tr>\n",
       "      <th>224</th>\n",
       "      <td>2900.0</td>\n",
       "      <td>5</td>\n",
       "      <td>5</td>\n",
       "      <td>Furnished</td>\n",
       "      <td>Other</td>\n",
       "      <td>1</td>\n",
       "      <td>51000000</td>\n",
       "      <td>Almost_ready</td>\n",
       "      <td>New_Property</td>\n",
       "      <td>Builder_Floor</td>\n",
       "      <td>22222.0</td>\n",
       "    </tr>\n",
       "    <tr>\n",
       "      <th>225</th>\n",
       "      <td>5025.0</td>\n",
       "      <td>5</td>\n",
       "      <td>6</td>\n",
       "      <td>Unfurnished</td>\n",
       "      <td>Kailash Colony</td>\n",
       "      <td>4</td>\n",
       "      <td>170000000</td>\n",
       "      <td>Almost_ready</td>\n",
       "      <td>New_Property</td>\n",
       "      <td>Builder_Floor</td>\n",
       "      <td>22222.0</td>\n",
       "    </tr>\n",
       "    <tr>\n",
       "      <th>226</th>\n",
       "      <td>1000.0</td>\n",
       "      <td>3</td>\n",
       "      <td>2</td>\n",
       "      <td>Semi-Furnished</td>\n",
       "      <td>Other</td>\n",
       "      <td>1</td>\n",
       "      <td>5510000</td>\n",
       "      <td>Almost_ready</td>\n",
       "      <td>New_Property</td>\n",
       "      <td>Builder_Floor</td>\n",
       "      <td>22222.0</td>\n",
       "    </tr>\n",
       "    <tr>\n",
       "      <th>227</th>\n",
       "      <td>1135.0</td>\n",
       "      <td>3</td>\n",
       "      <td>3</td>\n",
       "      <td>Furnished</td>\n",
       "      <td>Other</td>\n",
       "      <td>2</td>\n",
       "      <td>25000000</td>\n",
       "      <td>Almost_ready</td>\n",
       "      <td>Resale</td>\n",
       "      <td>Apartment</td>\n",
       "      <td>22222.0</td>\n",
       "    </tr>\n",
       "    <tr>\n",
       "      <th>228</th>\n",
       "      <td>2306.0</td>\n",
       "      <td>3</td>\n",
       "      <td>3</td>\n",
       "      <td>Unfurnished</td>\n",
       "      <td>Other</td>\n",
       "      <td>1</td>\n",
       "      <td>57000000</td>\n",
       "      <td>Almost_ready</td>\n",
       "      <td>New_Property</td>\n",
       "      <td>Apartment</td>\n",
       "      <td>24718.0</td>\n",
       "    </tr>\n",
       "    <tr>\n",
       "      <th>229</th>\n",
       "      <td>850.0</td>\n",
       "      <td>2</td>\n",
       "      <td>2</td>\n",
       "      <td>Semi-Furnished</td>\n",
       "      <td>Other</td>\n",
       "      <td>1</td>\n",
       "      <td>2940000</td>\n",
       "      <td>Almost_ready</td>\n",
       "      <td>New_Property</td>\n",
       "      <td>Apartment</td>\n",
       "      <td>24718.0</td>\n",
       "    </tr>\n",
       "    <tr>\n",
       "      <th>234</th>\n",
       "      <td>22050.0</td>\n",
       "      <td>4</td>\n",
       "      <td>4</td>\n",
       "      <td>Semi-Furnished</td>\n",
       "      <td>Kailash Colony</td>\n",
       "      <td>2</td>\n",
       "      <td>51000000</td>\n",
       "      <td>Almost_ready</td>\n",
       "      <td>New_Property</td>\n",
       "      <td>Builder_Floor</td>\n",
       "      <td>30556.0</td>\n",
       "    </tr>\n",
       "    <tr>\n",
       "      <th>279</th>\n",
       "      <td>3690.0</td>\n",
       "      <td>4</td>\n",
       "      <td>5</td>\n",
       "      <td>Semi-Furnished</td>\n",
       "      <td>Kailash Colony</td>\n",
       "      <td>3</td>\n",
       "      <td>79000000</td>\n",
       "      <td>Almost_ready</td>\n",
       "      <td>New_Property</td>\n",
       "      <td>Builder_Floor</td>\n",
       "      <td>21409.0</td>\n",
       "    </tr>\n",
       "    <tr>\n",
       "      <th>322</th>\n",
       "      <td>900.0</td>\n",
       "      <td>3</td>\n",
       "      <td>2</td>\n",
       "      <td>Semi-Furnished</td>\n",
       "      <td>Shahdara</td>\n",
       "      <td>1</td>\n",
       "      <td>6000000</td>\n",
       "      <td>Almost_ready</td>\n",
       "      <td>New_Property</td>\n",
       "      <td>Builder_Floor</td>\n",
       "      <td>3901.0</td>\n",
       "    </tr>\n",
       "    <tr>\n",
       "      <th>325</th>\n",
       "      <td>1650.0</td>\n",
       "      <td>4</td>\n",
       "      <td>3</td>\n",
       "      <td>Furnished</td>\n",
       "      <td>Shahdara</td>\n",
       "      <td>1</td>\n",
       "      <td>14000000</td>\n",
       "      <td>Almost_ready</td>\n",
       "      <td>New_Property</td>\n",
       "      <td>Apartment</td>\n",
       "      <td>3901.0</td>\n",
       "    </tr>\n",
       "    <tr>\n",
       "      <th>394</th>\n",
       "      <td>1000.0</td>\n",
       "      <td>3</td>\n",
       "      <td>2</td>\n",
       "      <td>Semi-Furnished</td>\n",
       "      <td>Other</td>\n",
       "      <td>1</td>\n",
       "      <td>5510000</td>\n",
       "      <td>Almost_ready</td>\n",
       "      <td>New_Property</td>\n",
       "      <td>Builder_Floor</td>\n",
       "      <td>6111.0</td>\n",
       "    </tr>\n",
       "    <tr>\n",
       "      <th>428</th>\n",
       "      <td>1900.0</td>\n",
       "      <td>3</td>\n",
       "      <td>3</td>\n",
       "      <td>Semi-Furnished</td>\n",
       "      <td>Other</td>\n",
       "      <td>1</td>\n",
       "      <td>55300000</td>\n",
       "      <td>Almost_ready</td>\n",
       "      <td>New_Property</td>\n",
       "      <td>Apartment</td>\n",
       "      <td>7500.0</td>\n",
       "    </tr>\n",
       "    <tr>\n",
       "      <th>532</th>\n",
       "      <td>1650.0</td>\n",
       "      <td>4</td>\n",
       "      <td>3</td>\n",
       "      <td>Furnished</td>\n",
       "      <td>Shahdara</td>\n",
       "      <td>1</td>\n",
       "      <td>14000000</td>\n",
       "      <td>Almost_ready</td>\n",
       "      <td>New_Property</td>\n",
       "      <td>Apartment</td>\n",
       "      <td>6667.0</td>\n",
       "    </tr>\n",
       "    <tr>\n",
       "      <th>544</th>\n",
       "      <td>1450.0</td>\n",
       "      <td>3</td>\n",
       "      <td>3</td>\n",
       "      <td>Semi-Furnished</td>\n",
       "      <td>Other</td>\n",
       "      <td>1</td>\n",
       "      <td>34000000</td>\n",
       "      <td>Almost_ready</td>\n",
       "      <td>New_Property</td>\n",
       "      <td>Builder_Floor</td>\n",
       "      <td>28846.0</td>\n",
       "    </tr>\n",
       "    <tr>\n",
       "      <th>762</th>\n",
       "      <td>800.0</td>\n",
       "      <td>2</td>\n",
       "      <td>2</td>\n",
       "      <td>Semi-Furnished</td>\n",
       "      <td>Other</td>\n",
       "      <td>1</td>\n",
       "      <td>5000000</td>\n",
       "      <td>Almost_ready</td>\n",
       "      <td>Resale</td>\n",
       "      <td>Builder_Floor</td>\n",
       "      <td>3714.0</td>\n",
       "    </tr>\n",
       "  </tbody>\n",
       "</table>\n",
       "</div>"
      ],
      "text/plain": [
       "        Area  BHK  Bathroom      Furnishing        Locality  Parking  \\\n",
       "8      985.0    3         3     Unfurnished   Rohini Sector        1   \n",
       "67     700.0    2         1  Semi-Furnished   Dwarka Sector        1   \n",
       "131   1800.0    3         3  Semi-Furnished    Lajpat Nagar        2   \n",
       "209   4688.0    5         4     Unfurnished           Other        1   \n",
       "211   3901.0    4         4     Unfurnished           Other        1   \n",
       "224   2900.0    5         5       Furnished           Other        1   \n",
       "225   5025.0    5         6     Unfurnished  Kailash Colony        4   \n",
       "226   1000.0    3         2  Semi-Furnished           Other        1   \n",
       "227   1135.0    3         3       Furnished           Other        2   \n",
       "228   2306.0    3         3     Unfurnished           Other        1   \n",
       "229    850.0    2         2  Semi-Furnished           Other        1   \n",
       "234  22050.0    4         4  Semi-Furnished  Kailash Colony        2   \n",
       "279   3690.0    4         5  Semi-Furnished  Kailash Colony        3   \n",
       "322    900.0    3         2  Semi-Furnished        Shahdara        1   \n",
       "325   1650.0    4         3       Furnished        Shahdara        1   \n",
       "394   1000.0    3         2  Semi-Furnished           Other        1   \n",
       "428   1900.0    3         3  Semi-Furnished           Other        1   \n",
       "532   1650.0    4         3       Furnished        Shahdara        1   \n",
       "544   1450.0    3         3  Semi-Furnished           Other        1   \n",
       "762    800.0    2         2  Semi-Furnished           Other        1   \n",
       "\n",
       "         Price        Status   Transaction           Type  Per_Sqft  \n",
       "8      6800000  Almost_ready  New_Property  Builder_Floor    6154.0  \n",
       "67     2400000  Almost_ready  New_Property      Apartment    3524.0  \n",
       "131   35000000  Almost_ready  New_Property  Builder_Floor   18507.0  \n",
       "209  135000000  Almost_ready  New_Property      Apartment   28797.0  \n",
       "211   93000000  Almost_ready  New_Property      Apartment   23840.0  \n",
       "224   51000000  Almost_ready  New_Property  Builder_Floor   22222.0  \n",
       "225  170000000  Almost_ready  New_Property  Builder_Floor   22222.0  \n",
       "226    5510000  Almost_ready  New_Property  Builder_Floor   22222.0  \n",
       "227   25000000  Almost_ready        Resale      Apartment   22222.0  \n",
       "228   57000000  Almost_ready  New_Property      Apartment   24718.0  \n",
       "229    2940000  Almost_ready  New_Property      Apartment   24718.0  \n",
       "234   51000000  Almost_ready  New_Property  Builder_Floor   30556.0  \n",
       "279   79000000  Almost_ready  New_Property  Builder_Floor   21409.0  \n",
       "322    6000000  Almost_ready  New_Property  Builder_Floor    3901.0  \n",
       "325   14000000  Almost_ready  New_Property      Apartment    3901.0  \n",
       "394    5510000  Almost_ready  New_Property  Builder_Floor    6111.0  \n",
       "428   55300000  Almost_ready  New_Property      Apartment    7500.0  \n",
       "532   14000000  Almost_ready  New_Property      Apartment    6667.0  \n",
       "544   34000000  Almost_ready  New_Property  Builder_Floor   28846.0  \n",
       "762    5000000  Almost_ready        Resale  Builder_Floor    3714.0  "
      ]
     },
     "execution_count": 33,
     "metadata": {},
     "output_type": "execute_result"
    }
   ],
   "source": [
    "df.loc[temp].head(20)"
   ]
  },
  {
   "cell_type": "code",
   "execution_count": 34,
   "id": "b9b5bf13",
   "metadata": {},
   "outputs": [
    {
     "data": {
      "text/html": [
       "<div>\n",
       "<style scoped>\n",
       "    .dataframe tbody tr th:only-of-type {\n",
       "        vertical-align: middle;\n",
       "    }\n",
       "\n",
       "    .dataframe tbody tr th {\n",
       "        vertical-align: top;\n",
       "    }\n",
       "\n",
       "    .dataframe thead th {\n",
       "        text-align: right;\n",
       "    }\n",
       "</style>\n",
       "<table border=\"1\" class=\"dataframe\">\n",
       "  <thead>\n",
       "    <tr style=\"text-align: right;\">\n",
       "      <th></th>\n",
       "      <th>Area</th>\n",
       "      <th>BHK</th>\n",
       "      <th>Bathroom</th>\n",
       "      <th>Furnishing</th>\n",
       "      <th>Locality</th>\n",
       "      <th>Parking</th>\n",
       "      <th>Price</th>\n",
       "      <th>Status</th>\n",
       "      <th>Transaction</th>\n",
       "      <th>Type</th>\n",
       "      <th>Per_Sqft</th>\n",
       "    </tr>\n",
       "  </thead>\n",
       "  <tbody>\n",
       "    <tr>\n",
       "      <th>0</th>\n",
       "      <td>800.0000</td>\n",
       "      <td>3</td>\n",
       "      <td>2</td>\n",
       "      <td>Semi-Furnished</td>\n",
       "      <td>Rohini Sector</td>\n",
       "      <td>1</td>\n",
       "      <td>6500000</td>\n",
       "      <td>Ready_to_move</td>\n",
       "      <td>New_Property</td>\n",
       "      <td>Builder_Floor</td>\n",
       "      <td>8125.0</td>\n",
       "    </tr>\n",
       "    <tr>\n",
       "      <th>1</th>\n",
       "      <td>750.0000</td>\n",
       "      <td>2</td>\n",
       "      <td>2</td>\n",
       "      <td>Semi-Furnished</td>\n",
       "      <td>Rohini Sector</td>\n",
       "      <td>1</td>\n",
       "      <td>5000000</td>\n",
       "      <td>Ready_to_move</td>\n",
       "      <td>New_Property</td>\n",
       "      <td>Apartment</td>\n",
       "      <td>6667.0</td>\n",
       "    </tr>\n",
       "    <tr>\n",
       "      <th>2</th>\n",
       "      <td>950.0000</td>\n",
       "      <td>2</td>\n",
       "      <td>2</td>\n",
       "      <td>Furnished</td>\n",
       "      <td>Rohini Sector</td>\n",
       "      <td>1</td>\n",
       "      <td>15500000</td>\n",
       "      <td>Ready_to_move</td>\n",
       "      <td>Resale</td>\n",
       "      <td>Apartment</td>\n",
       "      <td>6667.0</td>\n",
       "    </tr>\n",
       "    <tr>\n",
       "      <th>3</th>\n",
       "      <td>600.0000</td>\n",
       "      <td>2</td>\n",
       "      <td>2</td>\n",
       "      <td>Semi-Furnished</td>\n",
       "      <td>Rohini Sector</td>\n",
       "      <td>1</td>\n",
       "      <td>4200000</td>\n",
       "      <td>Ready_to_move</td>\n",
       "      <td>Resale</td>\n",
       "      <td>Builder_Floor</td>\n",
       "      <td>6667.0</td>\n",
       "    </tr>\n",
       "    <tr>\n",
       "      <th>4</th>\n",
       "      <td>650.0000</td>\n",
       "      <td>2</td>\n",
       "      <td>2</td>\n",
       "      <td>Semi-Furnished</td>\n",
       "      <td>Rohini Sector</td>\n",
       "      <td>1</td>\n",
       "      <td>6200000</td>\n",
       "      <td>Ready_to_move</td>\n",
       "      <td>New_Property</td>\n",
       "      <td>Builder_Floor</td>\n",
       "      <td>6667.0</td>\n",
       "    </tr>\n",
       "    <tr>\n",
       "      <th>5</th>\n",
       "      <td>1300.0000</td>\n",
       "      <td>4</td>\n",
       "      <td>3</td>\n",
       "      <td>Semi-Furnished</td>\n",
       "      <td>Rohini Sector</td>\n",
       "      <td>1</td>\n",
       "      <td>15500000</td>\n",
       "      <td>Ready_to_move</td>\n",
       "      <td>New_Property</td>\n",
       "      <td>Builder_Floor</td>\n",
       "      <td>6667.0</td>\n",
       "    </tr>\n",
       "    <tr>\n",
       "      <th>6</th>\n",
       "      <td>1350.0000</td>\n",
       "      <td>4</td>\n",
       "      <td>3</td>\n",
       "      <td>Semi-Furnished</td>\n",
       "      <td>Rohini Sector</td>\n",
       "      <td>1</td>\n",
       "      <td>10000000</td>\n",
       "      <td>Ready_to_move</td>\n",
       "      <td>Resale</td>\n",
       "      <td>Builder_Floor</td>\n",
       "      <td>6667.0</td>\n",
       "    </tr>\n",
       "    <tr>\n",
       "      <th>7</th>\n",
       "      <td>650.0000</td>\n",
       "      <td>2</td>\n",
       "      <td>2</td>\n",
       "      <td>Semi-Furnished</td>\n",
       "      <td>Rohini Sector</td>\n",
       "      <td>1</td>\n",
       "      <td>4000000</td>\n",
       "      <td>Ready_to_move</td>\n",
       "      <td>New_Property</td>\n",
       "      <td>Apartment</td>\n",
       "      <td>6154.0</td>\n",
       "    </tr>\n",
       "    <tr>\n",
       "      <th>9</th>\n",
       "      <td>1300.0000</td>\n",
       "      <td>4</td>\n",
       "      <td>4</td>\n",
       "      <td>Semi-Furnished</td>\n",
       "      <td>Rohini Sector</td>\n",
       "      <td>1</td>\n",
       "      <td>15000000</td>\n",
       "      <td>Ready_to_move</td>\n",
       "      <td>New_Property</td>\n",
       "      <td>Builder_Floor</td>\n",
       "      <td>6154.0</td>\n",
       "    </tr>\n",
       "    <tr>\n",
       "      <th>10</th>\n",
       "      <td>1100.0000</td>\n",
       "      <td>3</td>\n",
       "      <td>2</td>\n",
       "      <td>Semi-Furnished</td>\n",
       "      <td>Rohini Sector</td>\n",
       "      <td>1</td>\n",
       "      <td>6200000</td>\n",
       "      <td>Ready_to_move</td>\n",
       "      <td>New_Property</td>\n",
       "      <td>Builder_Floor</td>\n",
       "      <td>6154.0</td>\n",
       "    </tr>\n",
       "    <tr>\n",
       "      <th>11</th>\n",
       "      <td>870.0000</td>\n",
       "      <td>3</td>\n",
       "      <td>2</td>\n",
       "      <td>Semi-Furnished</td>\n",
       "      <td>Rohini Sector</td>\n",
       "      <td>1</td>\n",
       "      <td>7700000</td>\n",
       "      <td>Ready_to_move</td>\n",
       "      <td>New_Property</td>\n",
       "      <td>Builder_Floor</td>\n",
       "      <td>6154.0</td>\n",
       "    </tr>\n",
       "    <tr>\n",
       "      <th>12</th>\n",
       "      <td>630.0000</td>\n",
       "      <td>2</td>\n",
       "      <td>2</td>\n",
       "      <td>Semi-Furnished</td>\n",
       "      <td>Rohini Sector</td>\n",
       "      <td>1</td>\n",
       "      <td>5500000</td>\n",
       "      <td>Ready_to_move</td>\n",
       "      <td>New_Property</td>\n",
       "      <td>Builder_Floor</td>\n",
       "      <td>6154.0</td>\n",
       "    </tr>\n",
       "    <tr>\n",
       "      <th>13</th>\n",
       "      <td>660.0000</td>\n",
       "      <td>2</td>\n",
       "      <td>2</td>\n",
       "      <td>Semi-Furnished</td>\n",
       "      <td>Rohini Sector</td>\n",
       "      <td>1</td>\n",
       "      <td>5000000</td>\n",
       "      <td>Ready_to_move</td>\n",
       "      <td>Resale</td>\n",
       "      <td>Builder_Floor</td>\n",
       "      <td>6154.0</td>\n",
       "    </tr>\n",
       "    <tr>\n",
       "      <th>14</th>\n",
       "      <td>344.4448</td>\n",
       "      <td>2</td>\n",
       "      <td>2</td>\n",
       "      <td>Semi-Furnished</td>\n",
       "      <td>Rohini Sector</td>\n",
       "      <td>1</td>\n",
       "      <td>3310000</td>\n",
       "      <td>Ready_to_move</td>\n",
       "      <td>Resale</td>\n",
       "      <td>Builder_Floor</td>\n",
       "      <td>6154.0</td>\n",
       "    </tr>\n",
       "    <tr>\n",
       "      <th>15</th>\n",
       "      <td>660.0000</td>\n",
       "      <td>2</td>\n",
       "      <td>2</td>\n",
       "      <td>Semi-Furnished</td>\n",
       "      <td>Rohini Sector</td>\n",
       "      <td>1</td>\n",
       "      <td>4700000</td>\n",
       "      <td>Ready_to_move</td>\n",
       "      <td>New_Property</td>\n",
       "      <td>Builder_Floor</td>\n",
       "      <td>6154.0</td>\n",
       "    </tr>\n",
       "    <tr>\n",
       "      <th>16</th>\n",
       "      <td>550.0000</td>\n",
       "      <td>2</td>\n",
       "      <td>2</td>\n",
       "      <td>Semi-Furnished</td>\n",
       "      <td>Rohini Sector</td>\n",
       "      <td>1</td>\n",
       "      <td>4500000</td>\n",
       "      <td>Ready_to_move</td>\n",
       "      <td>New_Property</td>\n",
       "      <td>Builder_Floor</td>\n",
       "      <td>6154.0</td>\n",
       "    </tr>\n",
       "    <tr>\n",
       "      <th>17</th>\n",
       "      <td>1100.0000</td>\n",
       "      <td>4</td>\n",
       "      <td>3</td>\n",
       "      <td>Semi-Furnished</td>\n",
       "      <td>Rohini Sector</td>\n",
       "      <td>1</td>\n",
       "      <td>17000000</td>\n",
       "      <td>Ready_to_move</td>\n",
       "      <td>New_Property</td>\n",
       "      <td>Builder_Floor</td>\n",
       "      <td>6154.0</td>\n",
       "    </tr>\n",
       "    <tr>\n",
       "      <th>18</th>\n",
       "      <td>1150.0000</td>\n",
       "      <td>3</td>\n",
       "      <td>3</td>\n",
       "      <td>Semi-Furnished</td>\n",
       "      <td>Rohini Sector</td>\n",
       "      <td>1</td>\n",
       "      <td>25000000</td>\n",
       "      <td>Ready_to_move</td>\n",
       "      <td>Resale</td>\n",
       "      <td>Apartment</td>\n",
       "      <td>6154.0</td>\n",
       "    </tr>\n",
       "    <tr>\n",
       "      <th>19</th>\n",
       "      <td>650.0000</td>\n",
       "      <td>2</td>\n",
       "      <td>2</td>\n",
       "      <td>Semi-Furnished</td>\n",
       "      <td>Rohini Sector</td>\n",
       "      <td>1</td>\n",
       "      <td>6000000</td>\n",
       "      <td>Ready_to_move</td>\n",
       "      <td>Resale</td>\n",
       "      <td>Builder_Floor</td>\n",
       "      <td>6154.0</td>\n",
       "    </tr>\n",
       "    <tr>\n",
       "      <th>20</th>\n",
       "      <td>850.0000</td>\n",
       "      <td>2</td>\n",
       "      <td>2</td>\n",
       "      <td>Semi-Furnished</td>\n",
       "      <td>Rohini Sector</td>\n",
       "      <td>1</td>\n",
       "      <td>11000000</td>\n",
       "      <td>Ready_to_move</td>\n",
       "      <td>Resale</td>\n",
       "      <td>Apartment</td>\n",
       "      <td>6154.0</td>\n",
       "    </tr>\n",
       "  </tbody>\n",
       "</table>\n",
       "</div>"
      ],
      "text/plain": [
       "         Area  BHK  Bathroom      Furnishing       Locality  Parking  \\\n",
       "0    800.0000    3         2  Semi-Furnished  Rohini Sector        1   \n",
       "1    750.0000    2         2  Semi-Furnished  Rohini Sector        1   \n",
       "2    950.0000    2         2       Furnished  Rohini Sector        1   \n",
       "3    600.0000    2         2  Semi-Furnished  Rohini Sector        1   \n",
       "4    650.0000    2         2  Semi-Furnished  Rohini Sector        1   \n",
       "5   1300.0000    4         3  Semi-Furnished  Rohini Sector        1   \n",
       "6   1350.0000    4         3  Semi-Furnished  Rohini Sector        1   \n",
       "7    650.0000    2         2  Semi-Furnished  Rohini Sector        1   \n",
       "9   1300.0000    4         4  Semi-Furnished  Rohini Sector        1   \n",
       "10  1100.0000    3         2  Semi-Furnished  Rohini Sector        1   \n",
       "11   870.0000    3         2  Semi-Furnished  Rohini Sector        1   \n",
       "12   630.0000    2         2  Semi-Furnished  Rohini Sector        1   \n",
       "13   660.0000    2         2  Semi-Furnished  Rohini Sector        1   \n",
       "14   344.4448    2         2  Semi-Furnished  Rohini Sector        1   \n",
       "15   660.0000    2         2  Semi-Furnished  Rohini Sector        1   \n",
       "16   550.0000    2         2  Semi-Furnished  Rohini Sector        1   \n",
       "17  1100.0000    4         3  Semi-Furnished  Rohini Sector        1   \n",
       "18  1150.0000    3         3  Semi-Furnished  Rohini Sector        1   \n",
       "19   650.0000    2         2  Semi-Furnished  Rohini Sector        1   \n",
       "20   850.0000    2         2  Semi-Furnished  Rohini Sector        1   \n",
       "\n",
       "       Price         Status   Transaction           Type  Per_Sqft  \n",
       "0    6500000  Ready_to_move  New_Property  Builder_Floor    8125.0  \n",
       "1    5000000  Ready_to_move  New_Property      Apartment    6667.0  \n",
       "2   15500000  Ready_to_move        Resale      Apartment    6667.0  \n",
       "3    4200000  Ready_to_move        Resale  Builder_Floor    6667.0  \n",
       "4    6200000  Ready_to_move  New_Property  Builder_Floor    6667.0  \n",
       "5   15500000  Ready_to_move  New_Property  Builder_Floor    6667.0  \n",
       "6   10000000  Ready_to_move        Resale  Builder_Floor    6667.0  \n",
       "7    4000000  Ready_to_move  New_Property      Apartment    6154.0  \n",
       "9   15000000  Ready_to_move  New_Property  Builder_Floor    6154.0  \n",
       "10   6200000  Ready_to_move  New_Property  Builder_Floor    6154.0  \n",
       "11   7700000  Ready_to_move  New_Property  Builder_Floor    6154.0  \n",
       "12   5500000  Ready_to_move  New_Property  Builder_Floor    6154.0  \n",
       "13   5000000  Ready_to_move        Resale  Builder_Floor    6154.0  \n",
       "14   3310000  Ready_to_move        Resale  Builder_Floor    6154.0  \n",
       "15   4700000  Ready_to_move  New_Property  Builder_Floor    6154.0  \n",
       "16   4500000  Ready_to_move  New_Property  Builder_Floor    6154.0  \n",
       "17  17000000  Ready_to_move  New_Property  Builder_Floor    6154.0  \n",
       "18  25000000  Ready_to_move        Resale      Apartment    6154.0  \n",
       "19   6000000  Ready_to_move        Resale  Builder_Floor    6154.0  \n",
       "20  11000000  Ready_to_move        Resale      Apartment    6154.0  "
      ]
     },
     "execution_count": 34,
     "metadata": {},
     "output_type": "execute_result"
    }
   ],
   "source": [
    "df.loc[dtemp].head(20)"
   ]
  },
  {
   "cell_type": "markdown",
   "id": "0a0e571e",
   "metadata": {},
   "source": [
    "There can be some possible reasons for the higher prices of properties which are not ready yet-\n",
    "1. The property is newly built.\n",
    "2. The area and bhk of these properties are more than 'almost ready' properties."
   ]
  },
  {
   "cell_type": "markdown",
   "id": "4a90e1f5",
   "metadata": {},
   "source": [
    "# Transaction and Price"
   ]
  },
  {
   "cell_type": "code",
   "execution_count": 35,
   "id": "fb70efa8",
   "metadata": {},
   "outputs": [
    {
     "data": {
      "text/plain": [
       "<AxesSubplot:xlabel='Transaction', ylabel='Price'>"
      ]
     },
     "execution_count": 35,
     "metadata": {},
     "output_type": "execute_result"
    },
    {
     "data": {
      "image/png": "[encoded data removed]",
      "text/plain": [
       "<Figure size 1080x504 with 2 Axes>"
      ]
     },
     "metadata": {
      "needs_background": "light"
     },
     "output_type": "display_data"
    }
   ],
   "source": [
    "plt.figure(figsize=(15,7))\n",
    "plt.subplot(1,2,1)\n",
    "sns.countplot(x=df['Transaction'])\n",
    "plt.subplot(1,2,2)\n",
    "sns.boxplot(x=df['Transaction'],y=df['Price'])"
   ]
  },
  {
   "cell_type": "markdown",
   "id": "5113e583",
   "metadata": {},
   "source": [
    "1. As expected, the prices of newly constructed properties are more than the properties going for the resale.\n",
    "2. That is the possible reason for the higher prices of almost ready properties than the properties that are ready to move in."
   ]
  },
  {
   "cell_type": "markdown",
   "id": "51dc12fd",
   "metadata": {},
   "source": [
    "# Type and Price"
   ]
  },
  {
   "cell_type": "code",
   "execution_count": 36,
   "id": "3cdedcdd",
   "metadata": {},
   "outputs": [
    {
     "data": {
      "text/plain": [
       "<AxesSubplot:xlabel='Type', ylabel='Price'>"
      ]
     },
     "execution_count": 36,
     "metadata": {},
     "output_type": "execute_result"
    },
    {
     "data": {
      "image/png": "[encoded data removed]",
      "text/plain": [
       "<Figure size 1080x504 with 2 Axes>"
      ]
     },
     "metadata": {
      "needs_background": "light"
     },
     "output_type": "display_data"
    }
   ],
   "source": [
    "plt.figure(figsize=(15,7))\n",
    "plt.subplot(1,2,1)\n",
    "sns.countplot(x=df['Type'])\n",
    "plt.subplot(1,2,2)\n",
    "sns.boxplot(x=df['Type'],y=df['Price'])"
   ]
  },
  {
   "cell_type": "markdown",
   "id": "0fdc9195",
   "metadata": {},
   "source": [
    "1. There is slight difference in demand of Builder_floor than apartment.\n",
    "2. The prices of Builder_floor is more than Apartment.\n",
    "3. May be Builder_floor is the choice of the most people."
   ]
  },
  {
   "cell_type": "markdown",
   "id": "35392065",
   "metadata": {},
   "source": [
    "# Locality and Price"
   ]
  },
  {
   "cell_type": "code",
   "execution_count": 37,
   "id": "c286cc61",
   "metadata": {},
   "outputs": [
    {
     "data": {
      "text/plain": [
       "(array([ 0,  1,  2,  3,  4,  5,  6,  7,  8,  9, 10, 11, 12]),\n",
       " [Text(0, 0, 'Rohini Sector'),\n",
       "  Text(1, 0, 'Lajpat Nagar'),\n",
       "  Text(2, 0, 'Dwarka Sector'),\n",
       "  Text(3, 0, 'Other'),\n",
       "  Text(4, 0, 'Laxmi Nagar'),\n",
       "  Text(5, 0, 'Kailash Colony'),\n",
       "  Text(6, 0, 'Vasant Kunj'),\n",
       "  Text(7, 0, 'New Friends Colony'),\n",
       "  Text(8, 0, 'Shahdara'),\n",
       "  Text(9, 0, 'Punjabi Bagh'),\n",
       "  Text(10, 0, 'Paschim Vihar'),\n",
       "  Text(11, 0, 'Vasundhara Enclave'),\n",
       "  Text(12, 0, 'Kalkaji')])"
      ]
     },
     "execution_count": 37,
     "metadata": {},
     "output_type": "execute_result"
    },
    {
     "data": {
      "image/png": "[encoded data removed]",
      "text/plain": [
       "<Figure size 1080x504 with 1 Axes>"
      ]
     },
     "metadata": {
      "needs_background": "light"
     },
     "output_type": "display_data"
    }
   ],
   "source": [
    "plt.figure(figsize=(15,7))\n",
    "sns.boxplot(x=df['Locality'],y=df['Price'])\n",
    "plt.xticks(rotation=90)"
   ]
  },
  {
   "cell_type": "markdown",
   "id": "ededaed8",
   "metadata": {},
   "source": [
    "# Correlation Heatmap"
   ]
  },
  {
   "cell_type": "code",
   "execution_count": 38,
   "id": "c38ab467",
   "metadata": {},
   "outputs": [
    {
     "data": {
      "text/plain": [
       "<AxesSubplot:>"
      ]
     },
     "execution_count": 38,
     "metadata": {},
     "output_type": "execute_result"
    },
    {
     "data": {
      "image/png": "[encoded data removed]",
      "text/plain": [
       "<Figure size 1080x720 with 2 Axes>"
      ]
     },
     "metadata": {
      "needs_background": "light"
     },
     "output_type": "display_data"
    }
   ],
   "source": [
    "plt.figure(figsize=(15,10))\n",
    "sns.heatmap(df.corr(),annot=True)"
   ]
  },
  {
   "cell_type": "markdown",
   "id": "2f6b29cc",
   "metadata": {},
   "source": [
    "1. There is a direct correlation between BHK and Area.\n",
    "2. There is a direct correlation between Bathroom Area and BHK.\n",
    "3. There is a direct correlation between Price, BHK ,Bathroom and Area.\n",
    "4. There is a slight correlation between Price and Parking.\n",
    "5. There is a correlation between Price and Per_sqft as Per_sqft is derived from Price ans Area itself."
   ]
  },
  {
   "cell_type": "markdown",
   "id": "cba23fd2",
   "metadata": {},
   "source": [
    "# BHK, Bathroom and Area"
   ]
  },
  {
   "cell_type": "code",
   "execution_count": 39,
   "id": "a9cc4c79",
   "metadata": {},
   "outputs": [
    {
     "data": {
      "text/plain": [
       "<AxesSubplot:xlabel='Bathroom', ylabel='Area'>"
      ]
     },
     "execution_count": 39,
     "metadata": {},
     "output_type": "execute_result"
    },
    {
     "data": {
      "image/png": "[encoded data removed]",
      "text/plain": [
       "<Figure size 1080x504 with 2 Axes>"
      ]
     },
     "metadata": {
      "needs_background": "light"
     },
     "output_type": "display_data"
    }
   ],
   "source": [
    "plt.figure(figsize=(15,7))\n",
    "plt.subplot(121)\n",
    "sns.barplot(x=df['BHK'],y=df['Area'])\n",
    "plt.subplot(122)\n",
    "sns.barplot(x=df['Bathroom'],y=df['Area'])"
   ]
  },
  {
   "cell_type": "markdown",
   "id": "65205ba1",
   "metadata": {},
   "source": [
    "1. The area for 6,7 and 10 BHK is less than 5 BHK that explains the price difference of 5 BHK and 6,7,10 BHK properties."
   ]
  },
  {
   "cell_type": "markdown",
   "id": "73764fb9",
   "metadata": {},
   "source": [
    "## Date Preprocessing"
   ]
  },
  {
   "cell_type": "markdown",
   "id": "bd43a271",
   "metadata": {},
   "source": [
    "##### Let's remove the outliers . "
   ]
  },
  {
   "cell_type": "code",
   "execution_count": 40,
   "id": "93e12de3",
   "metadata": {},
   "outputs": [],
   "source": [
    "from scipy import stats\n",
    "z = np.abs(stats.zscore(df[df.dtypes[df.dtypes != 'object'].index]))\n",
    "df = df[(z < 3).all(axis=1)]"
   ]
  },
  {
   "cell_type": "code",
   "execution_count": 41,
   "id": "940705e8",
   "metadata": {},
   "outputs": [
    {
     "data": {
      "text/plain": [
       "(1090, 11)"
      ]
     },
     "execution_count": 41,
     "metadata": {},
     "output_type": "execute_result"
    }
   ],
   "source": [
    "df.shape"
   ]
  },
  {
   "cell_type": "code",
   "execution_count": 42,
   "id": "0a9ee8fc",
   "metadata": {},
   "outputs": [
    {
     "data": {
      "text/plain": [
       "Area           float64\n",
       "BHK              int64\n",
       "Bathroom         int64\n",
       "Furnishing      object\n",
       "Locality        object\n",
       "Parking          int64\n",
       "Price            int64\n",
       "Status          object\n",
       "Transaction     object\n",
       "Type            object\n",
       "Per_Sqft       float64\n",
       "dtype: object"
      ]
     },
     "execution_count": 42,
     "metadata": {},
     "output_type": "execute_result"
    }
   ],
   "source": [
    "df.dtypes"
   ]
  },
  {
   "cell_type": "markdown",
   "id": "b48fb561",
   "metadata": {},
   "source": [
    "#### Label Encoding"
   ]
  },
  {
   "cell_type": "code",
   "execution_count": 43,
   "id": "04564bc8",
   "metadata": {},
   "outputs": [],
   "source": [
    "from sklearn.preprocessing import LabelEncoder"
   ]
  },
  {
   "cell_type": "code",
   "execution_count": 44,
   "id": "0f03a874",
   "metadata": {},
   "outputs": [
    {
     "name": "stdout",
     "output_type": "stream",
     "text": [
      "Furnishing [1 0 2]\n",
      "Locality [ 9  3  0  6  4  1 11  5 10  7 12  8  2]\n",
      "Status [1 0]\n",
      "Transaction [0 1]\n",
      "Type [1 0]\n"
     ]
    }
   ],
   "source": [
    "le=LabelEncoder()\n",
    "col=['Furnishing','Locality','Status','Transaction','Type']\n",
    "for i in col:\n",
    "    le.fit(df[i])\n",
    "    df[i]=le.transform(df[i])\n",
    "    print(i,df[i].unique())   "
   ]
  },
  {
   "cell_type": "markdown",
   "id": "a1d3f691",
   "metadata": {},
   "source": [
    "## Train_Test_Split"
   ]
  },
  {
   "cell_type": "code",
   "execution_count": 45,
   "id": "11a18d8b",
   "metadata": {},
   "outputs": [],
   "source": [
    "from sklearn.model_selection import train_test_split\n",
    "X_train,X_test,y_train,y_test=train_test_split(df.drop('Price',axis=1),df['Price'],test_size=0.2,random_state=2)"
   ]
  },
  {
   "cell_type": "markdown",
   "id": "7a7c621d",
   "metadata": {},
   "source": [
    "# Decision Tree Regressor"
   ]
  },
  {
   "cell_type": "code",
   "execution_count": 46,
   "id": "f9a31c17",
   "metadata": {},
   "outputs": [],
   "source": [
    "from sklearn.tree import DecisionTreeRegressor\n",
    "dtr=DecisionTreeRegressor(max_depth=6)"
   ]
  },
  {
   "cell_type": "code",
   "execution_count": 47,
   "id": "d264357c",
   "metadata": {},
   "outputs": [
    {
     "data": {
      "text/html": [
       "<style>#sk-container-id-1 {color: black;}#sk-container-id-1 pre{padding: 0;}#sk-container-id-1 div.sk-toggleable {background-color: white;}#sk-container-id-1 label.sk-toggleable__label {cursor: pointer;display: block;width: 100%;margin-bottom: 0;padding: 0.3em;box-sizing: border-box;text-align: center;}#sk-container-id-1 label.sk-toggleable__label-arrow:before {content: \"▸\";float: left;margin-right: 0.25em;color: #696969;}#sk-container-id-1 label.sk-toggleable__label-arrow:hover:before {color: black;}#sk-container-id-1 div.sk-estimator:hover label.sk-toggleable__label-arrow:before {color: black;}#sk-container-id-1 div.sk-toggleable__content {max-height: 0;max-width: 0;overflow: hidden;text-align: left;background-color: #f0f8ff;}#sk-container-id-1 div.sk-toggleable__content pre {margin: 0.2em;color: black;border-radius: 0.25em;background-color: #f0f8ff;}#sk-container-id-1 input.sk-toggleable__control:checked~div.sk-toggleable__content {max-height: 200px;max-width: 100%;overflow: auto;}#sk-container-id-1 input.sk-toggleable__control:checked~label.sk-toggleable__label-arrow:before {content: \"▾\";}#sk-container-id-1 div.sk-estimator input.sk-toggleable__control:checked~label.sk-toggleable__label {background-color: #d4ebff;}#sk-container-id-1 div.sk-label input.sk-toggleable__control:checked~label.sk-toggleable__label {background-color: #d4ebff;}#sk-container-id-1 input.sk-hidden--visually {border: 0;clip: rect(1px 1px 1px 1px);clip: rect(1px, 1px, 1px, 1px);height: 1px;margin: -1px;overflow: hidden;padding: 0;position: absolute;width: 1px;}#sk-container-id-1 div.sk-estimator {font-family: monospace;background-color: #f0f8ff;border: 1px dotted black;border-radius: 0.25em;box-sizing: border-box;margin-bottom: 0.5em;}#sk-container-id-1 div.sk-estimator:hover {background-color: #d4ebff;}#sk-container-id-1 div.sk-parallel-item::after {content: \"\";width: 100%;border-bottom: 1px solid gray;flex-grow: 1;}#sk-container-id-1 div.sk-label:hover label.sk-toggleable__label {background-color: #d4ebff;}#sk-container-id-1 div.sk-serial::before {content: \"\";position: absolute;border-left: 1px solid gray;box-sizing: border-box;top: 0;bottom: 0;left: 50%;z-index: 0;}#sk-container-id-1 div.sk-serial {display: flex;flex-direction: column;align-items: center;background-color: white;padding-right: 0.2em;padding-left: 0.2em;position: relative;}#sk-container-id-1 div.sk-item {position: relative;z-index: 1;}#sk-container-id-1 div.sk-parallel {display: flex;align-items: stretch;justify-content: center;background-color: white;position: relative;}#sk-container-id-1 div.sk-item::before, #sk-container-id-1 div.sk-parallel-item::before {content: \"\";position: absolute;border-left: 1px solid gray;box-sizing: border-box;top: 0;bottom: 0;left: 50%;z-index: -1;}#sk-container-id-1 div.sk-parallel-item {display: flex;flex-direction: column;z-index: 1;position: relative;background-color: white;}#sk-container-id-1 div.sk-parallel-item:first-child::after {align-self: flex-end;width: 50%;}#sk-container-id-1 div.sk-parallel-item:last-child::after {align-self: flex-start;width: 50%;}#sk-container-id-1 div.sk-parallel-item:only-child::after {width: 0;}#sk-container-id-1 div.sk-dashed-wrapped {border: 1px dashed gray;margin: 0 0.4em 0.5em 0.4em;box-sizing: border-box;padding-bottom: 0.4em;background-color: white;}#sk-container-id-1 div.sk-label label {font-family: monospace;font-weight: bold;display: inline-block;line-height: 1.2em;}#sk-container-id-1 div.sk-label-container {text-align: center;}#sk-container-id-1 div.sk-container {/* jupyter's `normalize.less` sets `[hidden] { display: none; }` but bootstrap.min.css set `[hidden] { display: none !important; }` so we also need the `!important` here to be able to override the default hidden behavior on the sphinx rendered scikit-learn.org. See: https://github.com/scikit-learn/scikit-learn/issues/21755 */display: inline-block !important;position: relative;}#sk-container-id-1 div.sk-text-repr-fallback {display: none;}</style><div id=\"sk-container-id-1\" class=\"sk-top-container\"><div class=\"sk-text-repr-fallback\"><pre>DecisionTreeRegressor(max_depth=6)</pre><b>In a Jupyter environment, please rerun this cell to show the HTML representation or trust the notebook. <br />On GitHub, the HTML representation is unable to render, please try loading this page with nbviewer.org.</b></div><div class=\"sk-container\" hidden><div class=\"sk-item\"><div class=\"sk-estimator sk-toggleable\"><input class=\"sk-toggleable__control sk-hidden--visually\" id=\"sk-estimator-id-1\" type=\"checkbox\" checked><label for=\"sk-estimator-id-1\" class=\"sk-toggleable__label sk-toggleable__label-arrow\">DecisionTreeRegressor</label><div class=\"sk-toggleable__content\"><pre>DecisionTreeRegressor(max_depth=6)</pre></div></div></div></div></div>"
      ],
      "text/plain": [
       "DecisionTreeRegressor(max_depth=6)"
      ]
     },
     "execution_count": 47,
     "metadata": {},
     "output_type": "execute_result"
    }
   ],
   "source": [
    "dtr.fit(X_train,y_train)"
   ]
  },
  {
   "cell_type": "code",
   "execution_count": 48,
   "id": "d7c788b4",
   "metadata": {},
   "outputs": [],
   "source": [
    "dtr_pred=dtr.predict(X_test)"
   ]
  },
  {
   "cell_type": "markdown",
   "id": "d7ab23f1",
   "metadata": {},
   "source": [
    "# Evaluting Decision Tree Regressor Model"
   ]
  },
  {
   "cell_type": "code",
   "execution_count": 49,
   "id": "c6dea372",
   "metadata": {},
   "outputs": [
    {
     "data": {
      "text/html": [
       "<div>\n",
       "<style scoped>\n",
       "    .dataframe tbody tr th:only-of-type {\n",
       "        vertical-align: middle;\n",
       "    }\n",
       "\n",
       "    .dataframe tbody tr th {\n",
       "        vertical-align: top;\n",
       "    }\n",
       "\n",
       "    .dataframe thead th {\n",
       "        text-align: right;\n",
       "    }\n",
       "</style>\n",
       "<table border=\"1\" class=\"dataframe\">\n",
       "  <thead>\n",
       "    <tr style=\"text-align: right;\">\n",
       "      <th></th>\n",
       "      <th>Actual_Price</th>\n",
       "      <th>Predicted_Price</th>\n",
       "    </tr>\n",
       "  </thead>\n",
       "  <tbody>\n",
       "    <tr>\n",
       "      <th>0</th>\n",
       "      <td>42500000</td>\n",
       "      <td>4.666667e+07</td>\n",
       "    </tr>\n",
       "    <tr>\n",
       "      <th>1</th>\n",
       "      <td>17500000</td>\n",
       "      <td>1.400689e+07</td>\n",
       "    </tr>\n",
       "    <tr>\n",
       "      <th>2</th>\n",
       "      <td>3300000</td>\n",
       "      <td>6.410143e+06</td>\n",
       "    </tr>\n",
       "    <tr>\n",
       "      <th>3</th>\n",
       "      <td>13100000</td>\n",
       "      <td>1.400689e+07</td>\n",
       "    </tr>\n",
       "    <tr>\n",
       "      <th>4</th>\n",
       "      <td>14500000</td>\n",
       "      <td>1.565505e+07</td>\n",
       "    </tr>\n",
       "  </tbody>\n",
       "</table>\n",
       "</div>"
      ],
      "text/plain": [
       "   Actual_Price  Predicted_Price\n",
       "0      42500000     4.666667e+07\n",
       "1      17500000     1.400689e+07\n",
       "2       3300000     6.410143e+06\n",
       "3      13100000     1.400689e+07\n",
       "4      14500000     1.565505e+07"
      ]
     },
     "execution_count": 49,
     "metadata": {},
     "output_type": "execute_result"
    }
   ],
   "source": [
    "dft=pd.DataFrame({'Actual_Price':y_test,'Predicted_Price':dtr_pred})\n",
    "dft.reset_index(drop=True,inplace=True)\n",
    "dft.head()"
   ]
  },
  {
   "cell_type": "code",
   "execution_count": 50,
   "id": "9c112f94",
   "metadata": {},
   "outputs": [
    {
     "data": {
      "text/plain": [
       "<matplotlib.legend.Legend at 0x273212af790>"
      ]
     },
     "execution_count": 50,
     "metadata": {},
     "output_type": "execute_result"
    },
    {
     "data": {
      "image/png": "[encoded data removed]",
      "text/plain": [
       "<Figure size 1080x720 with 1 Axes>"
      ]
     },
     "metadata": {
      "needs_background": "light"
     },
     "output_type": "display_data"
    }
   ],
   "source": [
    "plt.figure(figsize=(15,10))\n",
    "sns.distplot(dft['Actual_Price'],color='red',label='Actual Price',hist=False)\n",
    "sns.distplot(dft['Predicted_Price'],color='green',label='Predicted Price',hist=False)\n",
    "plt.legend()"
   ]
  },
  {
   "cell_type": "code",
   "execution_count": 51,
   "id": "050dc70b",
   "metadata": {},
   "outputs": [
    {
     "name": "stdout",
     "output_type": "stream",
     "text": [
      "R2_Score: 0.7574758346730102\n"
     ]
    }
   ],
   "source": [
    "from sklearn.metrics import r2_score, mean_squared_error, mean_absolute_error\n",
    "print('R2_Score:',r2_score(y_test,dtr_pred))\n",
    "#print('Mean_Squared_Error:',mean_squared_error(y_test,dtr_pred))\n",
    "#print('Mean_absolute_error:',mean_absolute_error(y_test,dtr_pred))\n",
    "#print(\"Root Mean Squared Error: \", np.sqrt(mean_squared_error(y_test, dtr_pred)))"
   ]
  },
  {
   "cell_type": "markdown",
   "id": "5f250bb4",
   "metadata": {},
   "source": [
    "# Random Forest Regressor"
   ]
  },
  {
   "cell_type": "code",
   "execution_count": 52,
   "id": "9d4ff5c0",
   "metadata": {},
   "outputs": [],
   "source": [
    "from sklearn.ensemble import RandomForestRegressor"
   ]
  },
  {
   "cell_type": "code",
   "execution_count": 53,
   "id": "2c15613d",
   "metadata": {},
   "outputs": [],
   "source": [
    "rfr=RandomForestRegressor()"
   ]
  },
  {
   "cell_type": "code",
   "execution_count": 54,
   "id": "ac036efd",
   "metadata": {},
   "outputs": [],
   "source": [
    "# for training the random forest without passing headers\n",
    "# for pickel file\n",
    "# df_wout_col=X_train\n",
    "# df_wout_col.columns = [None] * len(df_wout_col.columns)"
   ]
  },
  {
   "cell_type": "code",
   "execution_count": 55,
   "id": "3014885a",
   "metadata": {},
   "outputs": [
    {
     "data": {
      "text/html": [
       "<style>#sk-container-id-2 {color: black;}#sk-container-id-2 pre{padding: 0;}#sk-container-id-2 div.sk-toggleable {background-color: white;}#sk-container-id-2 label.sk-toggleable__label {cursor: pointer;display: block;width: 100%;margin-bottom: 0;padding: 0.3em;box-sizing: border-box;text-align: center;}#sk-container-id-2 label.sk-toggleable__label-arrow:before {content: \"▸\";float: left;margin-right: 0.25em;color: #696969;}#sk-container-id-2 label.sk-toggleable__label-arrow:hover:before {color: black;}#sk-container-id-2 div.sk-estimator:hover label.sk-toggleable__label-arrow:before {color: black;}#sk-container-id-2 div.sk-toggleable__content {max-height: 0;max-width: 0;overflow: hidden;text-align: left;background-color: #f0f8ff;}#sk-container-id-2 div.sk-toggleable__content pre {margin: 0.2em;color: black;border-radius: 0.25em;background-color: #f0f8ff;}#sk-container-id-2 input.sk-toggleable__control:checked~div.sk-toggleable__content {max-height: 200px;max-width: 100%;overflow: auto;}#sk-container-id-2 input.sk-toggleable__control:checked~label.sk-toggleable__label-arrow:before {content: \"▾\";}#sk-container-id-2 div.sk-estimator input.sk-toggleable__control:checked~label.sk-toggleable__label {background-color: #d4ebff;}#sk-container-id-2 div.sk-label input.sk-toggleable__control:checked~label.sk-toggleable__label {background-color: #d4ebff;}#sk-container-id-2 input.sk-hidden--visually {border: 0;clip: rect(1px 1px 1px 1px);clip: rect(1px, 1px, 1px, 1px);height: 1px;margin: -1px;overflow: hidden;padding: 0;position: absolute;width: 1px;}#sk-container-id-2 div.sk-estimator {font-family: monospace;background-color: #f0f8ff;border: 1px dotted black;border-radius: 0.25em;box-sizing: border-box;margin-bottom: 0.5em;}#sk-container-id-2 div.sk-estimator:hover {background-color: #d4ebff;}#sk-container-id-2 div.sk-parallel-item::after {content: \"\";width: 100%;border-bottom: 1px solid gray;flex-grow: 1;}#sk-container-id-2 div.sk-label:hover label.sk-toggleable__label {background-color: #d4ebff;}#sk-container-id-2 div.sk-serial::before {content: \"\";position: absolute;border-left: 1px solid gray;box-sizing: border-box;top: 0;bottom: 0;left: 50%;z-index: 0;}#sk-container-id-2 div.sk-serial {display: flex;flex-direction: column;align-items: center;background-color: white;padding-right: 0.2em;padding-left: 0.2em;position: relative;}#sk-container-id-2 div.sk-item {position: relative;z-index: 1;}#sk-container-id-2 div.sk-parallel {display: flex;align-items: stretch;justify-content: center;background-color: white;position: relative;}#sk-container-id-2 div.sk-item::before, #sk-container-id-2 div.sk-parallel-item::before {content: \"\";position: absolute;border-left: 1px solid gray;box-sizing: border-box;top: 0;bottom: 0;left: 50%;z-index: -1;}#sk-container-id-2 div.sk-parallel-item {display: flex;flex-direction: column;z-index: 1;position: relative;background-color: white;}#sk-container-id-2 div.sk-parallel-item:first-child::after {align-self: flex-end;width: 50%;}#sk-container-id-2 div.sk-parallel-item:last-child::after {align-self: flex-start;width: 50%;}#sk-container-id-2 div.sk-parallel-item:only-child::after {width: 0;}#sk-container-id-2 div.sk-dashed-wrapped {border: 1px dashed gray;margin: 0 0.4em 0.5em 0.4em;box-sizing: border-box;padding-bottom: 0.4em;background-color: white;}#sk-container-id-2 div.sk-label label {font-family: monospace;font-weight: bold;display: inline-block;line-height: 1.2em;}#sk-container-id-2 div.sk-label-container {text-align: center;}#sk-container-id-2 div.sk-container {/* jupyter's `normalize.less` sets `[hidden] { display: none; }` but bootstrap.min.css set `[hidden] { display: none !important; }` so we also need the `!important` here to be able to override the default hidden behavior on the sphinx rendered scikit-learn.org. See: https://github.com/scikit-learn/scikit-learn/issues/21755 */display: inline-block !important;position: relative;}#sk-container-id-2 div.sk-text-repr-fallback {display: none;}</style><div id=\"sk-container-id-2\" class=\"sk-top-container\"><div class=\"sk-text-repr-fallback\"><pre>RandomForestRegressor()</pre><b>In a Jupyter environment, please rerun this cell to show the HTML representation or trust the notebook. <br />On GitHub, the HTML representation is unable to render, please try loading this page with nbviewer.org.</b></div><div class=\"sk-container\" hidden><div class=\"sk-item\"><div class=\"sk-estimator sk-toggleable\"><input class=\"sk-toggleable__control sk-hidden--visually\" id=\"sk-estimator-id-2\" type=\"checkbox\" checked><label for=\"sk-estimator-id-2\" class=\"sk-toggleable__label sk-toggleable__label-arrow\">RandomForestRegressor</label><div class=\"sk-toggleable__content\"><pre>RandomForestRegressor()</pre></div></div></div></div></div>"
      ],
      "text/plain": [
       "RandomForestRegressor()"
      ]
     },
     "execution_count": 55,
     "metadata": {},
     "output_type": "execute_result"
    }
   ],
   "source": [
    "rfr.fit(X_train,y_train)"
   ]
  },
  {
   "cell_type": "code",
   "execution_count": 56,
   "id": "34ef54c7",
   "metadata": {},
   "outputs": [],
   "source": [
    "#import joblib\n",
    "#joblib.dump(rfr, 'rfr.pkl')"
   ]
  },
  {
   "cell_type": "code",
   "execution_count": 57,
   "id": "8270491f",
   "metadata": {},
   "outputs": [],
   "source": [
    "r_pred=rfr.predict(X_test)"
   ]
  },
  {
   "cell_type": "markdown",
   "id": "cab12942",
   "metadata": {},
   "source": [
    "# Evaluating Random Forest"
   ]
  },
  {
   "cell_type": "code",
   "execution_count": 58,
   "id": "b6dbf6a3",
   "metadata": {},
   "outputs": [
    {
     "data": {
      "text/html": [
       "<div>\n",
       "<style scoped>\n",
       "    .dataframe tbody tr th:only-of-type {\n",
       "        vertical-align: middle;\n",
       "    }\n",
       "\n",
       "    .dataframe tbody tr th {\n",
       "        vertical-align: top;\n",
       "    }\n",
       "\n",
       "    .dataframe thead th {\n",
       "        text-align: right;\n",
       "    }\n",
       "</style>\n",
       "<table border=\"1\" class=\"dataframe\">\n",
       "  <thead>\n",
       "    <tr style=\"text-align: right;\">\n",
       "      <th></th>\n",
       "      <th>Actual</th>\n",
       "      <th>Predicted</th>\n",
       "    </tr>\n",
       "  </thead>\n",
       "  <tbody>\n",
       "    <tr>\n",
       "      <th>0</th>\n",
       "      <td>42500000</td>\n",
       "      <td>47057000.0</td>\n",
       "    </tr>\n",
       "    <tr>\n",
       "      <th>1</th>\n",
       "      <td>17500000</td>\n",
       "      <td>10544700.0</td>\n",
       "    </tr>\n",
       "    <tr>\n",
       "      <th>2</th>\n",
       "      <td>3300000</td>\n",
       "      <td>4689000.0</td>\n",
       "    </tr>\n",
       "    <tr>\n",
       "      <th>3</th>\n",
       "      <td>13100000</td>\n",
       "      <td>15858200.0</td>\n",
       "    </tr>\n",
       "    <tr>\n",
       "      <th>4</th>\n",
       "      <td>14500000</td>\n",
       "      <td>10649400.0</td>\n",
       "    </tr>\n",
       "  </tbody>\n",
       "</table>\n",
       "</div>"
      ],
      "text/plain": [
       "     Actual   Predicted\n",
       "0  42500000  47057000.0\n",
       "1  17500000  10544700.0\n",
       "2   3300000   4689000.0\n",
       "3  13100000  15858200.0\n",
       "4  14500000  10649400.0"
      ]
     },
     "execution_count": 58,
     "metadata": {},
     "output_type": "execute_result"
    }
   ],
   "source": [
    "dfr=pd.DataFrame({'Actual':y_test,'Predicted':r_pred})\n",
    "dfr.reset_index(drop=True,inplace=True)\n",
    "dfr.head()"
   ]
  },
  {
   "cell_type": "code",
   "execution_count": 59,
   "id": "0703f30b",
   "metadata": {},
   "outputs": [
    {
     "data": {
      "text/plain": [
       "<AxesSubplot:ylabel='Density'>"
      ]
     },
     "execution_count": 59,
     "metadata": {},
     "output_type": "execute_result"
    },
    {
     "data": {
      "image/png": "[encoded data removed]",
      "text/plain": [
       "<Figure size 1080x720 with 1 Axes>"
      ]
     },
     "metadata": {
      "needs_background": "light"
     },
     "output_type": "display_data"
    }
   ],
   "source": [
    "plt.figure(figsize=(15,10))\n",
    "sns.distplot(x=dfr['Actual'],color='red',hist=False,label='Actual_Price')\n",
    "sns.distplot(x=dfr['Predicted'],color='green',hist=False,label='Predicted_Price')"
   ]
  },
  {
   "cell_type": "code",
   "execution_count": 60,
   "id": "22f01010",
   "metadata": {},
   "outputs": [
    {
     "name": "stdout",
     "output_type": "stream",
     "text": [
      "R2_Score: 0.868625153730545\n"
     ]
    }
   ],
   "source": [
    "print('R2_Score:',r2_score(y_test,r_pred))\n",
    "#print('Mean_Squared_Error:',mean_squared_error(y_test,r_pred))\n",
    "#print('Mean_absolute_error:',mean_absolute_error(y_test,r_pred))\n",
    "#print(\"Root Mean Squared Error: \", np.sqrt(mean_squared_error(y_test, r_pred)))"
   ]
  },
  {
   "cell_type": "markdown",
   "id": "6f88e71b",
   "metadata": {},
   "source": [
    "# XGBoost Regressor"
   ]
  },
  {
   "cell_type": "code",
   "execution_count": 61,
   "id": "129c95c6",
   "metadata": {},
   "outputs": [],
   "source": [
    "from xgboost import XGBRegressor\n",
    "RegModel=XGBRegressor(max_depth=3, learning_rate=0.1, n_estimators=500, objective='reg:squarederror', booster='gbtree')"
   ]
  },
  {
   "cell_type": "code",
   "execution_count": 62,
   "id": "4ccd015d",
   "metadata": {},
   "outputs": [],
   "source": [
    "XGB=RegModel.fit(X_train,y_train)\n",
    "xgb_prediction=XGB.predict(X_test)"
   ]
  },
  {
   "cell_type": "markdown",
   "id": "cb8a6da2",
   "metadata": {},
   "source": [
    "# Evaluating XGBoost"
   ]
  },
  {
   "cell_type": "code",
   "execution_count": 63,
   "id": "577fdbd1",
   "metadata": {},
   "outputs": [
    {
     "data": {
      "text/html": [
       "<div>\n",
       "<style scoped>\n",
       "    .dataframe tbody tr th:only-of-type {\n",
       "        vertical-align: middle;\n",
       "    }\n",
       "\n",
       "    .dataframe tbody tr th {\n",
       "        vertical-align: top;\n",
       "    }\n",
       "\n",
       "    .dataframe thead th {\n",
       "        text-align: right;\n",
       "    }\n",
       "</style>\n",
       "<table border=\"1\" class=\"dataframe\">\n",
       "  <thead>\n",
       "    <tr style=\"text-align: right;\">\n",
       "      <th></th>\n",
       "      <th>Actual</th>\n",
       "      <th>Predicted</th>\n",
       "    </tr>\n",
       "  </thead>\n",
       "  <tbody>\n",
       "    <tr>\n",
       "      <th>0</th>\n",
       "      <td>42500000</td>\n",
       "      <td>43905644.00</td>\n",
       "    </tr>\n",
       "    <tr>\n",
       "      <th>1</th>\n",
       "      <td>17500000</td>\n",
       "      <td>11755837.00</td>\n",
       "    </tr>\n",
       "    <tr>\n",
       "      <th>2</th>\n",
       "      <td>3300000</td>\n",
       "      <td>3928304.75</td>\n",
       "    </tr>\n",
       "    <tr>\n",
       "      <th>3</th>\n",
       "      <td>13100000</td>\n",
       "      <td>14460811.00</td>\n",
       "    </tr>\n",
       "    <tr>\n",
       "      <th>4</th>\n",
       "      <td>14500000</td>\n",
       "      <td>10682964.00</td>\n",
       "    </tr>\n",
       "  </tbody>\n",
       "</table>\n",
       "</div>"
      ],
      "text/plain": [
       "     Actual    Predicted\n",
       "0  42500000  43905644.00\n",
       "1  17500000  11755837.00\n",
       "2   3300000   3928304.75\n",
       "3  13100000  14460811.00\n",
       "4  14500000  10682964.00"
      ]
     },
     "execution_count": 63,
     "metadata": {},
     "output_type": "execute_result"
    }
   ],
   "source": [
    "xgb=pd.DataFrame({'Actual':y_test,'Predicted':xgb_prediction})\n",
    "xgb.reset_index(drop=True,inplace=True)\n",
    "xgb.head()"
   ]
  },
  {
   "cell_type": "code",
   "execution_count": 64,
   "id": "5e301127",
   "metadata": {},
   "outputs": [
    {
     "data": {
      "text/plain": [
       "<AxesSubplot:ylabel='Density'>"
      ]
     },
     "execution_count": 64,
     "metadata": {},
     "output_type": "execute_result"
    },
    {
     "data": {
      "image/png": "[encoded data removed]",
      "text/plain": [
       "<Figure size 1080x720 with 1 Axes>"
      ]
     },
     "metadata": {
      "needs_background": "light"
     },
     "output_type": "display_data"
    }
   ],
   "source": [
    "plt.figure(figsize=(15,10))\n",
    "sns.distplot(x=xgb['Actual'],color='red',hist=False,label='Actual_Price')\n",
    "sns.distplot(x=xgb['Predicted'],color='green',hist=False,label='Predicted_Price')"
   ]
  },
  {
   "cell_type": "code",
   "execution_count": 65,
   "id": "9f7c5629",
   "metadata": {},
   "outputs": [
    {
     "name": "stdout",
     "output_type": "stream",
     "text": [
      "R2_Score: 0.8425106209651492\n"
     ]
    }
   ],
   "source": [
    "print('R2_Score:',r2_score(y_test,xgb_prediction))\n",
    "#print('Mean_Squared_Error:',mean_squared_error(y_test,xgb_prediction))\n",
    "#print('Mean_absolute_error:',mean_absolute_error(y_test,xgb_prediction))\n",
    "#print(\"Root Mean Squared Error: \", np.sqrt(mean_squared_error(y_test, xgb_prediction)))"
   ]
  }
 ],
 "metadata": {
  "kernelspec": {
   "display_name": "Python 3 (ipykernel)",
   "language": "python",
   "name": "python3"
  },
  "language_info": {
   "codemirror_mode": {
    "name": "ipython",
    "version": 3
   },
   "file_extension": ".py",
   "mimetype": "text/x-python",
   "name": "python",
   "nbconvert_exporter": "python",
   "pygments_lexer": "ipython3",
   "version": "3.9.12"
  }
 },
 "nbformat": 4,
 "nbformat_minor": 5
}
